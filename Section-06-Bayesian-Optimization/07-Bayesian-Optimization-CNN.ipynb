{
 "cells": [
  {
   "cell_type": "markdown",
   "metadata": {
    "_cell_guid": "d4c08f48-fe23-4ddb-ac46-d97f05397514",
    "_uuid": "f2156d1dd26a1243e18512002e10872c5bd7271e"
   },
   "source": [
    "# Bayesian Optimization of CNN with Scikit-Optimize\n",
    "\n",
    "In this notebook, we will use **Bayesian Optimization** to select the best **hyperparameters** for a CNN that recognizes digits in images, using the MNIST dataset and the open source Python package [Scikit-Optimize](https://scikit-optimize.github.io/stable/index.html).\n",
    "\n",
    "The MNIST dataset is availale in [Kaggle](https://www.kaggle.com/c/digit-recognizer/data).\n",
    "\n",
    "## Download dataset\n",
    "\n",
    "- Navigate to the [MNIST website in Kaggle](https://www.kaggle.com/c/digit-recognizer/data)\n",
    "- Download the train.csv file\n",
    "- Unzip and copy the train.csv file to where you see the SAVE_DATASETS-HERE.txt file\n",
    "- Rename to mnist.csv\n",
    "\n",
    "**Remember that you need to be logged in to be able to download the dataset**\n",
    "\n",
    "## Notebook content\n",
    "\n",
    "- Data Preparation\n",
    "- Set up a simple CNN\n",
    "- Set up the hyperparameter search shape\n",
    "- Set up the objective function\n",
    "- Perform Bayesian Optimization\n",
    "- Evaluate Model Performance"
   ]
  },
  {
   "cell_type": "code",
   "execution_count": 1,
   "metadata": {
    "_cell_guid": "f67b9393-8ea1-4e23-b856-2ce149cfe421",
    "_execution_state": "idle",
    "_uuid": "72334cb006d02a4bcfc2a2fe622524eba824c6f8"
   },
   "outputs": [],
   "source": [
    "import itertools\n",
    "\n",
    "import numpy as np\n",
    "import pandas as pd\n",
    "import matplotlib.pyplot as plt\n",
    "import seaborn as sns\n",
    "\n",
    "from sklearn.model_selection import train_test_split\n",
    "from sklearn.metrics import confusion_matrix"
   ]
  },
  {
   "cell_type": "code",
   "execution_count": 8,
   "metadata": {},
   "outputs": [],
   "source": [
    "import tensorflow as tf\n",
    "from tensorflow import keras\n",
    "from keras.utils.np_utils import to_categorical\n",
    "from tensorflow.keras.models import Sequential, load_model\n",
    "from tensorflow.keras.layers import Dense, Flatten, Conv2D, MaxPool2D\n",
    "from tensorflow.keras.optimizers import Adam\n",
    "from tensorflow.keras.callbacks import ReduceLROnPlateau"
   ]
  },
  {
   "cell_type": "code",
   "execution_count": 9,
   "metadata": {},
   "outputs": [],
   "source": [
    "from skopt import gp_minimize\n",
    "from skopt.space import Real, Categorical, Integer\n",
    "from skopt.plots import plot_convergence\n",
    "from skopt.plots import plot_objective, plot_evaluations\n",
    "from skopt.utils import use_named_args"
   ]
  },
  {
   "cell_type": "markdown",
   "metadata": {
    "_cell_guid": "6d2fb3e6-ab71-4974-b5a2-4af1ebdb99f4",
    "_execution_state": "idle",
    "_uuid": "86061d98eccaa02efe0dab0fa3884e71fcf4c310"
   },
   "source": [
    "#  Data Preparation\n",
    "\n",
    "The dataset contains information about images, each image is a hand-written digit. The aim is to have the computer predict which digit was written by the person, automatically, by \"looking\" at the image. \n",
    "\n",
    "Each image is 28 pixels in height and 28 pixels in width (28 x 28), making a total of 784 pixels. Each pixel value is an integer between 0 and 255, indicating the darkness in a gray-scale of that pixel.\n",
    "\n",
    "The data is stored in a dataframe where each each pixel is a column (so it is flattened and not in the 28 x 28 format). \n",
    "\n",
    "The data set the has 785 columns. The first column, called \"label\", is the digit that was drawn by the user. The rest of the columns contain the pixel-values of the associated image."
   ]
  },
  {
   "cell_type": "code",
   "execution_count": 10,
   "metadata": {
    "_cell_guid": "5e51d00e-62fd-4141-bf73-50ac4f2da7d0",
    "_execution_state": "idle",
    "_uuid": "84bbd5ab8d7895bd430d5ecfe2f7ddf77baa7b74"
   },
   "outputs": [
    {
     "data": {
      "text/html": [
       "<div>\n",
       "<style scoped>\n",
       "    .dataframe tbody tr th:only-of-type {\n",
       "        vertical-align: middle;\n",
       "    }\n",
       "\n",
       "    .dataframe tbody tr th {\n",
       "        vertical-align: top;\n",
       "    }\n",
       "\n",
       "    .dataframe thead th {\n",
       "        text-align: right;\n",
       "    }\n",
       "</style>\n",
       "<table border=\"1\" class=\"dataframe\">\n",
       "  <thead>\n",
       "    <tr style=\"text-align: right;\">\n",
       "      <th></th>\n",
       "      <th>label</th>\n",
       "      <th>pixel0</th>\n",
       "      <th>pixel1</th>\n",
       "      <th>pixel2</th>\n",
       "      <th>pixel3</th>\n",
       "      <th>pixel4</th>\n",
       "      <th>pixel5</th>\n",
       "      <th>pixel6</th>\n",
       "      <th>pixel7</th>\n",
       "      <th>pixel8</th>\n",
       "      <th>...</th>\n",
       "      <th>pixel774</th>\n",
       "      <th>pixel775</th>\n",
       "      <th>pixel776</th>\n",
       "      <th>pixel777</th>\n",
       "      <th>pixel778</th>\n",
       "      <th>pixel779</th>\n",
       "      <th>pixel780</th>\n",
       "      <th>pixel781</th>\n",
       "      <th>pixel782</th>\n",
       "      <th>pixel783</th>\n",
       "    </tr>\n",
       "  </thead>\n",
       "  <tbody>\n",
       "    <tr>\n",
       "      <th>0</th>\n",
       "      <td>1</td>\n",
       "      <td>0</td>\n",
       "      <td>0</td>\n",
       "      <td>0</td>\n",
       "      <td>0</td>\n",
       "      <td>0</td>\n",
       "      <td>0</td>\n",
       "      <td>0</td>\n",
       "      <td>0</td>\n",
       "      <td>0</td>\n",
       "      <td>...</td>\n",
       "      <td>0</td>\n",
       "      <td>0</td>\n",
       "      <td>0</td>\n",
       "      <td>0</td>\n",
       "      <td>0</td>\n",
       "      <td>0</td>\n",
       "      <td>0</td>\n",
       "      <td>0</td>\n",
       "      <td>0</td>\n",
       "      <td>0</td>\n",
       "    </tr>\n",
       "    <tr>\n",
       "      <th>1</th>\n",
       "      <td>0</td>\n",
       "      <td>0</td>\n",
       "      <td>0</td>\n",
       "      <td>0</td>\n",
       "      <td>0</td>\n",
       "      <td>0</td>\n",
       "      <td>0</td>\n",
       "      <td>0</td>\n",
       "      <td>0</td>\n",
       "      <td>0</td>\n",
       "      <td>...</td>\n",
       "      <td>0</td>\n",
       "      <td>0</td>\n",
       "      <td>0</td>\n",
       "      <td>0</td>\n",
       "      <td>0</td>\n",
       "      <td>0</td>\n",
       "      <td>0</td>\n",
       "      <td>0</td>\n",
       "      <td>0</td>\n",
       "      <td>0</td>\n",
       "    </tr>\n",
       "    <tr>\n",
       "      <th>2</th>\n",
       "      <td>1</td>\n",
       "      <td>0</td>\n",
       "      <td>0</td>\n",
       "      <td>0</td>\n",
       "      <td>0</td>\n",
       "      <td>0</td>\n",
       "      <td>0</td>\n",
       "      <td>0</td>\n",
       "      <td>0</td>\n",
       "      <td>0</td>\n",
       "      <td>...</td>\n",
       "      <td>0</td>\n",
       "      <td>0</td>\n",
       "      <td>0</td>\n",
       "      <td>0</td>\n",
       "      <td>0</td>\n",
       "      <td>0</td>\n",
       "      <td>0</td>\n",
       "      <td>0</td>\n",
       "      <td>0</td>\n",
       "      <td>0</td>\n",
       "    </tr>\n",
       "    <tr>\n",
       "      <th>3</th>\n",
       "      <td>4</td>\n",
       "      <td>0</td>\n",
       "      <td>0</td>\n",
       "      <td>0</td>\n",
       "      <td>0</td>\n",
       "      <td>0</td>\n",
       "      <td>0</td>\n",
       "      <td>0</td>\n",
       "      <td>0</td>\n",
       "      <td>0</td>\n",
       "      <td>...</td>\n",
       "      <td>0</td>\n",
       "      <td>0</td>\n",
       "      <td>0</td>\n",
       "      <td>0</td>\n",
       "      <td>0</td>\n",
       "      <td>0</td>\n",
       "      <td>0</td>\n",
       "      <td>0</td>\n",
       "      <td>0</td>\n",
       "      <td>0</td>\n",
       "    </tr>\n",
       "    <tr>\n",
       "      <th>4</th>\n",
       "      <td>0</td>\n",
       "      <td>0</td>\n",
       "      <td>0</td>\n",
       "      <td>0</td>\n",
       "      <td>0</td>\n",
       "      <td>0</td>\n",
       "      <td>0</td>\n",
       "      <td>0</td>\n",
       "      <td>0</td>\n",
       "      <td>0</td>\n",
       "      <td>...</td>\n",
       "      <td>0</td>\n",
       "      <td>0</td>\n",
       "      <td>0</td>\n",
       "      <td>0</td>\n",
       "      <td>0</td>\n",
       "      <td>0</td>\n",
       "      <td>0</td>\n",
       "      <td>0</td>\n",
       "      <td>0</td>\n",
       "      <td>0</td>\n",
       "    </tr>\n",
       "  </tbody>\n",
       "</table>\n",
       "<p>5 rows × 785 columns</p>\n",
       "</div>"
      ],
      "text/plain": [
       "   label  pixel0  pixel1  pixel2  pixel3  pixel4  pixel5  pixel6  pixel7  \\\n",
       "0      1       0       0       0       0       0       0       0       0   \n",
       "1      0       0       0       0       0       0       0       0       0   \n",
       "2      1       0       0       0       0       0       0       0       0   \n",
       "3      4       0       0       0       0       0       0       0       0   \n",
       "4      0       0       0       0       0       0       0       0       0   \n",
       "\n",
       "   pixel8  ...  pixel774  pixel775  pixel776  pixel777  pixel778  pixel779  \\\n",
       "0       0  ...         0         0         0         0         0         0   \n",
       "1       0  ...         0         0         0         0         0         0   \n",
       "2       0  ...         0         0         0         0         0         0   \n",
       "3       0  ...         0         0         0         0         0         0   \n",
       "4       0  ...         0         0         0         0         0         0   \n",
       "\n",
       "   pixel780  pixel781  pixel782  pixel783  \n",
       "0         0         0         0         0  \n",
       "1         0         0         0         0  \n",
       "2         0         0         0         0  \n",
       "3         0         0         0         0  \n",
       "4         0         0         0         0  \n",
       "\n",
       "[5 rows x 785 columns]"
      ]
     },
     "execution_count": 10,
     "metadata": {},
     "output_type": "execute_result"
    }
   ],
   "source": [
    "# Load the data\n",
    "\n",
    "data = pd.read_csv(\"../mnist.csv\")\n",
    "\n",
    "# first column is the target, the rest of the columns\n",
    "# are the pixels of the image\n",
    "\n",
    "# each row is 1 image\n",
    "data.head()"
   ]
  },
  {
   "cell_type": "code",
   "execution_count": 11,
   "metadata": {},
   "outputs": [
    {
     "data": {
      "text/plain": [
       "((37800, 784), (4200, 784))"
      ]
     },
     "execution_count": 11,
     "metadata": {},
     "output_type": "execute_result"
    }
   ],
   "source": [
    "# split dataset into a train and test set\n",
    "\n",
    "X_train, X_test, y_train, y_test = train_test_split(\n",
    "    data.drop(['label'], axis=1), # the images\n",
    "    data['label'], # the target\n",
    "    test_size = 0.1,\n",
    "    random_state=0)\n",
    "\n",
    "X_train.shape, X_test.shape"
   ]
  },
  {
   "cell_type": "code",
   "execution_count": 12,
   "metadata": {
    "_cell_guid": "86570a36-5c20-460a-9dfd-2070548532a7",
    "_execution_state": "idle",
    "_uuid": "1213b979d5ed3e0d13824d17d694c79d2ece92fa"
   },
   "outputs": [
    {
     "data": {
      "text/plain": [
       "Text(0, 0.5, 'Number of images')"
      ]
     },
     "execution_count": 12,
     "metadata": {},
     "output_type": "execute_result"
    },
    {
     "data": {
      "image/png": "[encoded data removed]",
      "text/plain": [
       "<Figure size 640x480 with 1 Axes>"
      ]
     },
     "metadata": {},
     "output_type": "display_data"
    }
   ],
   "source": [
    "# number of images for each digit\n",
    "\n",
    "g = sns.countplot(x=y_train)\n",
    "plt.xlabel('Digits')\n",
    "plt.ylabel('Number of images')"
   ]
  },
  {
   "cell_type": "markdown",
   "metadata": {
    "_cell_guid": "5aea4062-1790-4987-b739-c4bebd79030f",
    "_uuid": "b7b1b1d36243c885e57374c8b60c5a7e10abe922"
   },
   "source": [
    "There are roughly the same amount of images for each of the 10 digits."
   ]
  },
  {
   "cell_type": "markdown",
   "metadata": {
    "_cell_guid": "6812040d-80ad-43d2-a571-275f4f20067b",
    "_uuid": "2954681f25f0dcbe986e6914396cdbce61db591f"
   },
   "source": [
    "## Image re-scaling\n",
    "\n",
    "We re-scale data for the CNN, between 0 and 1."
   ]
  },
  {
   "cell_type": "code",
   "execution_count": 13,
   "metadata": {
    "_cell_guid": "cdc4340b-6e24-4e12-be99-ac806098ff17",
    "_execution_state": "idle",
    "_uuid": "b5d4f8fcf2a967e2c7d57daedf95aa8c5ab7f8cb"
   },
   "outputs": [],
   "source": [
    "# Re-scale the data\n",
    "\n",
    "# 255 is the maximum value a pixel can take\n",
    "\n",
    "X_train = X_train / 255\n",
    "X_test = X_test / 255"
   ]
  },
  {
   "cell_type": "markdown",
   "metadata": {
    "_cell_guid": "7413df94-bcb9-4f75-b174-c127d4445766",
    "_uuid": "a66741bf1ac597094f3a3166877008feef27c519"
   },
   "source": [
    "## Reshape\n",
    "\n",
    "The images were stored in a pandas dataframe as 1-D vectors of 784 values. For a CNN with Keras, we need tensors with the following dimensions: width x height x channel. \n",
    "\n",
    "Thus, we reshape all data to 28 x 2 8 x 1, 3-D matrices. \n",
    "\n",
    "The 3rd dimension corresponds to the channel. RGB images have 3 channels. MNIST images are in gray-scale, thus they have only one channel in the 3rd dimension."
   ]
  },
  {
   "cell_type": "code",
   "execution_count": 14,
   "metadata": {
    "_cell_guid": "34b6a5f7-8fd2-4387-8ef4-c9dc19584fed",
    "_execution_state": "idle",
    "_uuid": "f0a6ad80dab8e0f2c2e46165ccd9cd82dd162bc3"
   },
   "outputs": [],
   "source": [
    "# Reshape image in 3 dimensions:\n",
    "# height: 28px X width: 28px X channel: 1 \n",
    "\n",
    "X_train = X_train.values.reshape(-1,28,28,1)\n",
    "X_test = X_test.values.reshape(-1,28,28,1)"
   ]
  },
  {
   "cell_type": "markdown",
   "metadata": {
    "_cell_guid": "bdb422e2-bdec-444f-97a5-283a1e54bf2c",
    "_uuid": "39b7a31e843bac6b705461bcce89da216b91799e"
   },
   "source": [
    "## Target encoding"
   ]
  },
  {
   "cell_type": "code",
   "execution_count": 15,
   "metadata": {},
   "outputs": [
    {
     "data": {
      "text/plain": [
       "array([2, 0, 7, 4, 3, 5, 9, 6, 8, 1])"
      ]
     },
     "execution_count": 15,
     "metadata": {},
     "output_type": "execute_result"
    }
   ],
   "source": [
    "# the target is 1 variable with the 9 different digits\n",
    "# as values\n",
    "\n",
    "y_train.unique()"
   ]
  },
  {
   "cell_type": "code",
   "execution_count": 16,
   "metadata": {
    "_cell_guid": "4b7f3e78-44dc-4561-b1f0-9429ee024cf4",
    "_execution_state": "idle",
    "_uuid": "cabefd1478d5c1bdfe57fd6a34395340916a854c"
   },
   "outputs": [
    {
     "data": {
      "text/plain": [
       "array([[0., 0., 1., ..., 0., 0., 0.],\n",
       "       [0., 0., 1., ..., 0., 0., 0.],\n",
       "       [1., 0., 0., ..., 0., 0., 0.],\n",
       "       ...,\n",
       "       [0., 0., 0., ..., 0., 0., 1.],\n",
       "       [1., 0., 0., ..., 0., 0., 0.],\n",
       "       [0., 0., 0., ..., 0., 0., 1.]], dtype=float32)"
      ]
     },
     "execution_count": 16,
     "metadata": {},
     "output_type": "execute_result"
    }
   ],
   "source": [
    "# For Keras, we need to create 10 dummy variables,\n",
    "# one for each digit\n",
    "\n",
    "# Encode labels to one hot vectors (ex : digit 2 -> [0,0,1,0,0,0,0,0,0,0])\n",
    "\n",
    "y_train = to_categorical(y_train, num_classes = 10)\n",
    "y_test = to_categorical(y_test, num_classes = 10)\n",
    "\n",
    "# the new target\n",
    "y_train"
   ]
  },
  {
   "cell_type": "markdown",
   "metadata": {
    "_cell_guid": "adbeacf0-0dc0-4675-b2df-9c9663750f32",
    "_uuid": "60eed15ec5bc0d354385301789ecb8538fc02267"
   },
   "source": [
    "Let's print some example images."
   ]
  },
  {
   "cell_type": "code",
   "execution_count": 17,
   "metadata": {
    "_cell_guid": "5f76131b-4ba0-45f1-a98c-bd4e7d561793",
    "_execution_state": "idle",
    "_uuid": "e0dae8943d3d35f075dba3d7ba31bde1d4bf2ff4"
   },
   "outputs": [
    {
     "data": {
      "image/png": "[encoded data removed]",
      "text/plain": [
       "<Figure size 640x480 with 1 Axes>"
      ]
     },
     "metadata": {},
     "output_type": "display_data"
    }
   ],
   "source": [
    "# Some image examples \n",
    "\n",
    "g = plt.imshow(X_train[0][:,:,0])"
   ]
  },
  {
   "cell_type": "code",
   "execution_count": 18,
   "metadata": {},
   "outputs": [
    {
     "data": {
      "image/png": "[encoded data removed]",
      "text/plain": [
       "<Figure size 640x480 with 1 Axes>"
      ]
     },
     "metadata": {},
     "output_type": "display_data"
    }
   ],
   "source": [
    "# Some image examples \n",
    "\n",
    "g = plt.imshow(X_train[10][:,:,0])"
   ]
  },
  {
   "cell_type": "markdown",
   "metadata": {
    "_cell_guid": "d5265777-aeb3-449d-b171-d88cad74c0a4",
    "_uuid": "5fa18b37a9acd9e098bac1d12264b0dd4310fdd3"
   },
   "source": [
    "# Define the CNN\n",
    "\n",
    "We will create a CNN, with 2 Convolutional layers followed by Pooling, and varying number of fully-connected Dense layers.\n",
    "\n",
    "In fact, the number of fully-connected Dense layers and the number of Neurons in each one of the Dense layers, are some of the hyperparameters we want to optimize.\n",
    "\n",
    "We could also optimize the number of Convolutional layers. But we will keep that for later, and here we keep it a bit simpler."
   ]
  },
  {
   "cell_type": "code",
   "execution_count": 19,
   "metadata": {},
   "outputs": [],
   "source": [
    "# function to create the CNN\n",
    "\n",
    "def create_cnn(\n",
    "    learning_rate,\n",
    "    num_dense_layers,\n",
    "    num_dense_nodes,\n",
    "    activation,\n",
    "):\n",
    "    \"\"\"\n",
    "    Hyper-parameters:\n",
    "    learning_rate:     Learning-rate for the optimizer.\n",
    "    num_dense_layers:  Number of dense layers.\n",
    "    num_dense_nodes:   Number of nodes in each dense layer.\n",
    "    activation:        Activation function for all layers.\n",
    "    \"\"\"\n",
    "\n",
    "    # Start construction of a Keras Sequential model.\n",
    "    model = Sequential()\n",
    "\n",
    "    # First convolutional layer.\n",
    "    # There are many hyper-parameters in this layer\n",
    "    # For this demo, we will optimize the activation function only.\n",
    "    model.add(Conv2D(kernel_size=5, strides=1, filters=16, padding='same',\n",
    "                     activation=activation, name='layer_conv1'))\n",
    "    model.add(MaxPool2D(pool_size=2, strides=2))\n",
    "\n",
    "    # Second convolutional layer.\n",
    "    # Again, we will only optimize the activation function.\n",
    "    model.add(Conv2D(kernel_size=5, strides=1, filters=36, padding='same',\n",
    "                     activation=activation, name='layer_conv2'))\n",
    "    model.add(MaxPool2D(pool_size=2, strides=2))\n",
    "\n",
    "    # Flatten the 4-rank output of the convolutional layers\n",
    "    # to 2-rank that can be input to a fully-connected Dense layer.\n",
    "    model.add(Flatten())\n",
    "\n",
    "    # Add fully-connected Dense layers.\n",
    "    # The number of layers is a hyper-parameter we want to optimize.\n",
    "    # We add the different number of layers in the following loop:\n",
    "    \n",
    "    for i in range(num_dense_layers):\n",
    "        \n",
    "        # Add the dense fully-connected layer to the model.\n",
    "        # This has two hyper-parameters we want to optimize:\n",
    "        # The number of nodes (neurons) and the activation function.\n",
    "        model.add(Dense(num_dense_nodes,\n",
    "                        activation=activation,\n",
    "                        ))\n",
    "\n",
    "    # Last fully-connected dense layer with softmax-activation\n",
    "    # for use in classification.\n",
    "    model.add(Dense(10, activation='softmax'))\n",
    "\n",
    "    # Use the Adam method for training the network.\n",
    "    # We want to find the best learning-rate for the Adam method.\n",
    "    optimizer = Adam(lr=learning_rate)\n",
    "\n",
    "    # In Keras we need to compile the model so it can be trained.\n",
    "    model.compile(optimizer=optimizer,\n",
    "                  loss='categorical_crossentropy',\n",
    "                  metrics=['accuracy'])\n",
    "\n",
    "    return model"
   ]
  },
  {
   "cell_type": "markdown",
   "metadata": {},
   "source": [
    "# Define the Hyperparameter Space\n",
    "\n",
    "Scikit-optimize provides an utility function to create the range of values to examine for each hyperparameters. More details in [skopt.Space](https://scikit-optimize.github.io/stable/modules/generated/skopt.Space.html)\n",
    "\n",
    "\n",
    "We want to find the following hyper-parameters:\n",
    "\n",
    "- The learning rate of the optimizer.\n",
    "- The number of fully-connected Dense layers.\n",
    "- The number of nodes (neurons) for each of the dense layers.\n",
    "- Whether to use 'sigmoid' or 'relu' activation in all the layers."
   ]
  },
  {
   "cell_type": "code",
   "execution_count": 20,
   "metadata": {},
   "outputs": [],
   "source": [
    "dim_learning_rate = Real(\n",
    "    low=1e-6, high=1e-2, prior='log-uniform', name='learning_rate',\n",
    ")\n",
    "\n",
    "dim_num_dense_layers = Integer(low=1, high=5, name='num_dense_layers')\n",
    "\n",
    "dim_num_dense_nodes = Integer(low=5, high=512, name='num_dense_nodes')\n",
    "\n",
    "\n",
    "dim_activation = Categorical(\n",
    "    categories=['relu', 'sigmoid'], name='activation',\n",
    ")"
   ]
  },
  {
   "cell_type": "code",
   "execution_count": 21,
   "metadata": {},
   "outputs": [],
   "source": [
    "# the hyperparameter space grid\n",
    "\n",
    "param_grid = [dim_learning_rate,\n",
    "              dim_num_dense_layers,\n",
    "              dim_num_dense_nodes,\n",
    "              dim_activation]"
   ]
  },
  {
   "cell_type": "markdown",
   "metadata": {},
   "source": [
    "# Define the Objective Function"
   ]
  },
  {
   "cell_type": "code",
   "execution_count": 22,
   "metadata": {},
   "outputs": [],
   "source": [
    "# we will save the model with this name\n",
    "path_best_model = 'cnn_model.h5'\n",
    "\n",
    "# starting point for the optimization\n",
    "best_accuracy = 0"
   ]
  },
  {
   "cell_type": "code",
   "execution_count": 24,
   "metadata": {},
   "outputs": [],
   "source": [
    "@use_named_args(param_grid)\n",
    "def objective(\n",
    "    learning_rate,\n",
    "    num_dense_layers,\n",
    "    num_dense_nodes,\n",
    "    activation,\n",
    "):\n",
    "    \n",
    "    \"\"\"\n",
    "    Hyper-parameters:\n",
    "    learning_rate:     Learning-rate for the optimizer.\n",
    "    num_dense_layers:  Number of dense layers.\n",
    "    num_dense_nodes:   Number of nodes in each dense layer.\n",
    "    activation:        Activation function for all layers.\n",
    "    \"\"\"\n",
    "\n",
    "    # Print the hyper-parameters.\n",
    "    print('learning rate: {0:.1e}'.format(learning_rate))\n",
    "    print('num_dense_layers:', num_dense_layers)\n",
    "    print('num_dense_nodes:', num_dense_nodes)\n",
    "    print('activation:', activation)\n",
    "    print()\n",
    "    \n",
    "    # Create the neural network with the hyper-parameters.\n",
    "    # We call the function we created previously.\n",
    "    model = create_cnn(learning_rate=learning_rate,\n",
    "                       num_dense_layers=num_dense_layers,\n",
    "                       num_dense_nodes=num_dense_nodes,\n",
    "                       activation=activation)\n",
    "\n",
    "   \n",
    "    # Set a learning rate annealer\n",
    "    # this reduces the learning rate if learning does not improve\n",
    "    # for a certain number of epochs\n",
    "    learning_rate_reduction = ReduceLROnPlateau(monitor='val_accuracy', \n",
    "                                                patience=2, \n",
    "                                                verbose=1, \n",
    "                                                factor=0.5, \n",
    "                                                min_lr=0.00001)\n",
    "   \n",
    "    # train the model\n",
    "    # we use 3 epochs to be able to run the notebook in a \"reasonable\"\n",
    "    # time. If we increase the epochs, we will have better performance\n",
    "    # this could be another parameter to optimize in fact.\n",
    "    history = model.fit(x=X_train,\n",
    "                        y=y_train,\n",
    "                        epochs=3,\n",
    "                        batch_size=128,\n",
    "                        validation_split=0.1,\n",
    "                        callbacks=learning_rate_reduction)\n",
    "\n",
    "    # Get the classification accuracy on the validation-set\n",
    "    # after the last training-epoch.\n",
    "    accuracy = history.history['val_accuracy'][-1]\n",
    "\n",
    "    # Print the classification accuracy.\n",
    "    print()\n",
    "    print(\"Accuracy: {0:.2%}\".format(accuracy))\n",
    "    print()\n",
    "\n",
    "    # Save the model if it improves on the best-found performance.\n",
    "    # We use the global keyword so we update the variable outside\n",
    "    # of this function.\n",
    "    global best_accuracy\n",
    "\n",
    "    # If the classification accuracy of the saved model is improved ...\n",
    "    if accuracy > best_accuracy:\n",
    "        # Save the new model to harddisk.\n",
    "        # Training CNNs is costly, so we want to avoid having to re-train\n",
    "        # the network with the best found parameters. We save it instead\n",
    "        # as we search for the best hyperparam space.\n",
    "        model.save(path_best_model)\n",
    "        \n",
    "        # Update the classification accuracy.\n",
    "        best_accuracy = accuracy\n",
    "\n",
    "    # Delete the Keras model with these hyper-parameters from memory.\n",
    "    del model\n",
    "\n",
    "    \n",
    "    # Remember that Scikit-optimize always minimizes the objective\n",
    "    # function, so we need to negate the accuracy (because we want\n",
    "    # the maximum accuracy)\n",
    "    return -accuracy"
   ]
  },
  {
   "cell_type": "markdown",
   "metadata": {},
   "source": [
    "## Test run"
   ]
  },
  {
   "cell_type": "code",
   "execution_count": 25,
   "metadata": {},
   "outputs": [
    {
     "name": "stdout",
     "output_type": "stream",
     "text": [
      "learning rate: 1.0e-05\n",
      "num_dense_layers: 1\n",
      "num_dense_nodes: 16\n",
      "activation: relu\n",
      "\n"
     ]
    },
    {
     "name": "stderr",
     "output_type": "stream",
     "text": [
      "2022-10-06 15:29:03.811961: W tensorflow/stream_executor/platform/default/dso_loader.cc:64] Could not load dynamic library 'libcuda.so.1'; dlerror: libcuda.so.1: cannot open shared object file: No such file or directory\n",
      "2022-10-06 15:29:03.812044: W tensorflow/stream_executor/cuda/cuda_driver.cc:326] failed call to cuInit: UNKNOWN ERROR (303)\n",
      "2022-10-06 15:29:03.812116: I tensorflow/stream_executor/cuda/cuda_diagnostics.cc:156] kernel driver does not appear to be running on this host (LAP-VK-DS): /proc/driver/nvidia/version does not exist\n",
      "2022-10-06 15:29:03.813213: I tensorflow/core/platform/cpu_feature_guard.cc:142] This TensorFlow binary is optimized with oneAPI Deep Neural Network Library (oneDNN) to use the following CPU instructions in performance-critical operations:  AVX2 FMA\n",
      "To enable them in other operations, rebuild TensorFlow with the appropriate compiler flags.\n",
      "/home/kuhn/Github_local/hyperparameter-optimization/.venv/hyperparameter-optimization/lib/python3.9/site-packages/tensorflow/python/keras/optimizer_v2/optimizer_v2.py:374: UserWarning: The `lr` argument is deprecated, use `learning_rate` instead.\n",
      "  warnings.warn(\n",
      "2022-10-06 15:29:03.968642: W tensorflow/core/framework/cpu_allocator_impl.cc:80] Allocation of 106686720 exceeds 10% of free system memory.\n",
      "2022-10-06 15:29:04.056712: I tensorflow/compiler/mlir/mlir_graph_optimization_pass.cc:176] None of the MLIR Optimization Passes are enabled (registered 2)\n",
      "2022-10-06 15:29:04.061186: I tensorflow/core/platform/profile_utils/cpu_utils.cc:114] CPU Frequency: 2496000000 Hz\n"
     ]
    },
    {
     "name": "stdout",
     "output_type": "stream",
     "text": [
      "Epoch 1/3\n",
      "266/266 [==============================] - 9s 33ms/step - loss: 2.2595 - accuracy: 0.1708 - val_loss: 2.2149 - val_accuracy: 0.2598\n",
      "Epoch 2/3\n",
      "266/266 [==============================] - 9s 32ms/step - loss: 2.1564 - accuracy: 0.3483 - val_loss: 2.0850 - val_accuracy: 0.4397\n",
      "Epoch 3/3\n",
      "266/266 [==============================] - 9s 33ms/step - loss: 1.9914 - accuracy: 0.4946 - val_loss: 1.8869 - val_accuracy: 0.5585\n",
      "\n",
      "Accuracy: 55.85%\n",
      "\n"
     ]
    },
    {
     "data": {
      "text/plain": [
       "-0.5584656000137329"
      ]
     },
     "execution_count": 25,
     "metadata": {},
     "output_type": "execute_result"
    }
   ],
   "source": [
    "# Before we run the hyper-parameter optimization, \n",
    "# let's first check that the everything is working\n",
    "# by passing some default hyper-parameters.\n",
    "\n",
    "default_parameters = [1e-5, 1, 16, 'relu']\n",
    "\n",
    "objective(x=default_parameters)"
   ]
  },
  {
   "cell_type": "markdown",
   "metadata": {},
   "source": [
    "We obtained a mediocre accuracy, but all our code is working. So let's get started with the Optimization now!!"
   ]
  },
  {
   "cell_type": "markdown",
   "metadata": {},
   "source": [
    "## Bayesian Optimization"
   ]
  },
  {
   "cell_type": "code",
   "execution_count": 26,
   "metadata": {
    "_cell_guid": "b453af8d-9736-43e3-b486-7a1cd7dd8909",
    "_execution_state": "idle",
    "_uuid": "cf36b3d029f95b553be02d612e097a9769ee8252",
    "scrolled": true
   },
   "outputs": [
    {
     "name": "stdout",
     "output_type": "stream",
     "text": [
      "learning rate: 1.0e-05\n",
      "num_dense_layers: 1\n",
      "num_dense_nodes: 16\n",
      "activation: relu\n",
      "\n"
     ]
    },
    {
     "name": "stderr",
     "output_type": "stream",
     "text": [
      "2022-10-06 15:29:48.858053: W tensorflow/core/framework/cpu_allocator_impl.cc:80] Allocation of 106686720 exceeds 10% of free system memory.\n"
     ]
    },
    {
     "name": "stdout",
     "output_type": "stream",
     "text": [
      "Epoch 1/3\n",
      "266/266 [==============================] - 9s 33ms/step - loss: 2.2776 - accuracy: 0.2150 - val_loss: 2.2468 - val_accuracy: 0.3111\n",
      "Epoch 2/3\n",
      "266/266 [==============================] - 9s 33ms/step - loss: 2.2020 - accuracy: 0.3822 - val_loss: 2.1507 - val_accuracy: 0.4288\n",
      "Epoch 3/3\n",
      "266/266 [==============================] - 9s 33ms/step - loss: 2.0771 - accuracy: 0.4608 - val_loss: 1.9983 - val_accuracy: 0.4722\n",
      "\n",
      "Accuracy: 47.22%\n",
      "\n",
      "learning rate: 2.4e-04\n",
      "num_dense_layers: 4\n",
      "num_dense_nodes: 440\n",
      "activation: sigmoid\n",
      "\n"
     ]
    },
    {
     "name": "stderr",
     "output_type": "stream",
     "text": [
      "2022-10-06 15:30:16.110746: W tensorflow/core/framework/cpu_allocator_impl.cc:80] Allocation of 106686720 exceeds 10% of free system memory.\n"
     ]
    },
    {
     "name": "stdout",
     "output_type": "stream",
     "text": [
      "Epoch 1/3\n",
      "266/266 [==============================] - 12s 43ms/step - loss: 2.3120 - accuracy: 0.1011 - val_loss: 2.3073 - val_accuracy: 0.1079\n",
      "Epoch 2/3\n",
      "266/266 [==============================] - 11s 42ms/step - loss: 1.7628 - accuracy: 0.3765 - val_loss: 0.8850 - val_accuracy: 0.7098\n",
      "Epoch 3/3\n",
      "266/266 [==============================] - 11s 42ms/step - loss: 0.6414 - accuracy: 0.8034 - val_loss: 0.5009 - val_accuracy: 0.8503\n",
      "\n",
      "Accuracy: 85.03%\n",
      "\n",
      "learning rate: 3.1e-04\n",
      "num_dense_layers: 3\n",
      "num_dense_nodes: 156\n",
      "activation: relu\n",
      "\n"
     ]
    },
    {
     "name": "stderr",
     "output_type": "stream",
     "text": [
      "2022-10-06 15:30:50.971724: W tensorflow/core/framework/cpu_allocator_impl.cc:80] Allocation of 106686720 exceeds 10% of free system memory.\n"
     ]
    },
    {
     "name": "stdout",
     "output_type": "stream",
     "text": [
      "Epoch 1/3\n",
      "266/266 [==============================] - 10s 36ms/step - loss: 0.5387 - accuracy: 0.8376 - val_loss: 0.1948 - val_accuracy: 0.9378\n",
      "Epoch 2/3\n",
      "266/266 [==============================] - 10s 36ms/step - loss: 0.1397 - accuracy: 0.9564 - val_loss: 0.1366 - val_accuracy: 0.9638\n",
      "Epoch 3/3\n",
      "266/266 [==============================] - 9s 35ms/step - loss: 0.0885 - accuracy: 0.9726 - val_loss: 0.0876 - val_accuracy: 0.9743\n",
      "\n",
      "Accuracy: 97.43%\n",
      "\n",
      "learning rate: 1.2e-05\n",
      "num_dense_layers: 3\n",
      "num_dense_nodes: 417\n",
      "activation: relu\n",
      "\n"
     ]
    },
    {
     "name": "stderr",
     "output_type": "stream",
     "text": [
      "2022-10-06 15:31:20.280767: W tensorflow/core/framework/cpu_allocator_impl.cc:80] Allocation of 106686720 exceeds 10% of free system memory.\n"
     ]
    },
    {
     "name": "stdout",
     "output_type": "stream",
     "text": [
      "Epoch 1/3\n",
      "266/266 [==============================] - 11s 41ms/step - loss: 1.9878 - accuracy: 0.5506 - val_loss: 1.3482 - val_accuracy: 0.7455\n",
      "Epoch 2/3\n",
      "266/266 [==============================] - 11s 41ms/step - loss: 0.8140 - accuracy: 0.8253 - val_loss: 0.5383 - val_accuracy: 0.8611\n",
      "Epoch 3/3\n",
      "266/266 [==============================] - 17s 65ms/step - loss: 0.4237 - accuracy: 0.8883 - val_loss: 0.3667 - val_accuracy: 0.8981\n",
      "\n",
      "Accuracy: 89.81%\n",
      "\n",
      "learning rate: 3.7e-05\n",
      "num_dense_layers: 4\n",
      "num_dense_nodes: 176\n",
      "activation: sigmoid\n",
      "\n",
      "Epoch 1/3\n",
      "266/266 [==============================] - 16s 60ms/step - loss: 2.3237 - accuracy: 0.1063 - val_loss: 2.3017 - val_accuracy: 0.1146\n",
      "Epoch 2/3\n",
      "266/266 [==============================] - 13s 48ms/step - loss: 2.3019 - accuracy: 0.1107 - val_loss: 2.3019 - val_accuracy: 0.0997\n",
      "Epoch 3/3\n",
      "266/266 [==============================] - 12s 44ms/step - loss: 2.3018 - accuracy: 0.1089 - val_loss: 2.3013 - val_accuracy: 0.1146\n",
      "\n",
      "Epoch 00003: ReduceLROnPlateau reducing learning rate to 1.862555291154422e-05.\n",
      "\n",
      "Accuracy: 11.46%\n",
      "\n",
      "learning rate: 3.0e-05\n",
      "num_dense_layers: 5\n",
      "num_dense_nodes: 76\n",
      "activation: sigmoid\n",
      "\n",
      "Epoch 1/3\n",
      "266/266 [==============================] - 11s 39ms/step - loss: 2.3789 - accuracy: 0.1111 - val_loss: 2.3236 - val_accuracy: 0.1146\n",
      "Epoch 2/3\n",
      "266/266 [==============================] - 10s 38ms/step - loss: 2.3107 - accuracy: 0.1111 - val_loss: 2.3028 - val_accuracy: 0.1146\n",
      "Epoch 3/3\n",
      "266/266 [==============================] - 10s 39ms/step - loss: 2.3022 - accuracy: 0.1111 - val_loss: 2.3010 - val_accuracy: 0.1146\n",
      "\n",
      "Epoch 00003: ReduceLROnPlateau reducing learning rate to 1.4857172573101707e-05.\n",
      "\n",
      "Accuracy: 11.46%\n",
      "\n",
      "learning rate: 7.8e-05\n",
      "num_dense_layers: 4\n",
      "num_dense_nodes: 269\n",
      "activation: sigmoid\n",
      "\n",
      "Epoch 1/3\n",
      "266/266 [==============================] - 13s 48ms/step - loss: 2.3132 - accuracy: 0.1060 - val_loss: 2.3026 - val_accuracy: 0.1146\n",
      "Epoch 2/3\n",
      "266/266 [==============================] - 12s 46ms/step - loss: 2.3031 - accuracy: 0.1090 - val_loss: 2.3015 - val_accuracy: 0.1146\n",
      "Epoch 3/3\n",
      "266/266 [==============================] - 12s 47ms/step - loss: 2.3031 - accuracy: 0.1097 - val_loss: 2.3006 - val_accuracy: 0.1146\n",
      "\n",
      "Epoch 00003: ReduceLROnPlateau reducing learning rate to 3.9210481190821156e-05.\n",
      "\n",
      "Accuracy: 11.46%\n",
      "\n",
      "learning rate: 7.6e-04\n",
      "num_dense_layers: 3\n",
      "num_dense_nodes: 277\n",
      "activation: sigmoid\n",
      "\n",
      "Epoch 1/3\n",
      "266/266 [==============================] - 14s 50ms/step - loss: 2.0906 - accuracy: 0.2232 - val_loss: 0.9316 - val_accuracy: 0.6714\n",
      "Epoch 2/3\n",
      "266/266 [==============================] - 13s 50ms/step - loss: 0.5141 - accuracy: 0.8384 - val_loss: 0.3420 - val_accuracy: 0.8950\n",
      "Epoch 3/3\n",
      "266/266 [==============================] - 13s 47ms/step - loss: 0.2398 - accuracy: 0.9264 - val_loss: 0.2193 - val_accuracy: 0.9299\n",
      "\n",
      "Accuracy: 92.99%\n",
      "\n",
      "learning rate: 2.7e-06\n",
      "num_dense_layers: 3\n",
      "num_dense_nodes: 99\n",
      "activation: sigmoid\n",
      "\n",
      "Epoch 1/3\n",
      "266/266 [==============================] - 12s 44ms/step - loss: 2.4390 - accuracy: 0.1041 - val_loss: 2.4123 - val_accuracy: 0.1037\n",
      "Epoch 2/3\n",
      "266/266 [==============================] - 12s 44ms/step - loss: 2.4003 - accuracy: 0.1041 - val_loss: 2.3802 - val_accuracy: 0.1037\n",
      "Epoch 3/3\n",
      "266/266 [==============================] - 12s 44ms/step - loss: 2.3733 - accuracy: 0.1041 - val_loss: 2.3582 - val_accuracy: 0.1037\n",
      "\n",
      "Accuracy: 10.37%\n",
      "\n",
      "learning rate: 7.3e-06\n",
      "num_dense_layers: 2\n",
      "num_dense_nodes: 169\n",
      "activation: relu\n",
      "\n",
      "Epoch 1/3\n",
      "266/266 [==============================] - 12s 44ms/step - loss: 2.2566 - accuracy: 0.1687 - val_loss: 2.1827 - val_accuracy: 0.2944\n",
      "Epoch 2/3\n",
      "266/266 [==============================] - 12s 45ms/step - loss: 2.0305 - accuracy: 0.5124 - val_loss: 1.8319 - val_accuracy: 0.6484\n",
      "Epoch 3/3\n",
      "266/266 [==============================] - 12s 45ms/step - loss: 1.5490 - accuracy: 0.7139 - val_loss: 1.2756 - val_accuracy: 0.7452\n",
      "\n",
      "Accuracy: 74.52%\n",
      "\n",
      "learning rate: 7.7e-06\n",
      "num_dense_layers: 3\n",
      "num_dense_nodes: 463\n",
      "activation: relu\n",
      "\n",
      "Epoch 1/3\n",
      "266/266 [==============================] - 14s 51ms/step - loss: 2.1380 - accuracy: 0.5732 - val_loss: 1.8421 - val_accuracy: 0.7614\n",
      "Epoch 2/3\n",
      "266/266 [==============================] - 14s 51ms/step - loss: 1.3107 - accuracy: 0.8068 - val_loss: 0.8741 - val_accuracy: 0.8220\n",
      "Epoch 3/3\n",
      "266/266 [==============================] - 14s 51ms/step - loss: 0.6600 - accuracy: 0.8558 - val_loss: 0.5404 - val_accuracy: 0.8685\n",
      "\n",
      "Accuracy: 86.85%\n",
      "\n",
      "learning rate: 5.9e-04\n",
      "num_dense_layers: 2\n",
      "num_dense_nodes: 512\n",
      "activation: sigmoid\n",
      "\n",
      "Epoch 1/3\n"
     ]
    },
    {
     "name": "stderr",
     "output_type": "stream",
     "text": [
      "/home/kuhn/Github_local/hyperparameter-optimization/.venv/hyperparameter-optimization/lib/python3.9/site-packages/tensorflow/python/keras/optimizer_v2/optimizer_v2.py:374: UserWarning: The `lr` argument is deprecated, use `learning_rate` instead.\n",
      "  warnings.warn(\n"
     ]
    },
    {
     "name": "stdout",
     "output_type": "stream",
     "text": [
      "266/266 [==============================] - 14s 50ms/step - loss: 1.9399 - accuracy: 0.2917 - val_loss: 0.7070 - val_accuracy: 0.7630\n",
      "Epoch 2/3\n",
      "266/266 [==============================] - 13s 50ms/step - loss: 0.4297 - accuracy: 0.8670 - val_loss: 0.3083 - val_accuracy: 0.9026\n",
      "Epoch 3/3\n",
      "266/266 [==============================] - 13s 49ms/step - loss: 0.2553 - accuracy: 0.9200 - val_loss: 0.2219 - val_accuracy: 0.9299\n",
      "\n",
      "Accuracy: 92.99%\n",
      "\n",
      "learning rate: 5.3e-04\n",
      "num_dense_layers: 4\n",
      "num_dense_nodes: 363\n",
      "activation: relu\n",
      "\n"
     ]
    },
    {
     "name": "stderr",
     "output_type": "stream",
     "text": [
      "/home/kuhn/Github_local/hyperparameter-optimization/.venv/hyperparameter-optimization/lib/python3.9/site-packages/tensorflow/python/keras/optimizer_v2/optimizer_v2.py:374: UserWarning: The `lr` argument is deprecated, use `learning_rate` instead.\n",
      "  warnings.warn(\n"
     ]
    },
    {
     "name": "stdout",
     "output_type": "stream",
     "text": [
      "Epoch 1/3\n",
      "266/266 [==============================] - 14s 52ms/step - loss: 0.3301 - accuracy: 0.8971 - val_loss: 0.1538 - val_accuracy: 0.9524\n",
      "Epoch 2/3\n",
      "266/266 [==============================] - 13s 48ms/step - loss: 0.0728 - accuracy: 0.9771 - val_loss: 0.0872 - val_accuracy: 0.9733\n",
      "Epoch 3/3\n",
      "266/266 [==============================] - 13s 49ms/step - loss: 0.0476 - accuracy: 0.9845 - val_loss: 0.0727 - val_accuracy: 0.9799\n",
      "\n",
      "Accuracy: 97.99%\n",
      "\n",
      "learning rate: 5.1e-04\n",
      "num_dense_layers: 3\n",
      "num_dense_nodes: 5\n",
      "activation: sigmoid\n",
      "\n",
      "Epoch 1/3\n"
     ]
    },
    {
     "name": "stderr",
     "output_type": "stream",
     "text": [
      "/home/kuhn/Github_local/hyperparameter-optimization/.venv/hyperparameter-optimization/lib/python3.9/site-packages/tensorflow/python/keras/optimizer_v2/optimizer_v2.py:374: UserWarning: The `lr` argument is deprecated, use `learning_rate` instead.\n",
      "  warnings.warn(\n"
     ]
    },
    {
     "name": "stdout",
     "output_type": "stream",
     "text": [
      "266/266 [==============================] - 11s 42ms/step - loss: 2.3485 - accuracy: 0.1004 - val_loss: 2.3136 - val_accuracy: 0.0937\n",
      "Epoch 2/3\n",
      "266/266 [==============================] - 11s 40ms/step - loss: 2.3068 - accuracy: 0.1004 - val_loss: 2.3023 - val_accuracy: 0.0937\n",
      "Epoch 3/3\n",
      "266/266 [==============================] - 10s 39ms/step - loss: 2.3020 - accuracy: 0.1101 - val_loss: 2.3009 - val_accuracy: 0.1146\n",
      "\n",
      "Accuracy: 11.46%\n",
      "\n",
      "learning rate: 1.5e-03\n",
      "num_dense_layers: 3\n",
      "num_dense_nodes: 368\n",
      "activation: sigmoid\n",
      "\n"
     ]
    },
    {
     "name": "stderr",
     "output_type": "stream",
     "text": [
      "/home/kuhn/Github_local/hyperparameter-optimization/.venv/hyperparameter-optimization/lib/python3.9/site-packages/tensorflow/python/keras/optimizer_v2/optimizer_v2.py:374: UserWarning: The `lr` argument is deprecated, use `learning_rate` instead.\n",
      "  warnings.warn(\n"
     ]
    },
    {
     "name": "stdout",
     "output_type": "stream",
     "text": [
      "Epoch 1/3\n",
      "266/266 [==============================] - 13s 47ms/step - loss: 2.1305 - accuracy: 0.1837 - val_loss: 1.2215 - val_accuracy: 0.5799\n",
      "Epoch 2/3\n",
      "266/266 [==============================] - 12s 47ms/step - loss: 0.5703 - accuracy: 0.8059 - val_loss: 0.3379 - val_accuracy: 0.8989\n",
      "Epoch 3/3\n",
      "266/266 [==============================] - 12s 46ms/step - loss: 0.2371 - accuracy: 0.9257 - val_loss: 0.2037 - val_accuracy: 0.9421\n",
      "\n",
      "Accuracy: 94.21%\n",
      "\n",
      "learning rate: 1.4e-04\n",
      "num_dense_layers: 5\n",
      "num_dense_nodes: 336\n",
      "activation: relu\n",
      "\n"
     ]
    },
    {
     "name": "stderr",
     "output_type": "stream",
     "text": [
      "/home/kuhn/Github_local/hyperparameter-optimization/.venv/hyperparameter-optimization/lib/python3.9/site-packages/tensorflow/python/keras/optimizer_v2/optimizer_v2.py:374: UserWarning: The `lr` argument is deprecated, use `learning_rate` instead.\n",
      "  warnings.warn(\n"
     ]
    },
    {
     "name": "stdout",
     "output_type": "stream",
     "text": [
      "Epoch 1/3\n",
      "266/266 [==============================] - 13s 47ms/step - loss: 0.6090 - accuracy: 0.8246 - val_loss: 0.2045 - val_accuracy: 0.9397\n",
      "Epoch 2/3\n",
      "266/266 [==============================] - 13s 48ms/step - loss: 0.1460 - accuracy: 0.9547 - val_loss: 0.1258 - val_accuracy: 0.9640\n",
      "Epoch 3/3\n",
      "266/266 [==============================] - 12s 47ms/step - loss: 0.0950 - accuracy: 0.9712 - val_loss: 0.0955 - val_accuracy: 0.9725\n",
      "\n",
      "Accuracy: 97.25%\n",
      "\n",
      "learning rate: 1.6e-03\n",
      "num_dense_layers: 5\n",
      "num_dense_nodes: 181\n",
      "activation: relu\n",
      "\n"
     ]
    },
    {
     "name": "stderr",
     "output_type": "stream",
     "text": [
      "/home/kuhn/Github_local/hyperparameter-optimization/.venv/hyperparameter-optimization/lib/python3.9/site-packages/tensorflow/python/keras/optimizer_v2/optimizer_v2.py:374: UserWarning: The `lr` argument is deprecated, use `learning_rate` instead.\n",
      "  warnings.warn(\n"
     ]
    },
    {
     "name": "stdout",
     "output_type": "stream",
     "text": [
      "Epoch 1/3\n",
      "266/266 [==============================] - 12s 43ms/step - loss: 0.2959 - accuracy: 0.9043 - val_loss: 0.0848 - val_accuracy: 0.9751\n",
      "Epoch 2/3\n",
      "266/266 [==============================] - 11s 42ms/step - loss: 0.0681 - accuracy: 0.9791 - val_loss: 0.0709 - val_accuracy: 0.9804\n",
      "Epoch 3/3\n",
      "266/266 [==============================] - 11s 42ms/step - loss: 0.0477 - accuracy: 0.9853 - val_loss: 0.0598 - val_accuracy: 0.9831\n",
      "\n",
      "Accuracy: 98.31%\n",
      "\n",
      "learning rate: 6.1e-04\n",
      "num_dense_layers: 1\n",
      "num_dense_nodes: 241\n",
      "activation: relu\n",
      "\n",
      "Epoch 1/3\n"
     ]
    },
    {
     "name": "stderr",
     "output_type": "stream",
     "text": [
      "/home/kuhn/Github_local/hyperparameter-optimization/.venv/hyperparameter-optimization/lib/python3.9/site-packages/tensorflow/python/keras/optimizer_v2/optimizer_v2.py:374: UserWarning: The `lr` argument is deprecated, use `learning_rate` instead.\n",
      "  warnings.warn(\n"
     ]
    },
    {
     "name": "stdout",
     "output_type": "stream",
     "text": [
      "266/266 [==============================] - 11s 41ms/step - loss: 0.3396 - accuracy: 0.9013 - val_loss: 0.1280 - val_accuracy: 0.9643\n",
      "Epoch 2/3\n",
      "266/266 [==============================] - 11s 42ms/step - loss: 0.0881 - accuracy: 0.9725 - val_loss: 0.0864 - val_accuracy: 0.9757\n",
      "Epoch 3/3\n",
      "266/266 [==============================] - 11s 41ms/step - loss: 0.0577 - accuracy: 0.9817 - val_loss: 0.0820 - val_accuracy: 0.9780\n",
      "\n",
      "Accuracy: 97.80%\n",
      "\n",
      "learning rate: 5.7e-03\n",
      "num_dense_layers: 4\n",
      "num_dense_nodes: 409\n",
      "activation: relu\n",
      "\n",
      "Epoch 1/3\n"
     ]
    },
    {
     "name": "stderr",
     "output_type": "stream",
     "text": [
      "/home/kuhn/Github_local/hyperparameter-optimization/.venv/hyperparameter-optimization/lib/python3.9/site-packages/tensorflow/python/keras/optimizer_v2/optimizer_v2.py:374: UserWarning: The `lr` argument is deprecated, use `learning_rate` instead.\n",
      "  warnings.warn(\n"
     ]
    },
    {
     "name": "stdout",
     "output_type": "stream",
     "text": [
      "266/266 [==============================] - 13s 47ms/step - loss: 0.2742 - accuracy: 0.9109 - val_loss: 0.1309 - val_accuracy: 0.9688\n",
      "Epoch 2/3\n",
      "266/266 [==============================] - 12s 46ms/step - loss: 0.0900 - accuracy: 0.9775 - val_loss: 0.1193 - val_accuracy: 0.9704\n",
      "Epoch 3/3\n",
      "266/266 [==============================] - 13s 47ms/step - loss: 0.0670 - accuracy: 0.9823 - val_loss: 0.0815 - val_accuracy: 0.9807\n",
      "\n",
      "Accuracy: 98.07%\n",
      "\n",
      "learning rate: 1.0e-02\n",
      "num_dense_layers: 2\n",
      "num_dense_nodes: 173\n",
      "activation: relu\n",
      "\n",
      "Epoch 1/3\n"
     ]
    },
    {
     "name": "stderr",
     "output_type": "stream",
     "text": [
      "/home/kuhn/Github_local/hyperparameter-optimization/.venv/hyperparameter-optimization/lib/python3.9/site-packages/tensorflow/python/keras/optimizer_v2/optimizer_v2.py:374: UserWarning: The `lr` argument is deprecated, use `learning_rate` instead.\n",
      "  warnings.warn(\n"
     ]
    },
    {
     "name": "stdout",
     "output_type": "stream",
     "text": [
      "266/266 [==============================] - 11s 40ms/step - loss: 0.6578 - accuracy: 0.7659 - val_loss: 0.1135 - val_accuracy: 0.9648\n",
      "Epoch 2/3\n",
      "266/266 [==============================] - 11s 40ms/step - loss: 0.1022 - accuracy: 0.9681 - val_loss: 0.0984 - val_accuracy: 0.9733\n",
      "Epoch 3/3\n",
      "266/266 [==============================] - 11s 40ms/step - loss: 0.0805 - accuracy: 0.9750 - val_loss: 0.0961 - val_accuracy: 0.9720\n",
      "\n",
      "Accuracy: 97.20%\n",
      "\n",
      "learning rate: 3.4e-03\n",
      "num_dense_layers: 1\n",
      "num_dense_nodes: 5\n",
      "activation: relu\n",
      "\n",
      "Epoch 1/3\n"
     ]
    },
    {
     "name": "stderr",
     "output_type": "stream",
     "text": [
      "/home/kuhn/Github_local/hyperparameter-optimization/.venv/hyperparameter-optimization/lib/python3.9/site-packages/tensorflow/python/keras/optimizer_v2/optimizer_v2.py:374: UserWarning: The `lr` argument is deprecated, use `learning_rate` instead.\n",
      "  warnings.warn(\n"
     ]
    },
    {
     "name": "stdout",
     "output_type": "stream",
     "text": [
      "266/266 [==============================] - 11s 41ms/step - loss: 1.2896 - accuracy: 0.5262 - val_loss: 0.9451 - val_accuracy: 0.7079\n",
      "Epoch 2/3\n",
      "266/266 [==============================] - 11s 43ms/step - loss: 0.7619 - accuracy: 0.8107 - val_loss: 0.6501 - val_accuracy: 0.8677\n",
      "Epoch 3/3\n",
      "266/266 [==============================] - 10s 38ms/step - loss: 0.5489 - accuracy: 0.8888 - val_loss: 0.5369 - val_accuracy: 0.8944\n",
      "\n",
      "Accuracy: 89.44%\n",
      "\n",
      "learning rate: 2.3e-03\n",
      "num_dense_layers: 4\n",
      "num_dense_nodes: 354\n",
      "activation: relu\n",
      "\n",
      "Epoch 1/3\n"
     ]
    },
    {
     "name": "stderr",
     "output_type": "stream",
     "text": [
      "/home/kuhn/Github_local/hyperparameter-optimization/.venv/hyperparameter-optimization/lib/python3.9/site-packages/tensorflow/python/keras/optimizer_v2/optimizer_v2.py:374: UserWarning: The `lr` argument is deprecated, use `learning_rate` instead.\n",
      "  warnings.warn(\n"
     ]
    },
    {
     "name": "stdout",
     "output_type": "stream",
     "text": [
      "266/266 [==============================] - 15s 54ms/step - loss: 0.2585 - accuracy: 0.9160 - val_loss: 0.1010 - val_accuracy: 0.9712\n",
      "Epoch 2/3\n",
      "266/266 [==============================] - 14s 53ms/step - loss: 0.0653 - accuracy: 0.9810 - val_loss: 0.0725 - val_accuracy: 0.9783\n",
      "Epoch 3/3\n",
      "266/266 [==============================] - 14s 53ms/step - loss: 0.0449 - accuracy: 0.9867 - val_loss: 0.0667 - val_accuracy: 0.9823\n",
      "\n",
      "Accuracy: 98.23%\n",
      "\n",
      "learning rate: 1.6e-04\n",
      "num_dense_layers: 1\n",
      "num_dense_nodes: 512\n",
      "activation: relu\n",
      "\n",
      "Epoch 1/3\n"
     ]
    },
    {
     "name": "stderr",
     "output_type": "stream",
     "text": [
      "/home/kuhn/Github_local/hyperparameter-optimization/.venv/hyperparameter-optimization/lib/python3.9/site-packages/tensorflow/python/keras/optimizer_v2/optimizer_v2.py:374: UserWarning: The `lr` argument is deprecated, use `learning_rate` instead.\n",
      "  warnings.warn(\n"
     ]
    },
    {
     "name": "stdout",
     "output_type": "stream",
     "text": [
      "266/266 [==============================] - 13s 48ms/step - loss: 0.5769 - accuracy: 0.8673 - val_loss: 0.2287 - val_accuracy: 0.9325\n",
      "Epoch 2/3\n",
      "266/266 [==============================] - 12s 44ms/step - loss: 0.1478 - accuracy: 0.9565 - val_loss: 0.1339 - val_accuracy: 0.9648\n",
      "Epoch 3/3\n",
      "266/266 [==============================] - 12s 46ms/step - loss: 0.1017 - accuracy: 0.9697 - val_loss: 0.1077 - val_accuracy: 0.9690\n",
      "\n",
      "Accuracy: 96.90%\n",
      "\n",
      "learning rate: 1.4e-03\n",
      "num_dense_layers: 1\n",
      "num_dense_nodes: 512\n",
      "activation: relu\n",
      "\n",
      "Epoch 1/3\n"
     ]
    },
    {
     "name": "stderr",
     "output_type": "stream",
     "text": [
      "/home/kuhn/Github_local/hyperparameter-optimization/.venv/hyperparameter-optimization/lib/python3.9/site-packages/tensorflow/python/keras/optimizer_v2/optimizer_v2.py:374: UserWarning: The `lr` argument is deprecated, use `learning_rate` instead.\n",
      "  warnings.warn(\n"
     ]
    },
    {
     "name": "stdout",
     "output_type": "stream",
     "text": [
      "266/266 [==============================] - 12s 45ms/step - loss: 0.2150 - accuracy: 0.9336 - val_loss: 0.0909 - val_accuracy: 0.9730\n",
      "Epoch 2/3\n",
      "266/266 [==============================] - 12s 45ms/step - loss: 0.0557 - accuracy: 0.9825 - val_loss: 0.0718 - val_accuracy: 0.9807\n",
      "Epoch 3/3\n",
      "266/266 [==============================] - 12s 44ms/step - loss: 0.0390 - accuracy: 0.9878 - val_loss: 0.0525 - val_accuracy: 0.9870\n",
      "\n",
      "Accuracy: 98.70%\n",
      "\n",
      "learning rate: 1.0e-06\n",
      "num_dense_layers: 4\n",
      "num_dense_nodes: 349\n",
      "activation: relu\n",
      "\n",
      "Epoch 1/3\n"
     ]
    },
    {
     "name": "stderr",
     "output_type": "stream",
     "text": [
      "/home/kuhn/Github_local/hyperparameter-optimization/.venv/hyperparameter-optimization/lib/python3.9/site-packages/tensorflow/python/keras/optimizer_v2/optimizer_v2.py:374: UserWarning: The `lr` argument is deprecated, use `learning_rate` instead.\n",
      "  warnings.warn(\n"
     ]
    },
    {
     "name": "stdout",
     "output_type": "stream",
     "text": [
      "266/266 [==============================] - 13s 48ms/step - loss: 2.2955 - accuracy: 0.0963 - val_loss: 2.2866 - val_accuracy: 0.1106\n",
      "Epoch 2/3\n",
      "266/266 [==============================] - 14s 52ms/step - loss: 2.2755 - accuracy: 0.1375 - val_loss: 2.2657 - val_accuracy: 0.1423\n",
      "Epoch 3/3\n",
      "266/266 [==============================] - 13s 49ms/step - loss: 2.2514 - accuracy: 0.2106 - val_loss: 2.2390 - val_accuracy: 0.2942\n",
      "\n",
      "Accuracy: 29.42%\n",
      "\n",
      "learning rate: 8.2e-04\n",
      "num_dense_layers: 4\n",
      "num_dense_nodes: 410\n",
      "activation: sigmoid\n",
      "\n"
     ]
    },
    {
     "name": "stderr",
     "output_type": "stream",
     "text": [
      "/home/kuhn/Github_local/hyperparameter-optimization/.venv/hyperparameter-optimization/lib/python3.9/site-packages/tensorflow/python/keras/optimizer_v2/optimizer_v2.py:374: UserWarning: The `lr` argument is deprecated, use `learning_rate` instead.\n",
      "  warnings.warn(\n"
     ]
    },
    {
     "name": "stdout",
     "output_type": "stream",
     "text": [
      "Epoch 1/3\n",
      "266/266 [==============================] - 13s 48ms/step - loss: 2.3107 - accuracy: 0.1103 - val_loss: 2.0748 - val_accuracy: 0.2413\n",
      "Epoch 2/3\n",
      "266/266 [==============================] - 15s 55ms/step - loss: 1.0586 - accuracy: 0.6162 - val_loss: 0.4141 - val_accuracy: 0.8614\n",
      "Epoch 3/3\n",
      "266/266 [==============================] - 16s 59ms/step - loss: 0.2785 - accuracy: 0.9124 - val_loss: 0.2103 - val_accuracy: 0.9376\n",
      "\n",
      "Accuracy: 93.76%\n",
      "\n",
      "learning rate: 1.3e-03\n",
      "num_dense_layers: 2\n",
      "num_dense_nodes: 353\n",
      "activation: sigmoid\n",
      "\n",
      "Epoch 1/3\n"
     ]
    },
    {
     "name": "stderr",
     "output_type": "stream",
     "text": [
      "/home/kuhn/Github_local/hyperparameter-optimization/.venv/hyperparameter-optimization/lib/python3.9/site-packages/tensorflow/python/keras/optimizer_v2/optimizer_v2.py:374: UserWarning: The `lr` argument is deprecated, use `learning_rate` instead.\n",
      "  warnings.warn(\n"
     ]
    },
    {
     "name": "stdout",
     "output_type": "stream",
     "text": [
      "266/266 [==============================] - 14s 51ms/step - loss: 1.6797 - accuracy: 0.3800 - val_loss: 0.4001 - val_accuracy: 0.8677\n",
      "Epoch 2/3\n",
      "266/266 [==============================] - 15s 56ms/step - loss: 0.2445 - accuracy: 0.9235 - val_loss: 0.1939 - val_accuracy: 0.9413\n",
      "Epoch 3/3\n",
      "266/266 [==============================] - 12s 45ms/step - loss: 0.1311 - accuracy: 0.9586 - val_loss: 0.1411 - val_accuracy: 0.9579\n",
      "\n",
      "Accuracy: 95.79%\n",
      "\n",
      "learning rate: 1.4e-03\n",
      "num_dense_layers: 1\n",
      "num_dense_nodes: 345\n",
      "activation: sigmoid\n",
      "\n",
      "Epoch 1/3\n"
     ]
    },
    {
     "name": "stderr",
     "output_type": "stream",
     "text": [
      "/home/kuhn/Github_local/hyperparameter-optimization/.venv/hyperparameter-optimization/lib/python3.9/site-packages/tensorflow/python/keras/optimizer_v2/optimizer_v2.py:374: UserWarning: The `lr` argument is deprecated, use `learning_rate` instead.\n",
      "  warnings.warn(\n"
     ]
    },
    {
     "name": "stdout",
     "output_type": "stream",
     "text": [
      "266/266 [==============================] - 12s 43ms/step - loss: 1.6409 - accuracy: 0.4285 - val_loss: 0.5221 - val_accuracy: 0.8339\n",
      "Epoch 2/3\n",
      "266/266 [==============================] - 12s 44ms/step - loss: 0.3355 - accuracy: 0.8966 - val_loss: 0.2484 - val_accuracy: 0.9249\n",
      "Epoch 3/3\n",
      "266/266 [==============================] - 12s 46ms/step - loss: 0.1970 - accuracy: 0.9383 - val_loss: 0.1841 - val_accuracy: 0.9474\n",
      "\n",
      "Accuracy: 94.74%\n",
      "\n",
      "learning rate: 1.0e-02\n",
      "num_dense_layers: 5\n",
      "num_dense_nodes: 340\n",
      "activation: relu\n",
      "\n",
      "Epoch 1/3\n"
     ]
    },
    {
     "name": "stderr",
     "output_type": "stream",
     "text": [
      "/home/kuhn/Github_local/hyperparameter-optimization/.venv/hyperparameter-optimization/lib/python3.9/site-packages/tensorflow/python/keras/optimizer_v2/optimizer_v2.py:374: UserWarning: The `lr` argument is deprecated, use `learning_rate` instead.\n",
      "  warnings.warn(\n"
     ]
    },
    {
     "name": "stdout",
     "output_type": "stream",
     "text": [
      "266/266 [==============================] - 16s 59ms/step - loss: 2.3601 - accuracy: 0.1081 - val_loss: 2.3012 - val_accuracy: 0.1146\n",
      "Epoch 2/3\n",
      "266/266 [==============================] - 15s 55ms/step - loss: 2.3019 - accuracy: 0.1098 - val_loss: 2.3013 - val_accuracy: 0.1146\n",
      "Epoch 3/3\n",
      "266/266 [==============================] - 13s 49ms/step - loss: 2.3022 - accuracy: 0.1065 - val_loss: 2.3012 - val_accuracy: 0.1146\n",
      "\n",
      "Epoch 00003: ReduceLROnPlateau reducing learning rate to 0.004999999888241291.\n",
      "\n",
      "Accuracy: 11.46%\n",
      "\n",
      "learning rate: 3.9e-03\n",
      "num_dense_layers: 3\n",
      "num_dense_nodes: 455\n",
      "activation: relu\n",
      "\n"
     ]
    },
    {
     "name": "stderr",
     "output_type": "stream",
     "text": [
      "/home/kuhn/Github_local/hyperparameter-optimization/.venv/hyperparameter-optimization/lib/python3.9/site-packages/tensorflow/python/keras/optimizer_v2/optimizer_v2.py:374: UserWarning: The `lr` argument is deprecated, use `learning_rate` instead.\n",
      "  warnings.warn(\n"
     ]
    },
    {
     "name": "stdout",
     "output_type": "stream",
     "text": [
      "Epoch 1/3\n",
      "266/266 [==============================] - 12s 44ms/step - loss: 0.2408 - accuracy: 0.9238 - val_loss: 0.1018 - val_accuracy: 0.9714\n",
      "Epoch 2/3\n",
      "266/266 [==============================] - 11s 42ms/step - loss: 0.0569 - accuracy: 0.9829 - val_loss: 0.0565 - val_accuracy: 0.9828\n",
      "Epoch 3/3\n",
      "266/266 [==============================] - 15s 57ms/step - loss: 0.0471 - accuracy: 0.9865 - val_loss: 0.0590 - val_accuracy: 0.9825\n",
      "\n",
      "Accuracy: 98.25%\n",
      "\n"
     ]
    }
   ],
   "source": [
    "# gp_minimize performs by default GP Optimization \n",
    "# using a Marten Kernel\n",
    "\n",
    "gp_ = gp_minimize(\n",
    "    objective, # the objective function to minimize\n",
    "    param_grid, # the hyperparameter space\n",
    "    x0=default_parameters, # the initial parameters to test\n",
    "    acq_func='EI', # the acquisition function\n",
    "    n_calls=30, # the number of subsequent evaluations of f(x)\n",
    "    random_state=0, \n",
    ")"
   ]
  },
  {
   "cell_type": "markdown",
   "metadata": {},
   "source": [
    "# Analyze results"
   ]
  },
  {
   "cell_type": "code",
   "execution_count": 27,
   "metadata": {},
   "outputs": [
    {
     "data": {
      "text/plain": [
       "'Best score=-0.9870'"
      ]
     },
     "execution_count": 27,
     "metadata": {},
     "output_type": "execute_result"
    }
   ],
   "source": [
    "# function value at the minimum.\n",
    "# note that it is the negative of the accuracy\n",
    "\n",
    "\"Best score=%.4f\" % gp_.fun"
   ]
  },
  {
   "cell_type": "code",
   "execution_count": 28,
   "metadata": {},
   "outputs": [
    {
     "data": {
      "text/plain": [
       "[0.0013742560541313033, 1, 512, 'relu']"
      ]
     },
     "execution_count": 28,
     "metadata": {},
     "output_type": "execute_result"
    }
   ],
   "source": [
    "gp_.x"
   ]
  },
  {
   "cell_type": "code",
   "execution_count": 29,
   "metadata": {},
   "outputs": [
    {
     "data": {
      "text/plain": [
       "Space([Real(low=1e-06, high=0.01, prior='log-uniform', transform='normalize'),\n",
       "       Integer(low=1, high=5, prior='uniform', transform='normalize'),\n",
       "       Integer(low=5, high=512, prior='uniform', transform='normalize'),\n",
       "       Categorical(categories=('relu', 'sigmoid'), prior=None)])"
      ]
     },
     "execution_count": 29,
     "metadata": {},
     "output_type": "execute_result"
    }
   ],
   "source": [
    "gp_.space"
   ]
  },
  {
   "cell_type": "code",
   "execution_count": 30,
   "metadata": {},
   "outputs": [
    {
     "name": "stdout",
     "output_type": "stream",
     "text": [
      "Best parameters:\n",
      "=========================\n",
      "- learning rate=0.001374\n",
      "- num_dense_layers=1\n",
      "- num_nodes=512\n",
      "- activation = relu\n"
     ]
    }
   ],
   "source": [
    "print(\"\"\"Best parameters:\n",
    "=========================\n",
    "- learning rate=%.6f\n",
    "- num_dense_layers=%d\n",
    "- num_nodes=%d\n",
    "- activation = %s\"\"\" % (gp_.x[0], \n",
    "                gp_.x[1],\n",
    "                gp_.x[2],\n",
    "                gp_.x[3]))"
   ]
  },
  {
   "cell_type": "markdown",
   "metadata": {},
   "source": [
    "## Convergence"
   ]
  },
  {
   "cell_type": "code",
   "execution_count": 31,
   "metadata": {},
   "outputs": [
    {
     "data": {
      "text/plain": [
       "<AxesSubplot:title={'center':'Convergence plot'}, xlabel='Number of calls $n$', ylabel='$\\\\min f(x)$ after $n$ calls'>"
      ]
     },
     "execution_count": 31,
     "metadata": {},
     "output_type": "execute_result"
    },
    {
     "data": {
      "image/png": "[encoded data removed]",
      "text/plain": [
       "<Figure size 640x480 with 1 Axes>"
      ]
     },
     "metadata": {},
     "output_type": "display_data"
    }
   ],
   "source": [
    "plot_convergence(gp_)"
   ]
  },
  {
   "cell_type": "markdown",
   "metadata": {},
   "source": [
    "## Partially dependency plots\n",
    "\n",
    "[plot_objective](https://scikit-optimize.github.io/stable/modules/generated/skopt.plots.plot_objective.html#skopt.plots.plot_objective)"
   ]
  },
  {
   "cell_type": "code",
   "execution_count": 25,
   "metadata": {},
   "outputs": [],
   "source": [
    "dim_names = ['learning_rate', 'num_dense_nodes', 'num_dense_layers']"
   ]
  },
  {
   "cell_type": "code",
   "execution_count": 26,
   "metadata": {},
   "outputs": [
    {
     "data": {
      "image/png": "[encoded data removed]",
      "text/plain": [
       "<Figure size 432x432 with 9 Axes>"
      ]
     },
     "metadata": {
      "needs_background": "light"
     },
     "output_type": "display_data"
    }
   ],
   "source": [
    "plot_objective(result=gp_, plot_dims=dim_names)\n",
    "plt.show()"
   ]
  },
  {
   "cell_type": "markdown",
   "metadata": {},
   "source": [
    "## Evaluation order\n",
    "\n",
    "[plot_evaluations](https://scikit-optimize.github.io/stable/modules/generated/skopt.plots.plot_evaluations.html)"
   ]
  },
  {
   "cell_type": "code",
   "execution_count": 27,
   "metadata": {},
   "outputs": [
    {
     "data": {
      "image/png": "[encoded data removed]",
      "text/plain": [
       "<Figure size 432x432 with 9 Axes>"
      ]
     },
     "metadata": {
      "needs_background": "light"
     },
     "output_type": "display_data"
    }
   ],
   "source": [
    "plot_evaluations(result=gp_, plot_dims=dim_names)\n",
    "plt.show()"
   ]
  },
  {
   "cell_type": "markdown",
   "metadata": {
    "_cell_guid": "e758621d-b27b-40ff-a93f-bebd2e0e5243",
    "_uuid": "0a1834f2a9f2db15dcaba4a84004b9627d714469"
   },
   "source": [
    "# Evaluate the model"
   ]
  },
  {
   "cell_type": "code",
   "execution_count": 32,
   "metadata": {},
   "outputs": [],
   "source": [
    "# load best model\n",
    "\n",
    "model = load_model(path_best_model)"
   ]
  },
  {
   "cell_type": "code",
   "execution_count": 33,
   "metadata": {},
   "outputs": [
    {
     "name": "stdout",
     "output_type": "stream",
     "text": [
      "132/132 [==============================] - 1s 4ms/step - loss: 0.0460 - accuracy: 0.9876\n"
     ]
    }
   ],
   "source": [
    "# make predictions in test set\n",
    "\n",
    "result = model.evaluate(x=X_test,\n",
    "                        y=y_test)"
   ]
  },
  {
   "cell_type": "code",
   "execution_count": 34,
   "metadata": {},
   "outputs": [
    {
     "name": "stdout",
     "output_type": "stream",
     "text": [
      "loss 0.046025849878787994\n",
      "accuracy 0.9876190423965454\n"
     ]
    }
   ],
   "source": [
    "# print evaluation metrics\n",
    "\n",
    "for name, value in zip(model.metrics_names, result):\n",
    "    print(name, value)"
   ]
  },
  {
   "cell_type": "markdown",
   "metadata": {
    "_cell_guid": "5688faa0-b33b-4e92-b125-7fa0b37e7df3",
    "_uuid": "3306d29b732341663e50866140dc569360701a81"
   },
   "source": [
    "## Confusion matrix"
   ]
  },
  {
   "cell_type": "code",
   "execution_count": 35,
   "metadata": {},
   "outputs": [
    {
     "data": {
      "text/plain": [
       "array([[418,   0,   0,   0,   1,   0,   0,   0,   3,   0],\n",
       "       [  0, 468,   0,   1,   0,   0,   1,   2,   1,   0],\n",
       "       [  0,   1, 406,   1,   0,   0,   0,   1,   0,   0],\n",
       "       [  0,   0,   1, 422,   0,   1,   0,   1,   0,   1],\n",
       "       [  1,   0,   0,   0, 426,   0,   1,   0,   0,   1],\n",
       "       [  0,   0,   0,   1,   0, 378,   1,   0,   1,   1],\n",
       "       [  1,   0,   0,   0,   2,   2, 407,   0,   0,   0],\n",
       "       [  0,   0,   1,   1,   0,   1,   0, 465,   0,   1],\n",
       "       [  0,   1,   1,   5,   0,   3,   0,   1, 372,   1],\n",
       "       [  2,   0,   0,   2,   3,   0,   0,   1,   0, 386]])"
      ]
     },
     "execution_count": 35,
     "metadata": {},
     "output_type": "execute_result"
    }
   ],
   "source": [
    "# Predict the values from the validation dataset\n",
    "y_pred = model.predict(X_test)\n",
    "\n",
    "# Convert predictions classes to one hot vectors \n",
    "y_pred_classes = np.argmax(y_pred, axis = 1)\n",
    "\n",
    "# Convert validation observations to one hot vectors\n",
    "y_true = np.argmax(y_test, axis = 1)\n",
    "\n",
    "# compute the confusion matrix\n",
    "cm = confusion_matrix(y_true, y_pred_classes) \n",
    "\n",
    "cm"
   ]
  },
  {
   "cell_type": "code",
   "execution_count": 32,
   "metadata": {
    "_cell_guid": "11361e73-8250-4bf5-a353-b0f8ea83e659",
    "_execution_state": "idle",
    "_uuid": "16e161179bf1b51ba66c39b2cead883f1db3a9c7"
   },
   "outputs": [
    {
     "data": {
      "text/plain": [
       "Text(0.5, 13.421126458070283, 'Predicted label')"
      ]
     },
     "execution_count": 32,
     "metadata": {},
     "output_type": "execute_result"
    },
    {
     "data": {
      "image/png": "[encoded data removed]",
      "text/plain": [
       "<Figure size 432x288 with 2 Axes>"
      ]
     },
     "metadata": {
      "needs_background": "light"
     },
     "output_type": "display_data"
    }
   ],
   "source": [
    "# let's make it more colourful\n",
    "classes = 10\n",
    "\n",
    "plt.imshow(cm, interpolation='nearest', cmap=plt.cm.Blues)\n",
    "plt.title('Confusion matrix')\n",
    "plt.colorbar()\n",
    "tick_marks = np.arange(classes)\n",
    "plt.xticks(tick_marks, range(classes), rotation=45)\n",
    "plt.yticks(tick_marks, range(classes))\n",
    "\n",
    "for i, j in itertools.product(range(cm.shape[0]), range(cm.shape[1])):\n",
    "    plt.text(j, i, cm[i, j],\n",
    "             horizontalalignment=\"center\",\n",
    "             color=\"white\" if cm[i, j] > 100 else \"black\",\n",
    "            )\n",
    "\n",
    "plt.tight_layout()\n",
    "plt.ylabel('True label')\n",
    "plt.xlabel('Predicted label')"
   ]
  },
  {
   "cell_type": "markdown",
   "metadata": {
    "_cell_guid": "1b8a5cdc-9122-4e31-b9fa-0f6b57d33fc8",
    "_uuid": "ecb928433299b163ecc1f6c4e66d4ddcf38fe898"
   },
   "source": [
    "Here we can see that our CNN performs very well on all digits.\n",
    "\n",
    "#  References\n",
    "\n",
    "This notebook was based on these resources:\n",
    "\n",
    "- [TensorFlow Tutorial #19](https://github.com/Hvass-Labs/TensorFlow-Tutorials/blob/master/19_Hyper-Parameters.ipynb)\n",
    "- [Introduction to CNN Keras - 0.997 (top 6%)](https://www.kaggle.com/yassineghouzam/introduction-to-cnn-keras-0-997-top-6)\n",
    "- [Keras](https://keras.io/)"
   ]
  },
  {
   "cell_type": "code",
   "execution_count": null,
   "metadata": {},
   "outputs": [],
   "source": []
  }
 ],
 "metadata": {
  "kernelspec": {
   "display_name": "html",
   "language": "python",
   "name": "html"
  },
  "language_info": {
   "codemirror_mode": {
    "name": "ipython",
    "version": 3
   },
   "file_extension": ".py",
   "mimetype": "text/x-python",
   "name": "python",
   "nbconvert_exporter": "python",
   "pygments_lexer": "ipython3",
   "version": "3.8.2"
  },
  "toc": {
   "base_numbering": 1,
   "nav_menu": {},
   "number_sections": true,
   "sideBar": true,
   "skip_h1_title": false,
   "title_cell": "Table of Contents",
   "title_sidebar": "Contents",
   "toc_cell": false,
   "toc_position": {
    "height": "calc(100% - 180px)",
    "left": "10px",
    "top": "150px",
    "width": "288.467px"
   },
   "toc_section_display": true,
   "toc_window_display": true
  }
 },
 "nbformat": 4,
 "nbformat_minor": 2
}
