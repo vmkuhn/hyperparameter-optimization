{
 "cells": [
  {
   "cell_type": "markdown",
   "metadata": {},
   "source": [
    "## Search algorithms within Optuna\n",
    "\n",
    "In this notebook, I will demo how to select the search algorithm with Optuna. We will compare the use of:\n",
    "\n",
    "- Grid Search \n",
    "- Randomized search\n",
    "- Tree-structured Parzen Estimators\n",
    "- CMA-ES\n",
    "\n",
    "\n",
    "We can select the search algorithm from the [optuna.study.create_study()](https://optuna.readthedocs.io/en/stable/reference/generated/optuna.study.create_study.html#optuna.study.create_study) class."
   ]
  },
  {
   "cell_type": "code",
   "execution_count": 2,
   "metadata": {},
   "outputs": [],
   "source": [
    "import numpy as np\n",
    "import pandas as pd\n",
    "import matplotlib.pyplot as plt\n",
    "\n",
    "from sklearn.datasets import load_breast_cancer\n",
    "from sklearn.metrics import accuracy_score, roc_auc_score\n",
    "from sklearn.model_selection import cross_val_score, train_test_split\n",
    "from sklearn.ensemble import RandomForestClassifier\n",
    "\n",
    "import optuna"
   ]
  },
  {
   "cell_type": "code",
   "execution_count": 3,
   "metadata": {},
   "outputs": [
    {
     "data": {
      "text/html": [
       "<div>\n",
       "<style scoped>\n",
       "    .dataframe tbody tr th:only-of-type {\n",
       "        vertical-align: middle;\n",
       "    }\n",
       "\n",
       "    .dataframe tbody tr th {\n",
       "        vertical-align: top;\n",
       "    }\n",
       "\n",
       "    .dataframe thead th {\n",
       "        text-align: right;\n",
       "    }\n",
       "</style>\n",
       "<table border=\"1\" class=\"dataframe\">\n",
       "  <thead>\n",
       "    <tr style=\"text-align: right;\">\n",
       "      <th></th>\n",
       "      <th>0</th>\n",
       "      <th>1</th>\n",
       "      <th>2</th>\n",
       "      <th>3</th>\n",
       "      <th>4</th>\n",
       "      <th>5</th>\n",
       "      <th>6</th>\n",
       "      <th>7</th>\n",
       "      <th>8</th>\n",
       "      <th>9</th>\n",
       "      <th>...</th>\n",
       "      <th>20</th>\n",
       "      <th>21</th>\n",
       "      <th>22</th>\n",
       "      <th>23</th>\n",
       "      <th>24</th>\n",
       "      <th>25</th>\n",
       "      <th>26</th>\n",
       "      <th>27</th>\n",
       "      <th>28</th>\n",
       "      <th>29</th>\n",
       "    </tr>\n",
       "  </thead>\n",
       "  <tbody>\n",
       "    <tr>\n",
       "      <th>0</th>\n",
       "      <td>17.99</td>\n",
       "      <td>10.38</td>\n",
       "      <td>122.80</td>\n",
       "      <td>1001.0</td>\n",
       "      <td>0.11840</td>\n",
       "      <td>0.27760</td>\n",
       "      <td>0.3001</td>\n",
       "      <td>0.14710</td>\n",
       "      <td>0.2419</td>\n",
       "      <td>0.07871</td>\n",
       "      <td>...</td>\n",
       "      <td>25.38</td>\n",
       "      <td>17.33</td>\n",
       "      <td>184.60</td>\n",
       "      <td>2019.0</td>\n",
       "      <td>0.1622</td>\n",
       "      <td>0.6656</td>\n",
       "      <td>0.7119</td>\n",
       "      <td>0.2654</td>\n",
       "      <td>0.4601</td>\n",
       "      <td>0.11890</td>\n",
       "    </tr>\n",
       "    <tr>\n",
       "      <th>1</th>\n",
       "      <td>20.57</td>\n",
       "      <td>17.77</td>\n",
       "      <td>132.90</td>\n",
       "      <td>1326.0</td>\n",
       "      <td>0.08474</td>\n",
       "      <td>0.07864</td>\n",
       "      <td>0.0869</td>\n",
       "      <td>0.07017</td>\n",
       "      <td>0.1812</td>\n",
       "      <td>0.05667</td>\n",
       "      <td>...</td>\n",
       "      <td>24.99</td>\n",
       "      <td>23.41</td>\n",
       "      <td>158.80</td>\n",
       "      <td>1956.0</td>\n",
       "      <td>0.1238</td>\n",
       "      <td>0.1866</td>\n",
       "      <td>0.2416</td>\n",
       "      <td>0.1860</td>\n",
       "      <td>0.2750</td>\n",
       "      <td>0.08902</td>\n",
       "    </tr>\n",
       "    <tr>\n",
       "      <th>2</th>\n",
       "      <td>19.69</td>\n",
       "      <td>21.25</td>\n",
       "      <td>130.00</td>\n",
       "      <td>1203.0</td>\n",
       "      <td>0.10960</td>\n",
       "      <td>0.15990</td>\n",
       "      <td>0.1974</td>\n",
       "      <td>0.12790</td>\n",
       "      <td>0.2069</td>\n",
       "      <td>0.05999</td>\n",
       "      <td>...</td>\n",
       "      <td>23.57</td>\n",
       "      <td>25.53</td>\n",
       "      <td>152.50</td>\n",
       "      <td>1709.0</td>\n",
       "      <td>0.1444</td>\n",
       "      <td>0.4245</td>\n",
       "      <td>0.4504</td>\n",
       "      <td>0.2430</td>\n",
       "      <td>0.3613</td>\n",
       "      <td>0.08758</td>\n",
       "    </tr>\n",
       "    <tr>\n",
       "      <th>3</th>\n",
       "      <td>11.42</td>\n",
       "      <td>20.38</td>\n",
       "      <td>77.58</td>\n",
       "      <td>386.1</td>\n",
       "      <td>0.14250</td>\n",
       "      <td>0.28390</td>\n",
       "      <td>0.2414</td>\n",
       "      <td>0.10520</td>\n",
       "      <td>0.2597</td>\n",
       "      <td>0.09744</td>\n",
       "      <td>...</td>\n",
       "      <td>14.91</td>\n",
       "      <td>26.50</td>\n",
       "      <td>98.87</td>\n",
       "      <td>567.7</td>\n",
       "      <td>0.2098</td>\n",
       "      <td>0.8663</td>\n",
       "      <td>0.6869</td>\n",
       "      <td>0.2575</td>\n",
       "      <td>0.6638</td>\n",
       "      <td>0.17300</td>\n",
       "    </tr>\n",
       "    <tr>\n",
       "      <th>4</th>\n",
       "      <td>20.29</td>\n",
       "      <td>14.34</td>\n",
       "      <td>135.10</td>\n",
       "      <td>1297.0</td>\n",
       "      <td>0.10030</td>\n",
       "      <td>0.13280</td>\n",
       "      <td>0.1980</td>\n",
       "      <td>0.10430</td>\n",
       "      <td>0.1809</td>\n",
       "      <td>0.05883</td>\n",
       "      <td>...</td>\n",
       "      <td>22.54</td>\n",
       "      <td>16.67</td>\n",
       "      <td>152.20</td>\n",
       "      <td>1575.0</td>\n",
       "      <td>0.1374</td>\n",
       "      <td>0.2050</td>\n",
       "      <td>0.4000</td>\n",
       "      <td>0.1625</td>\n",
       "      <td>0.2364</td>\n",
       "      <td>0.07678</td>\n",
       "    </tr>\n",
       "  </tbody>\n",
       "</table>\n",
       "<p>5 rows × 30 columns</p>\n",
       "</div>"
      ],
      "text/plain": [
       "      0      1       2       3        4        5       6        7       8   \\\n",
       "0  17.99  10.38  122.80  1001.0  0.11840  0.27760  0.3001  0.14710  0.2419   \n",
       "1  20.57  17.77  132.90  1326.0  0.08474  0.07864  0.0869  0.07017  0.1812   \n",
       "2  19.69  21.25  130.00  1203.0  0.10960  0.15990  0.1974  0.12790  0.2069   \n",
       "3  11.42  20.38   77.58   386.1  0.14250  0.28390  0.2414  0.10520  0.2597   \n",
       "4  20.29  14.34  135.10  1297.0  0.10030  0.13280  0.1980  0.10430  0.1809   \n",
       "\n",
       "        9   ...     20     21      22      23      24      25      26      27  \\\n",
       "0  0.07871  ...  25.38  17.33  184.60  2019.0  0.1622  0.6656  0.7119  0.2654   \n",
       "1  0.05667  ...  24.99  23.41  158.80  1956.0  0.1238  0.1866  0.2416  0.1860   \n",
       "2  0.05999  ...  23.57  25.53  152.50  1709.0  0.1444  0.4245  0.4504  0.2430   \n",
       "3  0.09744  ...  14.91  26.50   98.87   567.7  0.2098  0.8663  0.6869  0.2575   \n",
       "4  0.05883  ...  22.54  16.67  152.20  1575.0  0.1374  0.2050  0.4000  0.1625   \n",
       "\n",
       "       28       29  \n",
       "0  0.4601  0.11890  \n",
       "1  0.2750  0.08902  \n",
       "2  0.3613  0.08758  \n",
       "3  0.6638  0.17300  \n",
       "4  0.2364  0.07678  \n",
       "\n",
       "[5 rows x 30 columns]"
      ]
     },
     "execution_count": 3,
     "metadata": {},
     "output_type": "execute_result"
    }
   ],
   "source": [
    "# load dataset\n",
    "\n",
    "breast_cancer_X, breast_cancer_y = load_breast_cancer(return_X_y=True)\n",
    "X = pd.DataFrame(breast_cancer_X)\n",
    "y = pd.Series(breast_cancer_y).map({0:1, 1:0})\n",
    "\n",
    "X.head()"
   ]
  },
  {
   "cell_type": "code",
   "execution_count": 4,
   "metadata": {},
   "outputs": [
    {
     "data": {
      "text/plain": [
       "0    0.627417\n",
       "1    0.372583\n",
       "dtype: float64"
      ]
     },
     "execution_count": 4,
     "metadata": {},
     "output_type": "execute_result"
    }
   ],
   "source": [
    "# the target:\n",
    "# percentage of benign (0) and malign tumors (1)\n",
    "\n",
    "y.value_counts() / len(y)"
   ]
  },
  {
   "cell_type": "code",
   "execution_count": 5,
   "metadata": {},
   "outputs": [
    {
     "data": {
      "text/plain": [
       "((398, 30), (171, 30))"
      ]
     },
     "execution_count": 5,
     "metadata": {},
     "output_type": "execute_result"
    }
   ],
   "source": [
    "# split dataset into a train and test set\n",
    "\n",
    "X_train, X_test, y_train, y_test = train_test_split(\n",
    "    X, y, test_size=0.3, random_state=0)\n",
    "\n",
    "X_train.shape, X_test.shape"
   ]
  },
  {
   "cell_type": "markdown",
   "metadata": {},
   "source": [
    "## Define the objective function\n",
    "\n",
    "This is the hyperparameter response space, the function we want to minimize."
   ]
  },
  {
   "cell_type": "code",
   "execution_count": 6,
   "metadata": {},
   "outputs": [],
   "source": [
    "# the objective function takes the hyperparameter space\n",
    "# as input\n",
    "\n",
    "def objective(trial):\n",
    "\n",
    "    rf_n_estimators = trial.suggest_int(\"rf_n_estimators\", 100, 1000)\n",
    "    rf_criterion = trial.suggest_categorical(\"rf_criterion\", ['gini', 'entropy'])\n",
    "    rf_max_depth = trial.suggest_int(\"rf_max_depth\", 1, 4)\n",
    "    rf_min_samples_split = trial.suggest_float(\"rf_min_samples_split\", 0.01, 1)\n",
    "    \n",
    "    model = RandomForestClassifier(\n",
    "        n_estimators=rf_n_estimators,\n",
    "        criterion=rf_criterion,\n",
    "        max_depth=rf_max_depth,\n",
    "        min_samples_split=rf_min_samples_split,\n",
    "    )\n",
    "\n",
    "    score = cross_val_score(model, X_train, y_train, cv=3)\n",
    "    accuracy = score.mean()\n",
    "    return accuracy"
   ]
  },
  {
   "cell_type": "markdown",
   "metadata": {},
   "source": [
    "## Randomized Search\n",
    "\n",
    "RandomSampler()"
   ]
  },
  {
   "cell_type": "code",
   "execution_count": 8,
   "metadata": {},
   "outputs": [
    {
     "name": "stderr",
     "output_type": "stream",
     "text": [
      "\u001b[32m[I 2022-10-07 16:24:23,355]\u001b[0m A new study created in memory with name: no-name-5856b91f-7972-40cc-a961-b9d60077da19\u001b[0m\n",
      "\u001b[32m[I 2022-10-07 16:24:24,399]\u001b[0m Trial 0 finished with value: 0.9196476038581302 and parameters: {'rf_n_estimators': 600, 'rf_criterion': 'gini', 'rf_max_depth': 1, 'rf_min_samples_split': 0.600115890802639}. Best is trial 0 with value: 0.9196476038581302.\u001b[0m\n",
      "\u001b[32m[I 2022-10-07 16:24:25,441]\u001b[0m Trial 1 finished with value: 0.6256360598465861 and parameters: {'rf_n_estimators': 707, 'rf_criterion': 'entropy', 'rf_max_depth': 2, 'rf_min_samples_split': 0.6762068975852243}. Best is trial 0 with value: 0.9196476038581302.\u001b[0m\n",
      "\u001b[32m[I 2022-10-07 16:24:26,986]\u001b[0m Trial 2 finished with value: 0.9296157059314955 and parameters: {'rf_n_estimators': 805, 'rf_criterion': 'gini', 'rf_max_depth': 4, 'rf_min_samples_split': 0.3570405061717201}. Best is trial 2 with value: 0.9296157059314955.\u001b[0m\n",
      "\u001b[32m[I 2022-10-07 16:24:28,178]\u001b[0m Trial 3 finished with value: 0.9146350725298094 and parameters: {'rf_n_estimators': 709, 'rf_criterion': 'gini', 'rf_max_depth': 4, 'rf_min_samples_split': 0.610861404092859}. Best is trial 2 with value: 0.9296157059314955.\u001b[0m\n",
      "\u001b[32m[I 2022-10-07 16:24:28,600]\u001b[0m Trial 4 finished with value: 0.9346662109820004 and parameters: {'rf_n_estimators': 227, 'rf_criterion': 'gini', 'rf_max_depth': 2, 'rf_min_samples_split': 0.3122576149168024}. Best is trial 4 with value: 0.9346662109820004.\u001b[0m\n",
      "\u001b[32m[I 2022-10-07 16:24:29,762]\u001b[0m Trial 5 finished with value: 0.9397357028935976 and parameters: {'rf_n_estimators': 627, 'rf_criterion': 'gini', 'rf_max_depth': 2, 'rf_min_samples_split': 0.020709626160625143}. Best is trial 5 with value: 0.9397357028935976.\u001b[0m\n",
      "\u001b[32m[I 2022-10-07 16:24:31,128]\u001b[0m Trial 6 finished with value: 0.6256360598465861 and parameters: {'rf_n_estimators': 921, 'rf_criterion': 'entropy', 'rf_max_depth': 4, 'rf_min_samples_split': 0.7910163063739178}. Best is trial 5 with value: 0.9397357028935976.\u001b[0m\n",
      "\u001b[32m[I 2022-10-07 16:24:32,463]\u001b[0m Trial 7 finished with value: 0.9196476038581302 and parameters: {'rf_n_estimators': 774, 'rf_criterion': 'entropy', 'rf_max_depth': 3, 'rf_min_samples_split': 0.5461486029590594}. Best is trial 5 with value: 0.9397357028935976.\u001b[0m\n",
      "\u001b[32m[I 2022-10-07 16:24:32,879]\u001b[0m Trial 8 finished with value: 0.6256360598465861 and parameters: {'rf_n_estimators': 272, 'rf_criterion': 'gini', 'rf_max_depth': 3, 'rf_min_samples_split': 0.8321646760752542}. Best is trial 5 with value: 0.9397357028935976.\u001b[0m\n",
      "\u001b[32m[I 2022-10-07 16:24:33,468]\u001b[0m Trial 9 finished with value: 0.6256360598465861 and parameters: {'rf_n_estimators': 387, 'rf_criterion': 'gini', 'rf_max_depth': 1, 'rf_min_samples_split': 0.8077258856736479}. Best is trial 5 with value: 0.9397357028935976.\u001b[0m\n"
     ]
    }
   ],
   "source": [
    "study = optuna.create_study(\n",
    "    direction=\"maximize\",\n",
    "    sampler=optuna.samplers.RandomSampler(),\n",
    ")\n",
    "\n",
    "\n",
    "study.optimize(objective, n_trials=10)"
   ]
  },
  {
   "cell_type": "code",
   "execution_count": 9,
   "metadata": {},
   "outputs": [
    {
     "data": {
      "text/plain": [
       "{'rf_n_estimators': 627,\n",
       " 'rf_criterion': 'gini',\n",
       " 'rf_max_depth': 2,\n",
       " 'rf_min_samples_split': 0.020709626160625143}"
      ]
     },
     "execution_count": 9,
     "metadata": {},
     "output_type": "execute_result"
    }
   ],
   "source": [
    "study.best_params"
   ]
  },
  {
   "cell_type": "code",
   "execution_count": 10,
   "metadata": {},
   "outputs": [
    {
     "data": {
      "text/plain": [
       "0.9397357028935976"
      ]
     },
     "execution_count": 10,
     "metadata": {},
     "output_type": "execute_result"
    }
   ],
   "source": [
    "study.best_value"
   ]
  },
  {
   "cell_type": "code",
   "execution_count": 11,
   "metadata": {},
   "outputs": [
    {
     "data": {
      "text/html": [
       "<div>\n",
       "<style scoped>\n",
       "    .dataframe tbody tr th:only-of-type {\n",
       "        vertical-align: middle;\n",
       "    }\n",
       "\n",
       "    .dataframe tbody tr th {\n",
       "        vertical-align: top;\n",
       "    }\n",
       "\n",
       "    .dataframe thead th {\n",
       "        text-align: right;\n",
       "    }\n",
       "</style>\n",
       "<table border=\"1\" class=\"dataframe\">\n",
       "  <thead>\n",
       "    <tr style=\"text-align: right;\">\n",
       "      <th></th>\n",
       "      <th>number</th>\n",
       "      <th>value</th>\n",
       "      <th>datetime_start</th>\n",
       "      <th>datetime_complete</th>\n",
       "      <th>duration</th>\n",
       "      <th>params_rf_criterion</th>\n",
       "      <th>params_rf_max_depth</th>\n",
       "      <th>params_rf_min_samples_split</th>\n",
       "      <th>params_rf_n_estimators</th>\n",
       "      <th>state</th>\n",
       "    </tr>\n",
       "  </thead>\n",
       "  <tbody>\n",
       "    <tr>\n",
       "      <th>0</th>\n",
       "      <td>0</td>\n",
       "      <td>0.919648</td>\n",
       "      <td>2022-10-07 16:24:23.358145</td>\n",
       "      <td>2022-10-07 16:24:24.399010</td>\n",
       "      <td>0 days 00:00:01.040865</td>\n",
       "      <td>gini</td>\n",
       "      <td>1</td>\n",
       "      <td>0.600116</td>\n",
       "      <td>600</td>\n",
       "      <td>COMPLETE</td>\n",
       "    </tr>\n",
       "    <tr>\n",
       "      <th>1</th>\n",
       "      <td>1</td>\n",
       "      <td>0.625636</td>\n",
       "      <td>2022-10-07 16:24:24.400075</td>\n",
       "      <td>2022-10-07 16:24:25.441576</td>\n",
       "      <td>0 days 00:00:01.041501</td>\n",
       "      <td>entropy</td>\n",
       "      <td>2</td>\n",
       "      <td>0.676207</td>\n",
       "      <td>707</td>\n",
       "      <td>COMPLETE</td>\n",
       "    </tr>\n",
       "    <tr>\n",
       "      <th>2</th>\n",
       "      <td>2</td>\n",
       "      <td>0.929616</td>\n",
       "      <td>2022-10-07 16:24:25.442572</td>\n",
       "      <td>2022-10-07 16:24:26.986688</td>\n",
       "      <td>0 days 00:00:01.544116</td>\n",
       "      <td>gini</td>\n",
       "      <td>4</td>\n",
       "      <td>0.357041</td>\n",
       "      <td>805</td>\n",
       "      <td>COMPLETE</td>\n",
       "    </tr>\n",
       "    <tr>\n",
       "      <th>3</th>\n",
       "      <td>3</td>\n",
       "      <td>0.914635</td>\n",
       "      <td>2022-10-07 16:24:26.987651</td>\n",
       "      <td>2022-10-07 16:24:28.178564</td>\n",
       "      <td>0 days 00:00:01.190913</td>\n",
       "      <td>gini</td>\n",
       "      <td>4</td>\n",
       "      <td>0.610861</td>\n",
       "      <td>709</td>\n",
       "      <td>COMPLETE</td>\n",
       "    </tr>\n",
       "    <tr>\n",
       "      <th>4</th>\n",
       "      <td>4</td>\n",
       "      <td>0.934666</td>\n",
       "      <td>2022-10-07 16:24:28.179643</td>\n",
       "      <td>2022-10-07 16:24:28.600533</td>\n",
       "      <td>0 days 00:00:00.420890</td>\n",
       "      <td>gini</td>\n",
       "      <td>2</td>\n",
       "      <td>0.312258</td>\n",
       "      <td>227</td>\n",
       "      <td>COMPLETE</td>\n",
       "    </tr>\n",
       "    <tr>\n",
       "      <th>5</th>\n",
       "      <td>5</td>\n",
       "      <td>0.939736</td>\n",
       "      <td>2022-10-07 16:24:28.601462</td>\n",
       "      <td>2022-10-07 16:24:29.762421</td>\n",
       "      <td>0 days 00:00:01.160959</td>\n",
       "      <td>gini</td>\n",
       "      <td>2</td>\n",
       "      <td>0.020710</td>\n",
       "      <td>627</td>\n",
       "      <td>COMPLETE</td>\n",
       "    </tr>\n",
       "    <tr>\n",
       "      <th>6</th>\n",
       "      <td>6</td>\n",
       "      <td>0.625636</td>\n",
       "      <td>2022-10-07 16:24:29.763407</td>\n",
       "      <td>2022-10-07 16:24:31.128043</td>\n",
       "      <td>0 days 00:00:01.364636</td>\n",
       "      <td>entropy</td>\n",
       "      <td>4</td>\n",
       "      <td>0.791016</td>\n",
       "      <td>921</td>\n",
       "      <td>COMPLETE</td>\n",
       "    </tr>\n",
       "    <tr>\n",
       "      <th>7</th>\n",
       "      <td>7</td>\n",
       "      <td>0.919648</td>\n",
       "      <td>2022-10-07 16:24:31.129048</td>\n",
       "      <td>2022-10-07 16:24:32.463516</td>\n",
       "      <td>0 days 00:00:01.334468</td>\n",
       "      <td>entropy</td>\n",
       "      <td>3</td>\n",
       "      <td>0.546149</td>\n",
       "      <td>774</td>\n",
       "      <td>COMPLETE</td>\n",
       "    </tr>\n",
       "    <tr>\n",
       "      <th>8</th>\n",
       "      <td>8</td>\n",
       "      <td>0.625636</td>\n",
       "      <td>2022-10-07 16:24:32.464642</td>\n",
       "      <td>2022-10-07 16:24:32.878965</td>\n",
       "      <td>0 days 00:00:00.414323</td>\n",
       "      <td>gini</td>\n",
       "      <td>3</td>\n",
       "      <td>0.832165</td>\n",
       "      <td>272</td>\n",
       "      <td>COMPLETE</td>\n",
       "    </tr>\n",
       "    <tr>\n",
       "      <th>9</th>\n",
       "      <td>9</td>\n",
       "      <td>0.625636</td>\n",
       "      <td>2022-10-07 16:24:32.880106</td>\n",
       "      <td>2022-10-07 16:24:33.468027</td>\n",
       "      <td>0 days 00:00:00.587921</td>\n",
       "      <td>gini</td>\n",
       "      <td>1</td>\n",
       "      <td>0.807726</td>\n",
       "      <td>387</td>\n",
       "      <td>COMPLETE</td>\n",
       "    </tr>\n",
       "  </tbody>\n",
       "</table>\n",
       "</div>"
      ],
      "text/plain": [
       "   number     value             datetime_start          datetime_complete  \\\n",
       "0       0  0.919648 2022-10-07 16:24:23.358145 2022-10-07 16:24:24.399010   \n",
       "1       1  0.625636 2022-10-07 16:24:24.400075 2022-10-07 16:24:25.441576   \n",
       "2       2  0.929616 2022-10-07 16:24:25.442572 2022-10-07 16:24:26.986688   \n",
       "3       3  0.914635 2022-10-07 16:24:26.987651 2022-10-07 16:24:28.178564   \n",
       "4       4  0.934666 2022-10-07 16:24:28.179643 2022-10-07 16:24:28.600533   \n",
       "5       5  0.939736 2022-10-07 16:24:28.601462 2022-10-07 16:24:29.762421   \n",
       "6       6  0.625636 2022-10-07 16:24:29.763407 2022-10-07 16:24:31.128043   \n",
       "7       7  0.919648 2022-10-07 16:24:31.129048 2022-10-07 16:24:32.463516   \n",
       "8       8  0.625636 2022-10-07 16:24:32.464642 2022-10-07 16:24:32.878965   \n",
       "9       9  0.625636 2022-10-07 16:24:32.880106 2022-10-07 16:24:33.468027   \n",
       "\n",
       "                duration params_rf_criterion  params_rf_max_depth  \\\n",
       "0 0 days 00:00:01.040865                gini                    1   \n",
       "1 0 days 00:00:01.041501             entropy                    2   \n",
       "2 0 days 00:00:01.544116                gini                    4   \n",
       "3 0 days 00:00:01.190913                gini                    4   \n",
       "4 0 days 00:00:00.420890                gini                    2   \n",
       "5 0 days 00:00:01.160959                gini                    2   \n",
       "6 0 days 00:00:01.364636             entropy                    4   \n",
       "7 0 days 00:00:01.334468             entropy                    3   \n",
       "8 0 days 00:00:00.414323                gini                    3   \n",
       "9 0 days 00:00:00.587921                gini                    1   \n",
       "\n",
       "   params_rf_min_samples_split  params_rf_n_estimators     state  \n",
       "0                     0.600116                     600  COMPLETE  \n",
       "1                     0.676207                     707  COMPLETE  \n",
       "2                     0.357041                     805  COMPLETE  \n",
       "3                     0.610861                     709  COMPLETE  \n",
       "4                     0.312258                     227  COMPLETE  \n",
       "5                     0.020710                     627  COMPLETE  \n",
       "6                     0.791016                     921  COMPLETE  \n",
       "7                     0.546149                     774  COMPLETE  \n",
       "8                     0.832165                     272  COMPLETE  \n",
       "9                     0.807726                     387  COMPLETE  "
      ]
     },
     "execution_count": 11,
     "metadata": {},
     "output_type": "execute_result"
    }
   ],
   "source": [
    "study.trials_dataframe()"
   ]
  },
  {
   "cell_type": "markdown",
   "metadata": {},
   "source": [
    "## TPE\n",
    "\n",
    "TPESampler is the default"
   ]
  },
  {
   "cell_type": "code",
   "execution_count": 12,
   "metadata": {},
   "outputs": [
    {
     "name": "stderr",
     "output_type": "stream",
     "text": [
      "\u001b[32m[I 2022-10-07 16:24:52,260]\u001b[0m A new study created in memory with name: no-name-f1298ac9-77d3-4502-b16c-43798b7dcff8\u001b[0m\n",
      "\u001b[32m[I 2022-10-07 16:24:53,617]\u001b[0m Trial 0 finished with value: 0.6256360598465861 and parameters: {'rf_n_estimators': 899, 'rf_criterion': 'gini', 'rf_max_depth': 3, 'rf_min_samples_split': 0.7077732992599175}. Best is trial 0 with value: 0.6256360598465861.\u001b[0m\n",
      "\u001b[32m[I 2022-10-07 16:24:54,673]\u001b[0m Trial 1 finished with value: 0.9221728563833826 and parameters: {'rf_n_estimators': 632, 'rf_criterion': 'entropy', 'rf_max_depth': 1, 'rf_min_samples_split': 0.30024577491324306}. Best is trial 1 with value: 0.9221728563833826.\u001b[0m\n",
      "\u001b[32m[I 2022-10-07 16:24:55,164]\u001b[0m Trial 2 finished with value: 0.6256360598465861 and parameters: {'rf_n_estimators': 333, 'rf_criterion': 'gini', 'rf_max_depth': 2, 'rf_min_samples_split': 0.9543522925471329}. Best is trial 1 with value: 0.9221728563833826.\u001b[0m\n",
      "\u001b[32m[I 2022-10-07 16:24:56,345]\u001b[0m Trial 3 finished with value: 0.9321409584567478 and parameters: {'rf_n_estimators': 620, 'rf_criterion': 'gini', 'rf_max_depth': 4, 'rf_min_samples_split': 0.3292567147048957}. Best is trial 3 with value: 0.9321409584567478.\u001b[0m\n",
      "\u001b[32m[I 2022-10-07 16:24:57,112]\u001b[0m Trial 4 finished with value: 0.6256360598465861 and parameters: {'rf_n_estimators': 519, 'rf_criterion': 'entropy', 'rf_max_depth': 4, 'rf_min_samples_split': 0.8030363019149119}. Best is trial 3 with value: 0.9321409584567478.\u001b[0m\n"
     ]
    }
   ],
   "source": [
    "study = optuna.create_study(\n",
    "    direction=\"maximize\",\n",
    "    sampler=optuna.samplers.TPESampler(),\n",
    ")\n",
    "\n",
    "\n",
    "study.optimize(objective, n_trials=5)"
   ]
  },
  {
   "cell_type": "code",
   "execution_count": 13,
   "metadata": {},
   "outputs": [
    {
     "data": {
      "text/plain": [
       "{'rf_n_estimators': 620,\n",
       " 'rf_criterion': 'gini',\n",
       " 'rf_max_depth': 4,\n",
       " 'rf_min_samples_split': 0.3292567147048957}"
      ]
     },
     "execution_count": 13,
     "metadata": {},
     "output_type": "execute_result"
    }
   ],
   "source": [
    "study.best_params"
   ]
  },
  {
   "cell_type": "code",
   "execution_count": 14,
   "metadata": {},
   "outputs": [
    {
     "data": {
      "text/plain": [
       "0.9321409584567478"
      ]
     },
     "execution_count": 14,
     "metadata": {},
     "output_type": "execute_result"
    }
   ],
   "source": [
    "study.best_value"
   ]
  },
  {
   "cell_type": "markdown",
   "metadata": {},
   "source": [
    "## CMA-ES\n",
    "\n",
    "CmaEsSampler"
   ]
  },
  {
   "cell_type": "code",
   "execution_count": 15,
   "metadata": {},
   "outputs": [
    {
     "name": "stderr",
     "output_type": "stream",
     "text": [
      "\u001b[32m[I 2022-10-07 16:25:41,333]\u001b[0m A new study created in memory with name: no-name-ef5ccf58-697a-4a1a-8c4e-afe845862f35\u001b[0m\n",
      "\u001b[32m[I 2022-10-07 16:25:43,180]\u001b[0m Trial 0 finished with value: 0.9472544998860788 and parameters: {'rf_n_estimators': 862, 'rf_criterion': 'entropy', 'rf_max_depth': 3, 'rf_min_samples_split': 0.019005506756964653}. Best is trial 0 with value: 0.9472544998860788.\u001b[0m\n",
      "\u001b[33m[W 2022-10-07 16:25:43,189]\u001b[0m The parameter 'rf_criterion' in trial#1 is sampled independently by using `RandomSampler` instead of `CmaEsSampler` (optimization performance may be degraded). `CmaEsSampler` does not support dynamic search space or `CategoricalDistribution`. You can suppress this warning by setting `warn_independent_sampling` to `False` in the constructor of `CmaEsSampler`, if this independent sampling is intended behavior.\u001b[0m\n",
      "\u001b[32m[I 2022-10-07 16:25:44,010]\u001b[0m Trial 1 finished with value: 0.6256360598465861 and parameters: {'rf_n_estimators': 550, 'rf_criterion': 'entropy', 'rf_max_depth': 3, 'rf_min_samples_split': 0.6687805229435007}. Best is trial 0 with value: 0.9472544998860788.\u001b[0m\n",
      "\u001b[33m[W 2022-10-07 16:25:44,011]\u001b[0m The parameter 'rf_criterion' in trial#2 is sampled independently by using `RandomSampler` instead of `CmaEsSampler` (optimization performance may be degraded). `CmaEsSampler` does not support dynamic search space or `CategoricalDistribution`. You can suppress this warning by setting `warn_independent_sampling` to `False` in the constructor of `CmaEsSampler`, if this independent sampling is intended behavior.\u001b[0m\n",
      "\u001b[32m[I 2022-10-07 16:25:44,938]\u001b[0m Trial 2 finished with value: 0.9196476038581302 and parameters: {'rf_n_estimators': 550, 'rf_criterion': 'gini', 'rf_max_depth': 3, 'rf_min_samples_split': 0.5077145408455092}. Best is trial 0 with value: 0.9472544998860788.\u001b[0m\n",
      "\u001b[33m[W 2022-10-07 16:25:44,940]\u001b[0m The parameter 'rf_criterion' in trial#3 is sampled independently by using `RandomSampler` instead of `CmaEsSampler` (optimization performance may be degraded). `CmaEsSampler` does not support dynamic search space or `CategoricalDistribution`. You can suppress this warning by setting `warn_independent_sampling` to `False` in the constructor of `CmaEsSampler`, if this independent sampling is intended behavior.\u001b[0m\n",
      "\u001b[32m[I 2022-10-07 16:25:45,933]\u001b[0m Trial 3 finished with value: 0.9346851978430926 and parameters: {'rf_n_estimators': 550, 'rf_criterion': 'entropy', 'rf_max_depth': 3, 'rf_min_samples_split': 0.41753069633746853}. Best is trial 0 with value: 0.9472544998860788.\u001b[0m\n",
      "\u001b[33m[W 2022-10-07 16:25:45,935]\u001b[0m The parameter 'rf_criterion' in trial#4 is sampled independently by using `RandomSampler` instead of `CmaEsSampler` (optimization performance may be degraded). `CmaEsSampler` does not support dynamic search space or `CategoricalDistribution`. You can suppress this warning by setting `warn_independent_sampling` to `False` in the constructor of `CmaEsSampler`, if this independent sampling is intended behavior.\u001b[0m\n",
      "\u001b[32m[I 2022-10-07 16:25:46,926]\u001b[0m Trial 4 finished with value: 0.9321409584567478 and parameters: {'rf_n_estimators': 550, 'rf_criterion': 'entropy', 'rf_max_depth': 2, 'rf_min_samples_split': 0.3689620319614416}. Best is trial 0 with value: 0.9472544998860788.\u001b[0m\n"
     ]
    }
   ],
   "source": [
    "study = optuna.create_study(\n",
    "    direction=\"maximize\",\n",
    "    sampler=optuna.samplers.CmaEsSampler(),\n",
    ")\n",
    "\n",
    "study.optimize(objective, n_trials=5)"
   ]
  },
  {
   "cell_type": "code",
   "execution_count": 16,
   "metadata": {},
   "outputs": [
    {
     "data": {
      "text/plain": [
       "{'rf_n_estimators': 862,\n",
       " 'rf_criterion': 'entropy',\n",
       " 'rf_max_depth': 3,\n",
       " 'rf_min_samples_split': 0.019005506756964653}"
      ]
     },
     "execution_count": 16,
     "metadata": {},
     "output_type": "execute_result"
    }
   ],
   "source": [
    "study.best_params"
   ]
  },
  {
   "cell_type": "code",
   "execution_count": 17,
   "metadata": {},
   "outputs": [
    {
     "data": {
      "text/plain": [
       "0.9472544998860788"
      ]
     },
     "execution_count": 17,
     "metadata": {},
     "output_type": "execute_result"
    }
   ],
   "source": [
    "study.best_value"
   ]
  },
  {
   "cell_type": "markdown",
   "metadata": {},
   "source": [
    "## Grid Search\n",
    "\n",
    "GridSampler()\n",
    "\n",
    "We are probably not going to perform GridSearch with Optuna, but in case you wanted to, you need to add a variable with the space, with the exact values that you want to be tested."
   ]
  },
  {
   "cell_type": "code",
   "execution_count": 18,
   "metadata": {},
   "outputs": [],
   "source": [
    "search_space = {\n",
    "    \"rf_n_estimators\": [100, 500, 1000],\n",
    "    \"rf_criterion\": ['gini', 'entropy'],\n",
    "    \"rf_max_depth\": [1, 2, 3],\n",
    "    \"rf_min_samples_split\": [0.1, 1.0]\n",
    "}\n"
   ]
  },
  {
   "cell_type": "code",
   "execution_count": 19,
   "metadata": {},
   "outputs": [
    {
     "name": "stderr",
     "output_type": "stream",
     "text": [
      "\u001b[32m[I 2022-10-07 16:26:15,882]\u001b[0m A new study created in memory with name: no-name-eab4ef2e-fc7a-4000-ae04-947cb225b789\u001b[0m\n",
      "\u001b[32m[I 2022-10-07 16:26:16,659]\u001b[0m Trial 0 finished with value: 0.6256360598465861 and parameters: {'rf_n_estimators': 500, 'rf_criterion': 'entropy', 'rf_max_depth': 3, 'rf_min_samples_split': 1.0}. Best is trial 0 with value: 0.6256360598465861.\u001b[0m\n",
      "\u001b[32m[I 2022-10-07 16:26:18,509]\u001b[0m Trial 1 finished with value: 0.9397357028935976 and parameters: {'rf_n_estimators': 1000, 'rf_criterion': 'gini', 'rf_max_depth': 2, 'rf_min_samples_split': 0.1}. Best is trial 1 with value: 0.9397357028935976.\u001b[0m\n",
      "\u001b[32m[I 2022-10-07 16:26:19,507]\u001b[0m Trial 2 finished with value: 0.937210450368345 and parameters: {'rf_n_estimators': 500, 'rf_criterion': 'entropy', 'rf_max_depth': 2, 'rf_min_samples_split': 0.1}. Best is trial 1 with value: 0.9397357028935976.\u001b[0m\n",
      "\u001b[32m[I 2022-10-07 16:26:21,017]\u001b[0m Trial 3 finished with value: 0.6256360598465861 and parameters: {'rf_n_estimators': 1000, 'rf_criterion': 'gini', 'rf_max_depth': 3, 'rf_min_samples_split': 1.0}. Best is trial 1 with value: 0.9397357028935976.\u001b[0m\n",
      "\u001b[32m[I 2022-10-07 16:26:21,181]\u001b[0m Trial 4 finished with value: 0.6256360598465861 and parameters: {'rf_n_estimators': 100, 'rf_criterion': 'entropy', 'rf_max_depth': 2, 'rf_min_samples_split': 1.0}. Best is trial 1 with value: 0.9397357028935976.\u001b[0m\n",
      "\u001b[32m[I 2022-10-07 16:26:21,949]\u001b[0m Trial 5 finished with value: 0.6256360598465861 and parameters: {'rf_n_estimators': 500, 'rf_criterion': 'entropy', 'rf_max_depth': 1, 'rf_min_samples_split': 1.0}. Best is trial 1 with value: 0.9397357028935976.\u001b[0m\n",
      "\u001b[32m[I 2022-10-07 16:26:23,914]\u001b[0m Trial 6 finished with value: 0.9397357028935976 and parameters: {'rf_n_estimators': 1000, 'rf_criterion': 'gini', 'rf_max_depth': 3, 'rf_min_samples_split': 0.1}. Best is trial 1 with value: 0.9397357028935976.\u001b[0m\n",
      "\u001b[32m[I 2022-10-07 16:26:24,767]\u001b[0m Trial 7 finished with value: 0.9146160856687172 and parameters: {'rf_n_estimators': 500, 'rf_criterion': 'gini', 'rf_max_depth': 1, 'rf_min_samples_split': 0.1}. Best is trial 1 with value: 0.9397357028935976.\u001b[0m\n",
      "\u001b[32m[I 2022-10-07 16:26:24,931]\u001b[0m Trial 8 finished with value: 0.6256360598465861 and parameters: {'rf_n_estimators': 100, 'rf_criterion': 'entropy', 'rf_max_depth': 1, 'rf_min_samples_split': 1.0}. Best is trial 1 with value: 0.9397357028935976.\u001b[0m\n",
      "\u001b[32m[I 2022-10-07 16:26:25,091]\u001b[0m Trial 9 finished with value: 0.6256360598465861 and parameters: {'rf_n_estimators': 100, 'rf_criterion': 'entropy', 'rf_max_depth': 3, 'rf_min_samples_split': 1.0}. Best is trial 1 with value: 0.9397357028935976.\u001b[0m\n",
      "\u001b[32m[I 2022-10-07 16:26:25,284]\u001b[0m Trial 10 finished with value: 0.924679122047543 and parameters: {'rf_n_estimators': 100, 'rf_criterion': 'entropy', 'rf_max_depth': 1, 'rf_min_samples_split': 0.1}. Best is trial 1 with value: 0.9397357028935976.\u001b[0m\n",
      "\u001b[32m[I 2022-10-07 16:26:26,756]\u001b[0m Trial 11 finished with value: 0.6256360598465861 and parameters: {'rf_n_estimators': 1000, 'rf_criterion': 'entropy', 'rf_max_depth': 2, 'rf_min_samples_split': 1.0}. Best is trial 1 with value: 0.9397357028935976.\u001b[0m\n",
      "\u001b[32m[I 2022-10-07 16:26:26,974]\u001b[0m Trial 12 finished with value: 0.937191463507253 and parameters: {'rf_n_estimators': 100, 'rf_criterion': 'entropy', 'rf_max_depth': 3, 'rf_min_samples_split': 0.1}. Best is trial 1 with value: 0.9397357028935976.\u001b[0m\n",
      "\u001b[32m[I 2022-10-07 16:26:27,962]\u001b[0m Trial 13 finished with value: 0.937210450368345 and parameters: {'rf_n_estimators': 500, 'rf_criterion': 'gini', 'rf_max_depth': 3, 'rf_min_samples_split': 0.1}. Best is trial 1 with value: 0.9397357028935976.\u001b[0m\n",
      "\u001b[32m[I 2022-10-07 16:26:28,125]\u001b[0m Trial 14 finished with value: 0.6256360598465861 and parameters: {'rf_n_estimators': 100, 'rf_criterion': 'gini', 'rf_max_depth': 3, 'rf_min_samples_split': 1.0}. Best is trial 1 with value: 0.9397357028935976.\u001b[0m\n",
      "\u001b[32m[I 2022-10-07 16:26:29,131]\u001b[0m Trial 15 finished with value: 0.9397357028935976 and parameters: {'rf_n_estimators': 500, 'rf_criterion': 'entropy', 'rf_max_depth': 3, 'rf_min_samples_split': 0.1}. Best is trial 1 with value: 0.9397357028935976.\u001b[0m\n",
      "\u001b[32m[I 2022-10-07 16:26:30,684]\u001b[0m Trial 16 finished with value: 0.6256360598465861 and parameters: {'rf_n_estimators': 1000, 'rf_criterion': 'gini', 'rf_max_depth': 1, 'rf_min_samples_split': 1.0}. Best is trial 1 with value: 0.9397357028935976.\u001b[0m\n",
      "\u001b[32m[I 2022-10-07 16:26:31,432]\u001b[0m Trial 17 finished with value: 0.6256360598465861 and parameters: {'rf_n_estimators': 500, 'rf_criterion': 'gini', 'rf_max_depth': 2, 'rf_min_samples_split': 1.0}. Best is trial 1 with value: 0.9397357028935976.\u001b[0m\n",
      "\u001b[32m[I 2022-10-07 16:26:33,148]\u001b[0m Trial 18 finished with value: 0.9146160856687172 and parameters: {'rf_n_estimators': 1000, 'rf_criterion': 'gini', 'rf_max_depth': 1, 'rf_min_samples_split': 0.1}. Best is trial 1 with value: 0.9397357028935976.\u001b[0m\n",
      "\u001b[32m[I 2022-10-07 16:26:33,906]\u001b[0m Trial 19 finished with value: 0.6256360598465861 and parameters: {'rf_n_estimators': 500, 'rf_criterion': 'gini', 'rf_max_depth': 3, 'rf_min_samples_split': 1.0}. Best is trial 1 with value: 0.9397357028935976.\u001b[0m\n",
      "\u001b[32m[I 2022-10-07 16:26:34,089]\u001b[0m Trial 20 finished with value: 0.9070403280929596 and parameters: {'rf_n_estimators': 100, 'rf_criterion': 'gini', 'rf_max_depth': 1, 'rf_min_samples_split': 0.1}. Best is trial 1 with value: 0.9397357028935976.\u001b[0m\n",
      "\u001b[32m[I 2022-10-07 16:26:34,250]\u001b[0m Trial 21 finished with value: 0.6256360598465861 and parameters: {'rf_n_estimators': 100, 'rf_criterion': 'gini', 'rf_max_depth': 1, 'rf_min_samples_split': 1.0}. Best is trial 1 with value: 0.9397357028935976.\u001b[0m\n",
      "\u001b[32m[I 2022-10-07 16:26:35,732]\u001b[0m Trial 22 finished with value: 0.6256360598465861 and parameters: {'rf_n_estimators': 1000, 'rf_criterion': 'entropy', 'rf_max_depth': 1, 'rf_min_samples_split': 1.0}. Best is trial 1 with value: 0.9397357028935976.\u001b[0m\n",
      "\u001b[32m[I 2022-10-07 16:26:37,621]\u001b[0m Trial 23 finished with value: 0.9372294372294373 and parameters: {'rf_n_estimators': 1000, 'rf_criterion': 'entropy', 'rf_max_depth': 2, 'rf_min_samples_split': 0.1}. Best is trial 1 with value: 0.9397357028935976.\u001b[0m\n",
      "\u001b[32m[I 2022-10-07 16:26:39,116]\u001b[0m Trial 24 finished with value: 0.6256360598465861 and parameters: {'rf_n_estimators': 1000, 'rf_criterion': 'entropy', 'rf_max_depth': 3, 'rf_min_samples_split': 1.0}. Best is trial 1 with value: 0.9397357028935976.\u001b[0m\n",
      "\u001b[32m[I 2022-10-07 16:26:41,058]\u001b[0m Trial 25 finished with value: 0.9397357028935976 and parameters: {'rf_n_estimators': 1000, 'rf_criterion': 'entropy', 'rf_max_depth': 3, 'rf_min_samples_split': 0.1}. Best is trial 1 with value: 0.9397357028935976.\u001b[0m\n",
      "\u001b[32m[I 2022-10-07 16:26:42,748]\u001b[0m Trial 26 finished with value: 0.9171413381939697 and parameters: {'rf_n_estimators': 1000, 'rf_criterion': 'entropy', 'rf_max_depth': 1, 'rf_min_samples_split': 0.1}. Best is trial 1 with value: 0.9397357028935976.\u001b[0m\n",
      "\u001b[32m[I 2022-10-07 16:26:43,684]\u001b[0m Trial 27 finished with value: 0.9397357028935976 and parameters: {'rf_n_estimators': 500, 'rf_criterion': 'gini', 'rf_max_depth': 2, 'rf_min_samples_split': 0.1}. Best is trial 1 with value: 0.9397357028935976.\u001b[0m\n",
      "\u001b[32m[I 2022-10-07 16:26:43,890]\u001b[0m Trial 28 finished with value: 0.942241968557758 and parameters: {'rf_n_estimators': 100, 'rf_criterion': 'entropy', 'rf_max_depth': 2, 'rf_min_samples_split': 0.1}. Best is trial 28 with value: 0.942241968557758.\u001b[0m\n",
      "\u001b[32m[I 2022-10-07 16:26:44,053]\u001b[0m Trial 29 finished with value: 0.6256360598465861 and parameters: {'rf_n_estimators': 100, 'rf_criterion': 'gini', 'rf_max_depth': 2, 'rf_min_samples_split': 1.0}. Best is trial 28 with value: 0.942241968557758.\u001b[0m\n",
      "\u001b[32m[I 2022-10-07 16:26:44,803]\u001b[0m Trial 30 finished with value: 0.6256360598465861 and parameters: {'rf_n_estimators': 500, 'rf_criterion': 'entropy', 'rf_max_depth': 2, 'rf_min_samples_split': 1.0}. Best is trial 28 with value: 0.942241968557758.\u001b[0m\n",
      "\u001b[32m[I 2022-10-07 16:26:46,264]\u001b[0m Trial 31 finished with value: 0.6256360598465861 and parameters: {'rf_n_estimators': 1000, 'rf_criterion': 'gini', 'rf_max_depth': 2, 'rf_min_samples_split': 1.0}. Best is trial 28 with value: 0.942241968557758.\u001b[0m\n",
      "\u001b[32m[I 2022-10-07 16:26:47,013]\u001b[0m Trial 32 finished with value: 0.6256360598465861 and parameters: {'rf_n_estimators': 500, 'rf_criterion': 'gini', 'rf_max_depth': 1, 'rf_min_samples_split': 1.0}. Best is trial 28 with value: 0.942241968557758.\u001b[0m\n",
      "\u001b[32m[I 2022-10-07 16:26:47,225]\u001b[0m Trial 33 finished with value: 0.937210450368345 and parameters: {'rf_n_estimators': 100, 'rf_criterion': 'gini', 'rf_max_depth': 3, 'rf_min_samples_split': 0.1}. Best is trial 28 with value: 0.942241968557758.\u001b[0m\n",
      "\u001b[32m[I 2022-10-07 16:26:48,124]\u001b[0m Trial 34 finished with value: 0.9171223513328776 and parameters: {'rf_n_estimators': 500, 'rf_criterion': 'entropy', 'rf_max_depth': 1, 'rf_min_samples_split': 0.1}. Best is trial 28 with value: 0.942241968557758.\u001b[0m\n",
      "\u001b[32m[I 2022-10-07 16:26:48,325]\u001b[0m Trial 35 finished with value: 0.9347041847041847 and parameters: {'rf_n_estimators': 100, 'rf_criterion': 'gini', 'rf_max_depth': 2, 'rf_min_samples_split': 0.1}. Best is trial 28 with value: 0.942241968557758.\u001b[0m\n"
     ]
    }
   ],
   "source": [
    "study = optuna.create_study(\n",
    "    direction=\"maximize\",\n",
    "    sampler=optuna.samplers.GridSampler(search_space),\n",
    ")\n",
    "\n",
    "study.optimize(objective)"
   ]
  },
  {
   "cell_type": "code",
   "execution_count": 20,
   "metadata": {},
   "outputs": [
    {
     "data": {
      "text/plain": [
       "{'rf_n_estimators': 100,\n",
       " 'rf_criterion': 'entropy',\n",
       " 'rf_max_depth': 2,\n",
       " 'rf_min_samples_split': 0.1}"
      ]
     },
     "execution_count": 20,
     "metadata": {},
     "output_type": "execute_result"
    }
   ],
   "source": [
    "study.best_params"
   ]
  },
  {
   "cell_type": "code",
   "execution_count": 21,
   "metadata": {},
   "outputs": [
    {
     "data": {
      "text/plain": [
       "0.942241968557758"
      ]
     },
     "execution_count": 21,
     "metadata": {},
     "output_type": "execute_result"
    }
   ],
   "source": [
    "study.best_value"
   ]
  },
  {
   "cell_type": "code",
   "execution_count": null,
   "metadata": {},
   "outputs": [],
   "source": []
  }
 ],
 "metadata": {
  "kernelspec": {
   "display_name": "Python 3.9.14 ('hyperparameter-optimization': venv)",
   "language": "python",
   "name": "python3"
  },
  "language_info": {
   "codemirror_mode": {
    "name": "ipython",
    "version": 3
   },
   "file_extension": ".py",
   "mimetype": "text/x-python",
   "name": "python",
   "nbconvert_exporter": "python",
   "pygments_lexer": "ipython3",
   "version": "3.9.14"
  },
  "toc": {
   "base_numbering": 1,
   "nav_menu": {},
   "number_sections": true,
   "sideBar": true,
   "skip_h1_title": false,
   "title_cell": "Table of Contents",
   "title_sidebar": "Contents",
   "toc_cell": false,
   "toc_position": {},
   "toc_section_display": true,
   "toc_window_display": true
  },
  "vscode": {
   "interpreter": {
    "hash": "2b5166dc44e1c447f633fd495edf8ade93e6e9a81bfb1e7ede5f55ce3b3ba8fa"
   }
  }
 },
 "nbformat": 4,
 "nbformat_minor": 4
}
