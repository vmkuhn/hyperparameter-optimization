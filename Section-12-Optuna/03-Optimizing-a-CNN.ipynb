{
 "cells": [
  {
   "cell_type": "markdown",
   "metadata": {
    "_cell_guid": "d4c08f48-fe23-4ddb-ac46-d97f05397514",
    "_uuid": "f2156d1dd26a1243e18512002e10872c5bd7271e"
   },
   "source": [
    "# Optimization of CNN - TPE\n",
    "\n",
    "In this notebook, we will optimize the hyperparameters of a CNN using the define-by-run model from Optuna."
   ]
  },
  {
   "cell_type": "code",
   "execution_count": 1,
   "metadata": {},
   "outputs": [
    {
     "name": "stderr",
     "output_type": "stream",
     "text": [
      "2022-10-07 16:29:58.850895: W tensorflow/stream_executor/platform/default/dso_loader.cc:64] Could not load dynamic library 'libcudart.so.11.0'; dlerror: libcudart.so.11.0: cannot open shared object file: No such file or directory\n",
      "2022-10-07 16:29:58.850980: I tensorflow/stream_executor/cuda/cudart_stub.cc:29] Ignore above cudart dlerror if you do not have a GPU set up on your machine.\n"
     ]
    }
   ],
   "source": [
    "# For reproducible results.\n",
    "# See: \n",
    "# https://keras.io/getting_started/faq/#how-can-i-obtain-reproducible-results-using-keras-during-development\n",
    "\n",
    "import os\n",
    "os.environ['PYTHONHASHSEED'] = '0'\n",
    "\n",
    "import numpy as np\n",
    "import tensorflow as tf\n",
    "import random as python_random\n",
    "\n",
    "# The below is necessary for starting Numpy generated random numbers\n",
    "# in a well-defined initial state.\n",
    "np.random.seed(123)\n",
    "\n",
    "# The below is necessary for starting core Python generated random numbers\n",
    "# in a well-defined state.\n",
    "python_random.seed(123)\n",
    "\n",
    "# The below set_seed() will make random number generation\n",
    "# in the TensorFlow backend have a well-defined initial state.\n",
    "# For further details, see:\n",
    "# https://www.tensorflow.org/api_docs/python/tf/random/set_seed\n",
    "tf.random.set_seed(1234)"
   ]
  },
  {
   "cell_type": "code",
   "execution_count": 2,
   "metadata": {
    "_cell_guid": "f67b9393-8ea1-4e23-b856-2ce149cfe421",
    "_execution_state": "idle",
    "_uuid": "72334cb006d02a4bcfc2a2fe622524eba824c6f8"
   },
   "outputs": [],
   "source": [
    "import itertools\n",
    "from functools import partial\n",
    "\n",
    "import pandas as pd\n",
    "import matplotlib.pyplot as plt\n",
    "import seaborn as sns\n",
    "\n",
    "from sklearn.model_selection import train_test_split\n",
    "from sklearn.metrics import confusion_matrix"
   ]
  },
  {
   "cell_type": "code",
   "execution_count": 6,
   "metadata": {},
   "outputs": [],
   "source": [
    "from keras.utils.np_utils import to_categorical\n",
    "from tensorflow.keras.models import Sequential, load_model\n",
    "from tensorflow.keras.layers import Dense, Flatten, Conv2D, MaxPool2D\n",
    "from tensorflow.keras.optimizers import Adam, RMSprop"
   ]
  },
  {
   "cell_type": "code",
   "execution_count": 7,
   "metadata": {},
   "outputs": [],
   "source": [
    "import optuna"
   ]
  },
  {
   "cell_type": "markdown",
   "metadata": {
    "_cell_guid": "6d2fb3e6-ab71-4974-b5a2-4af1ebdb99f4",
    "_execution_state": "idle",
    "_uuid": "86061d98eccaa02efe0dab0fa3884e71fcf4c310"
   },
   "source": [
    "#  Data Preparation\n",
    "\n",
    "The dataset contains information about images, each image is a hand-written digit. The aim is to have the computer predict which digit was written by the person, automatically, by \"looking\" at the image. \n",
    "\n",
    "Each image is 28 pixels in height and 28 pixels in width (28 x 28), making a total of 784 pixels. Each pixel value is an integer between 0 and 255, indicating the darkness in a gray-scale of that pixel.\n",
    "\n",
    "The data is stored in a dataframe where each each pixel is a column (so it is flattened and not in the 28 x 28 format). \n",
    "\n",
    "The data set the has 785 columns. The first column, called \"label\", is the digit that was drawn by the user. The rest of the columns contain the pixel-values of the associated image."
   ]
  },
  {
   "cell_type": "code",
   "execution_count": 8,
   "metadata": {
    "_cell_guid": "5e51d00e-62fd-4141-bf73-50ac4f2da7d0",
    "_execution_state": "idle",
    "_uuid": "84bbd5ab8d7895bd430d5ecfe2f7ddf77baa7b74"
   },
   "outputs": [
    {
     "data": {
      "text/html": [
       "<div>\n",
       "<style scoped>\n",
       "    .dataframe tbody tr th:only-of-type {\n",
       "        vertical-align: middle;\n",
       "    }\n",
       "\n",
       "    .dataframe tbody tr th {\n",
       "        vertical-align: top;\n",
       "    }\n",
       "\n",
       "    .dataframe thead th {\n",
       "        text-align: right;\n",
       "    }\n",
       "</style>\n",
       "<table border=\"1\" class=\"dataframe\">\n",
       "  <thead>\n",
       "    <tr style=\"text-align: right;\">\n",
       "      <th></th>\n",
       "      <th>label</th>\n",
       "      <th>pixel0</th>\n",
       "      <th>pixel1</th>\n",
       "      <th>pixel2</th>\n",
       "      <th>pixel3</th>\n",
       "      <th>pixel4</th>\n",
       "      <th>pixel5</th>\n",
       "      <th>pixel6</th>\n",
       "      <th>pixel7</th>\n",
       "      <th>pixel8</th>\n",
       "      <th>...</th>\n",
       "      <th>pixel774</th>\n",
       "      <th>pixel775</th>\n",
       "      <th>pixel776</th>\n",
       "      <th>pixel777</th>\n",
       "      <th>pixel778</th>\n",
       "      <th>pixel779</th>\n",
       "      <th>pixel780</th>\n",
       "      <th>pixel781</th>\n",
       "      <th>pixel782</th>\n",
       "      <th>pixel783</th>\n",
       "    </tr>\n",
       "  </thead>\n",
       "  <tbody>\n",
       "    <tr>\n",
       "      <th>0</th>\n",
       "      <td>1</td>\n",
       "      <td>0</td>\n",
       "      <td>0</td>\n",
       "      <td>0</td>\n",
       "      <td>0</td>\n",
       "      <td>0</td>\n",
       "      <td>0</td>\n",
       "      <td>0</td>\n",
       "      <td>0</td>\n",
       "      <td>0</td>\n",
       "      <td>...</td>\n",
       "      <td>0</td>\n",
       "      <td>0</td>\n",
       "      <td>0</td>\n",
       "      <td>0</td>\n",
       "      <td>0</td>\n",
       "      <td>0</td>\n",
       "      <td>0</td>\n",
       "      <td>0</td>\n",
       "      <td>0</td>\n",
       "      <td>0</td>\n",
       "    </tr>\n",
       "    <tr>\n",
       "      <th>1</th>\n",
       "      <td>0</td>\n",
       "      <td>0</td>\n",
       "      <td>0</td>\n",
       "      <td>0</td>\n",
       "      <td>0</td>\n",
       "      <td>0</td>\n",
       "      <td>0</td>\n",
       "      <td>0</td>\n",
       "      <td>0</td>\n",
       "      <td>0</td>\n",
       "      <td>...</td>\n",
       "      <td>0</td>\n",
       "      <td>0</td>\n",
       "      <td>0</td>\n",
       "      <td>0</td>\n",
       "      <td>0</td>\n",
       "      <td>0</td>\n",
       "      <td>0</td>\n",
       "      <td>0</td>\n",
       "      <td>0</td>\n",
       "      <td>0</td>\n",
       "    </tr>\n",
       "    <tr>\n",
       "      <th>2</th>\n",
       "      <td>1</td>\n",
       "      <td>0</td>\n",
       "      <td>0</td>\n",
       "      <td>0</td>\n",
       "      <td>0</td>\n",
       "      <td>0</td>\n",
       "      <td>0</td>\n",
       "      <td>0</td>\n",
       "      <td>0</td>\n",
       "      <td>0</td>\n",
       "      <td>...</td>\n",
       "      <td>0</td>\n",
       "      <td>0</td>\n",
       "      <td>0</td>\n",
       "      <td>0</td>\n",
       "      <td>0</td>\n",
       "      <td>0</td>\n",
       "      <td>0</td>\n",
       "      <td>0</td>\n",
       "      <td>0</td>\n",
       "      <td>0</td>\n",
       "    </tr>\n",
       "    <tr>\n",
       "      <th>3</th>\n",
       "      <td>4</td>\n",
       "      <td>0</td>\n",
       "      <td>0</td>\n",
       "      <td>0</td>\n",
       "      <td>0</td>\n",
       "      <td>0</td>\n",
       "      <td>0</td>\n",
       "      <td>0</td>\n",
       "      <td>0</td>\n",
       "      <td>0</td>\n",
       "      <td>...</td>\n",
       "      <td>0</td>\n",
       "      <td>0</td>\n",
       "      <td>0</td>\n",
       "      <td>0</td>\n",
       "      <td>0</td>\n",
       "      <td>0</td>\n",
       "      <td>0</td>\n",
       "      <td>0</td>\n",
       "      <td>0</td>\n",
       "      <td>0</td>\n",
       "    </tr>\n",
       "    <tr>\n",
       "      <th>4</th>\n",
       "      <td>0</td>\n",
       "      <td>0</td>\n",
       "      <td>0</td>\n",
       "      <td>0</td>\n",
       "      <td>0</td>\n",
       "      <td>0</td>\n",
       "      <td>0</td>\n",
       "      <td>0</td>\n",
       "      <td>0</td>\n",
       "      <td>0</td>\n",
       "      <td>...</td>\n",
       "      <td>0</td>\n",
       "      <td>0</td>\n",
       "      <td>0</td>\n",
       "      <td>0</td>\n",
       "      <td>0</td>\n",
       "      <td>0</td>\n",
       "      <td>0</td>\n",
       "      <td>0</td>\n",
       "      <td>0</td>\n",
       "      <td>0</td>\n",
       "    </tr>\n",
       "  </tbody>\n",
       "</table>\n",
       "<p>5 rows × 785 columns</p>\n",
       "</div>"
      ],
      "text/plain": [
       "   label  pixel0  pixel1  pixel2  pixel3  pixel4  pixel5  pixel6  pixel7  \\\n",
       "0      1       0       0       0       0       0       0       0       0   \n",
       "1      0       0       0       0       0       0       0       0       0   \n",
       "2      1       0       0       0       0       0       0       0       0   \n",
       "3      4       0       0       0       0       0       0       0       0   \n",
       "4      0       0       0       0       0       0       0       0       0   \n",
       "\n",
       "   pixel8  ...  pixel774  pixel775  pixel776  pixel777  pixel778  pixel779  \\\n",
       "0       0  ...         0         0         0         0         0         0   \n",
       "1       0  ...         0         0         0         0         0         0   \n",
       "2       0  ...         0         0         0         0         0         0   \n",
       "3       0  ...         0         0         0         0         0         0   \n",
       "4       0  ...         0         0         0         0         0         0   \n",
       "\n",
       "   pixel780  pixel781  pixel782  pixel783  \n",
       "0         0         0         0         0  \n",
       "1         0         0         0         0  \n",
       "2         0         0         0         0  \n",
       "3         0         0         0         0  \n",
       "4         0         0         0         0  \n",
       "\n",
       "[5 rows x 785 columns]"
      ]
     },
     "execution_count": 8,
     "metadata": {},
     "output_type": "execute_result"
    }
   ],
   "source": [
    "# Load the data\n",
    "\n",
    "data = pd.read_csv(\"../mnist.csv\")\n",
    "\n",
    "# first column is the target, the rest of the columns\n",
    "# are the pixels of the image\n",
    "\n",
    "# each row is 1 image\n",
    "data.head()"
   ]
  },
  {
   "cell_type": "code",
   "execution_count": 9,
   "metadata": {},
   "outputs": [
    {
     "data": {
      "text/plain": [
       "((37800, 784), (4200, 784))"
      ]
     },
     "execution_count": 9,
     "metadata": {},
     "output_type": "execute_result"
    }
   ],
   "source": [
    "# split dataset into a train and test set\n",
    "\n",
    "X_train, X_test, y_train, y_test = train_test_split(\n",
    "    data.drop(['label'], axis=1), # the images\n",
    "    data['label'], # the target\n",
    "    test_size = 0.1,\n",
    "    random_state=0)\n",
    "\n",
    "X_train.shape, X_test.shape"
   ]
  },
  {
   "cell_type": "code",
   "execution_count": 10,
   "metadata": {
    "_cell_guid": "86570a36-5c20-460a-9dfd-2070548532a7",
    "_execution_state": "idle",
    "_uuid": "1213b979d5ed3e0d13824d17d694c79d2ece92fa"
   },
   "outputs": [
    {
     "data": {
      "text/plain": [
       "Text(0, 0.5, 'Number of images')"
      ]
     },
     "execution_count": 10,
     "metadata": {},
     "output_type": "execute_result"
    },
    {
     "data": {
      "image/png": "[encoded data removed]",
      "text/plain": [
       "<Figure size 640x480 with 1 Axes>"
      ]
     },
     "metadata": {},
     "output_type": "display_data"
    }
   ],
   "source": [
    "# number of images for each digit\n",
    "\n",
    "g = sns.countplot(x=y_train)\n",
    "plt.xlabel('Digits')\n",
    "plt.ylabel('Number of images')"
   ]
  },
  {
   "cell_type": "markdown",
   "metadata": {
    "_cell_guid": "5aea4062-1790-4987-b739-c4bebd79030f",
    "_uuid": "b7b1b1d36243c885e57374c8b60c5a7e10abe922"
   },
   "source": [
    "There are roughly the same amount of images for each of the 10 digits."
   ]
  },
  {
   "cell_type": "markdown",
   "metadata": {
    "_cell_guid": "6812040d-80ad-43d2-a571-275f4f20067b",
    "_uuid": "2954681f25f0dcbe986e6914396cdbce61db591f"
   },
   "source": [
    "## Image re-scaling\n",
    "\n",
    "We re-scale data for the CNN, between 0 and 1."
   ]
  },
  {
   "cell_type": "code",
   "execution_count": 11,
   "metadata": {
    "_cell_guid": "cdc4340b-6e24-4e12-be99-ac806098ff17",
    "_execution_state": "idle",
    "_uuid": "b5d4f8fcf2a967e2c7d57daedf95aa8c5ab7f8cb"
   },
   "outputs": [],
   "source": [
    "# Re-scale the data\n",
    "\n",
    "# 255 is the maximum value a pixel can take\n",
    "\n",
    "X_train = X_train / 255\n",
    "X_test = X_test / 255"
   ]
  },
  {
   "cell_type": "markdown",
   "metadata": {
    "_cell_guid": "7413df94-bcb9-4f75-b174-c127d4445766",
    "_uuid": "a66741bf1ac597094f3a3166877008feef27c519"
   },
   "source": [
    "## Reshape\n",
    "\n",
    "The images were stored in a pandas dataframe as 1-D vectors of 784 values. For a CNN with Keras, we need tensors with the following dimensions: width x height x channel. \n",
    "\n",
    "Thus, we reshape all data to 28 x 2 8 x 1, 3-D matrices. \n",
    "\n",
    "The 3rd dimension corresponds to the channel. RGB images have 3 channels. MNIST images are in gray-scale, thus they have only one channel in the 3rd dimension."
   ]
  },
  {
   "cell_type": "code",
   "execution_count": 12,
   "metadata": {
    "_cell_guid": "34b6a5f7-8fd2-4387-8ef4-c9dc19584fed",
    "_execution_state": "idle",
    "_uuid": "f0a6ad80dab8e0f2c2e46165ccd9cd82dd162bc3"
   },
   "outputs": [],
   "source": [
    "# Reshape image in 3 dimensions:\n",
    "# height: 28px X width: 28px X channel: 1 \n",
    "\n",
    "X_train = X_train.values.reshape(-1,28,28,1)\n",
    "X_test = X_test.values.reshape(-1,28,28,1)"
   ]
  },
  {
   "cell_type": "markdown",
   "metadata": {
    "_cell_guid": "bdb422e2-bdec-444f-97a5-283a1e54bf2c",
    "_uuid": "39b7a31e843bac6b705461bcce89da216b91799e"
   },
   "source": [
    "## Target encoding"
   ]
  },
  {
   "cell_type": "code",
   "execution_count": 13,
   "metadata": {},
   "outputs": [
    {
     "data": {
      "text/plain": [
       "array([2, 0, 7, 4, 3, 5, 9, 6, 8, 1])"
      ]
     },
     "execution_count": 13,
     "metadata": {},
     "output_type": "execute_result"
    }
   ],
   "source": [
    "# the target is 1 variable with the 9 different digits\n",
    "# as values\n",
    "\n",
    "y_train.unique()"
   ]
  },
  {
   "cell_type": "code",
   "execution_count": 14,
   "metadata": {
    "_cell_guid": "4b7f3e78-44dc-4561-b1f0-9429ee024cf4",
    "_execution_state": "idle",
    "_uuid": "cabefd1478d5c1bdfe57fd6a34395340916a854c"
   },
   "outputs": [
    {
     "data": {
      "text/plain": [
       "array([[0., 0., 1., ..., 0., 0., 0.],\n",
       "       [0., 0., 1., ..., 0., 0., 0.],\n",
       "       [1., 0., 0., ..., 0., 0., 0.],\n",
       "       ...,\n",
       "       [0., 0., 0., ..., 0., 0., 1.],\n",
       "       [1., 0., 0., ..., 0., 0., 0.],\n",
       "       [0., 0., 0., ..., 0., 0., 1.]], dtype=float32)"
      ]
     },
     "execution_count": 14,
     "metadata": {},
     "output_type": "execute_result"
    }
   ],
   "source": [
    "# For Keras, we need to create 10 dummy variables,\n",
    "# one for each digit\n",
    "\n",
    "# Encode labels to one hot vectors (ex : digit 2 -> [0,0,1,0,0,0,0,0,0,0])\n",
    "\n",
    "y_train = to_categorical(y_train, num_classes = 10)\n",
    "y_test = to_categorical(y_test, num_classes = 10)\n",
    "\n",
    "# the new target\n",
    "y_train"
   ]
  },
  {
   "cell_type": "markdown",
   "metadata": {
    "_cell_guid": "adbeacf0-0dc0-4675-b2df-9c9663750f32",
    "_uuid": "60eed15ec5bc0d354385301789ecb8538fc02267"
   },
   "source": [
    "Let's print some example images."
   ]
  },
  {
   "cell_type": "code",
   "execution_count": 15,
   "metadata": {
    "_cell_guid": "5f76131b-4ba0-45f1-a98c-bd4e7d561793",
    "_execution_state": "idle",
    "_uuid": "e0dae8943d3d35f075dba3d7ba31bde1d4bf2ff4"
   },
   "outputs": [
    {
     "data": {
      "image/png": "[encoded data removed]",
      "text/plain": [
       "<Figure size 640x480 with 1 Axes>"
      ]
     },
     "metadata": {},
     "output_type": "display_data"
    }
   ],
   "source": [
    "# Some image examples \n",
    "\n",
    "g = plt.imshow(X_train[0][:,:,0])"
   ]
  },
  {
   "cell_type": "code",
   "execution_count": 16,
   "metadata": {},
   "outputs": [
    {
     "data": {
      "image/png": "[encoded data removed]",
      "text/plain": [
       "<Figure size 640x480 with 1 Axes>"
      ]
     },
     "metadata": {},
     "output_type": "display_data"
    }
   ],
   "source": [
    "# Some image examples \n",
    "\n",
    "g = plt.imshow(X_train[10][:,:,0])"
   ]
  },
  {
   "cell_type": "markdown",
   "metadata": {
    "_cell_guid": "d5265777-aeb3-449d-b171-d88cad74c0a4",
    "_uuid": "5fa18b37a9acd9e098bac1d12264b0dd4310fdd3"
   },
   "source": [
    "# Define-by-Run design\n",
    "\n",
    "We create the CNN and add the sampling space for the hyperparameters as we go. This is the Desing-by-run concept."
   ]
  },
  {
   "cell_type": "code",
   "execution_count": 17,
   "metadata": {},
   "outputs": [],
   "source": [
    "# we will save the model with this name\n",
    "path_best_model = 'cnn_model.h5'\n",
    "\n",
    "# starting point for the optimization\n",
    "best_accuracy = 0"
   ]
  },
  {
   "cell_type": "code",
   "execution_count": 18,
   "metadata": {},
   "outputs": [],
   "source": [
    "# function to create the CNN\n",
    "\n",
    "def objective(trial):\n",
    "\n",
    "    # Start construction of a Keras Sequential model.\n",
    "    model = Sequential()\n",
    "\n",
    "    # Convolutional layers.\n",
    "\n",
    "    # We add the different number of conv layers in the following loop:\n",
    "    num_conv_layers = trial.suggest_int('num_conv_layers', 1, 3)\n",
    "\n",
    "    for i in range(num_conv_layers):\n",
    "        \n",
    "        # NOTE: As per the below configuration, the parameters of each\n",
    "        # convolutional layer will be identical.\n",
    "        \n",
    "        # if we want different parameters in each layer, check next\n",
    "        # notebook\n",
    "\n",
    "        model.add(Conv2D(\n",
    "            filters=trial.suggest_categorical('filters', [16, 32, 64]),\n",
    "            kernel_size=trial.suggest_categorical('kernel_size', [3, 5]),\n",
    "            strides=trial.suggest_categorical('strides', [1, 2]),\n",
    "            activation=trial.suggest_categorical(\n",
    "                'activation', ['relu', 'tanh']),\n",
    "            padding='same',\n",
    "        ))\n",
    "\n",
    "    # we could also optimize these parameters if we wanted:\n",
    "    model.add(MaxPool2D(pool_size=2, strides=2))\n",
    "\n",
    "    # Flatten the 4-rank output of the convolutional layers\n",
    "    # to 2-rank that can be input to a fully-connected Dense layer.\n",
    "    model.add(Flatten())\n",
    "\n",
    "    # Add fully-connected Dense layers.\n",
    "    # The number of layers is a hyper-parameter we want to optimize.\n",
    "    # We add the different number of layers in the following loop:\n",
    "\n",
    "    num_dense_layers = trial.suggest_int('num_dense_layers', 1, 3)\n",
    "\n",
    "    for i in range(num_dense_layers):\n",
    "\n",
    "        # Add the dense fully-connected layer to the model.\n",
    "        # This has two hyper-parameters we want to optimize:\n",
    "        # The number of nodes (neurons) and the activation function.\n",
    "        model.add(Dense(\n",
    "            units=trial.suggest_int('units', 5, 512),\n",
    "            activation=trial.suggest_categorical(\n",
    "                'activation', ['relu', 'tanh']),\n",
    "        ))\n",
    "\n",
    "    # Last fully-connected dense layer with softmax-activation\n",
    "    # for use in classification.\n",
    "    model.add(Dense(10, activation='softmax'))\n",
    "\n",
    "    # Use the Adam method for training the network.\n",
    "    optimizer_name = trial.suggest_categorical(\n",
    "        'optimizer_name', ['Adam', 'RMSprop'])\n",
    "\n",
    "    if optimizer_name == 'Adam':\n",
    "        optimizer = Adam(lr=trial.suggest_float('learning_rate',  1e-6, 1e-2))\n",
    "    else:\n",
    "        optimizer = RMSprop(\n",
    "            lr=trial.suggest_float('learning_rate',  1e-6, 1e-2),\n",
    "            momentum=trial.suggest_float('momentum',  0.1, 0.9),\n",
    "        )\n",
    "\n",
    "    # In Keras we need to compile the model so it can be trained.\n",
    "    model.compile(optimizer=optimizer,\n",
    "                  loss='categorical_crossentropy',\n",
    "                  metrics=['accuracy'])\n",
    "\n",
    "    # train the model\n",
    "    # we use 3 epochs to be able to run the notebook in a \"reasonable\"\n",
    "    # time. If we increase the epochs, we will have better performance\n",
    "    # this could be another parameter to optimize in fact.\n",
    "    history = model.fit(\n",
    "        x=X_train,\n",
    "        y=y_train,\n",
    "        epochs=3,\n",
    "        batch_size=128,\n",
    "        validation_split=0.1,\n",
    "    )\n",
    "\n",
    "    # Get the classification accuracy on the validation-set\n",
    "    # after the last training-epoch.\n",
    "    accuracy = history.history['val_accuracy'][-1]\n",
    "\n",
    "    # Save the model if it improves on the best-found performance.\n",
    "    # We use the global keyword so we update the variable outside\n",
    "    # of this function.\n",
    "    global best_accuracy\n",
    "\n",
    "    # If the classification accuracy of the saved model is improved ...\n",
    "    if accuracy > best_accuracy:\n",
    "        # Save the new model to harddisk.\n",
    "        # Training CNNs is costly, so we want to avoid having to re-train\n",
    "        # the network with the best found parameters. We save it instead\n",
    "        # as we search for the best hyperparam space.\n",
    "        model.save(path_best_model)\n",
    "\n",
    "        # Update the classification accuracy.\n",
    "        best_accuracy = accuracy\n",
    "\n",
    "    # Delete the Keras model with these hyper-parameters from memory.\n",
    "    del model\n",
    "\n",
    "    # Remember that Scikit-optimize always minimizes the objective\n",
    "    # function, so we need to negate the accuracy (because we want\n",
    "    # the maximum accuracy)\n",
    "    return accuracy"
   ]
  },
  {
   "cell_type": "code",
   "execution_count": 19,
   "metadata": {},
   "outputs": [],
   "source": [
    "# we need this to store the search\n",
    "# we will use it in the following notebook\n",
    "\n",
    "study_name = \"cnn_study\"  # unique identifier of the study.\n",
    "storage_name = \"sqlite:///{}.db\".format(study_name)"
   ]
  },
  {
   "cell_type": "code",
   "execution_count": 20,
   "metadata": {
    "scrolled": true
   },
   "outputs": [
    {
     "name": "stderr",
     "output_type": "stream",
     "text": [
      "\u001b[32m[I 2022-10-07 16:32:08,517]\u001b[0m Using an existing study with name 'cnn_study' instead of creating a new one.\u001b[0m\n",
      "2022-10-07 16:32:08.571401: W tensorflow/stream_executor/platform/default/dso_loader.cc:64] Could not load dynamic library 'libcuda.so.1'; dlerror: libcuda.so.1: cannot open shared object file: No such file or directory\n",
      "2022-10-07 16:32:08.571489: W tensorflow/stream_executor/cuda/cuda_driver.cc:326] failed call to cuInit: UNKNOWN ERROR (303)\n",
      "2022-10-07 16:32:08.571547: I tensorflow/stream_executor/cuda/cuda_diagnostics.cc:156] kernel driver does not appear to be running on this host (LAP-VK-DS): /proc/driver/nvidia/version does not exist\n",
      "2022-10-07 16:32:08.572815: I tensorflow/core/platform/cpu_feature_guard.cc:142] This TensorFlow binary is optimized with oneAPI Deep Neural Network Library (oneDNN) to use the following CPU instructions in performance-critical operations:  AVX2 FMA\n",
      "To enable them in other operations, rebuild TensorFlow with the appropriate compiler flags.\n",
      "/home/kuhn/Github_local/hyperparameter-optimization/.venv/hyperparameter-optimization/lib/python3.9/site-packages/tensorflow/python/keras/optimizer_v2/optimizer_v2.py:374: UserWarning: The `lr` argument is deprecated, use `learning_rate` instead.\n",
      "  warnings.warn(\n",
      "2022-10-07 16:32:08.841874: I tensorflow/compiler/mlir/mlir_graph_optimization_pass.cc:176] None of the MLIR Optimization Passes are enabled (registered 2)\n",
      "2022-10-07 16:32:08.842918: I tensorflow/core/platform/profile_utils/cpu_utils.cc:114] CPU Frequency: 2496000000 Hz\n"
     ]
    },
    {
     "name": "stdout",
     "output_type": "stream",
     "text": [
      "Epoch 1/3\n",
      "266/266 [==============================] - 9s 33ms/step - loss: 0.2153 - accuracy: 0.9308 - val_loss: 0.1051 - val_accuracy: 0.9709\n",
      "Epoch 2/3\n",
      "266/266 [==============================] - 9s 33ms/step - loss: 0.0645 - accuracy: 0.9796 - val_loss: 0.1329 - val_accuracy: 0.9664\n",
      "Epoch 3/3\n",
      "266/266 [==============================] - 11s 41ms/step - loss: 0.0434 - accuracy: 0.9868 - val_loss: 0.0703 - val_accuracy: 0.9775\n"
     ]
    },
    {
     "name": "stderr",
     "output_type": "stream",
     "text": [
      "\u001b[32m[I 2022-10-07 16:32:37,516]\u001b[0m Trial 30 finished with value: 0.9775132536888123 and parameters: {'num_conv_layers': 2, 'filters': 64, 'kernel_size': 5, 'strides': 2, 'activation': 'relu', 'num_dense_layers': 2, 'units': 257, 'optimizer_name': 'Adam', 'learning_rate': 0.0028749964721622202}. Best is trial 12 with value: 0.9838624596595764.\u001b[0m\n"
     ]
    },
    {
     "name": "stdout",
     "output_type": "stream",
     "text": [
      "Epoch 1/3\n",
      "266/266 [==============================] - 3s 12ms/step - loss: 0.2479 - accuracy: 0.9240 - val_loss: 0.0994 - val_accuracy: 0.9717\n",
      "Epoch 2/3\n",
      "266/266 [==============================] - 3s 10ms/step - loss: 0.0685 - accuracy: 0.9788 - val_loss: 0.0749 - val_accuracy: 0.9786\n",
      "Epoch 3/3\n",
      "266/266 [==============================] - 3s 10ms/step - loss: 0.0427 - accuracy: 0.9864 - val_loss: 0.0751 - val_accuracy: 0.9783\n"
     ]
    },
    {
     "name": "stderr",
     "output_type": "stream",
     "text": [
      "\u001b[32m[I 2022-10-07 16:32:46,452]\u001b[0m Trial 31 finished with value: 0.9783068895339966 and parameters: {'num_conv_layers': 1, 'filters': 64, 'kernel_size': 5, 'strides': 2, 'activation': 'relu', 'num_dense_layers': 2, 'units': 134, 'optimizer_name': 'Adam', 'learning_rate': 0.0022859969591482727}. Best is trial 12 with value: 0.9838624596595764.\u001b[0m\n"
     ]
    },
    {
     "name": "stdout",
     "output_type": "stream",
     "text": [
      "Epoch 1/3\n",
      "266/266 [==============================] - 3s 12ms/step - loss: 0.2423 - accuracy: 0.9254 - val_loss: 0.0927 - val_accuracy: 0.9757\n",
      "Epoch 2/3\n",
      "266/266 [==============================] - 4s 16ms/step - loss: 0.0656 - accuracy: 0.9800 - val_loss: 0.0801 - val_accuracy: 0.9775\n",
      "Epoch 3/3\n",
      "266/266 [==============================] - 4s 14ms/step - loss: 0.0406 - accuracy: 0.9868 - val_loss: 0.0569 - val_accuracy: 0.9810\n"
     ]
    },
    {
     "name": "stderr",
     "output_type": "stream",
     "text": [
      "\u001b[32m[I 2022-10-07 16:32:58,197]\u001b[0m Trial 32 finished with value: 0.9809523820877075 and parameters: {'num_conv_layers': 1, 'filters': 64, 'kernel_size': 5, 'strides': 2, 'activation': 'relu', 'num_dense_layers': 2, 'units': 199, 'optimizer_name': 'Adam', 'learning_rate': 0.001584638220804333}. Best is trial 12 with value: 0.9838624596595764.\u001b[0m\n"
     ]
    },
    {
     "name": "stdout",
     "output_type": "stream",
     "text": [
      "Epoch 1/3\n",
      "266/266 [==============================] - 3s 9ms/step - loss: 0.3032 - accuracy: 0.9058 - val_loss: 0.1173 - val_accuracy: 0.9653\n",
      "Epoch 2/3\n",
      "266/266 [==============================] - 2s 9ms/step - loss: 0.0827 - accuracy: 0.9748 - val_loss: 0.0830 - val_accuracy: 0.9762\n",
      "Epoch 3/3\n",
      "266/266 [==============================] - 2s 9ms/step - loss: 0.0516 - accuracy: 0.9832 - val_loss: 0.0726 - val_accuracy: 0.9802\n"
     ]
    },
    {
     "name": "stderr",
     "output_type": "stream",
     "text": [
      "\u001b[32m[I 2022-10-07 16:33:05,791]\u001b[0m Trial 33 finished with value: 0.9801587462425232 and parameters: {'num_conv_layers': 1, 'filters': 64, 'kernel_size': 5, 'strides': 2, 'activation': 'relu', 'num_dense_layers': 2, 'units': 52, 'optimizer_name': 'Adam', 'learning_rate': 0.0019681839611223606}. Best is trial 12 with value: 0.9838624596595764.\u001b[0m\n"
     ]
    },
    {
     "name": "stdout",
     "output_type": "stream",
     "text": [
      "Epoch 1/3\n",
      "266/266 [==============================] - 3s 12ms/step - loss: 0.3185 - accuracy: 0.9024 - val_loss: 0.1224 - val_accuracy: 0.9632\n",
      "Epoch 2/3\n",
      "266/266 [==============================] - 3s 12ms/step - loss: 0.0850 - accuracy: 0.9734 - val_loss: 0.0803 - val_accuracy: 0.9780\n",
      "Epoch 3/3\n",
      "266/266 [==============================] - 3s 13ms/step - loss: 0.0548 - accuracy: 0.9824 - val_loss: 0.0723 - val_accuracy: 0.9783\n"
     ]
    },
    {
     "name": "stderr",
     "output_type": "stream",
     "text": [
      "\u001b[32m[I 2022-10-07 16:33:16,123]\u001b[0m Trial 34 finished with value: 0.9783068895339966 and parameters: {'num_conv_layers': 1, 'filters': 64, 'kernel_size': 5, 'strides': 2, 'activation': 'relu', 'num_dense_layers': 2, 'units': 155, 'optimizer_name': 'Adam', 'learning_rate': 0.001046008023511306}. Best is trial 12 with value: 0.9838624596595764.\u001b[0m\n"
     ]
    },
    {
     "name": "stdout",
     "output_type": "stream",
     "text": [
      "Epoch 1/3\n",
      "266/266 [==============================] - 2s 7ms/step - loss: 0.2739 - accuracy: 0.9145 - val_loss: 0.1108 - val_accuracy: 0.9675\n",
      "Epoch 2/3\n",
      "266/266 [==============================] - 2s 7ms/step - loss: 0.0728 - accuracy: 0.9780 - val_loss: 0.0875 - val_accuracy: 0.9762\n",
      "Epoch 3/3\n",
      "266/266 [==============================] - 2s 7ms/step - loss: 0.0494 - accuracy: 0.9848 - val_loss: 0.0726 - val_accuracy: 0.9788\n"
     ]
    },
    {
     "name": "stderr",
     "output_type": "stream",
     "text": [
      "\u001b[32m[I 2022-10-07 16:33:22,171]\u001b[0m Trial 35 finished with value: 0.9788359999656677 and parameters: {'num_conv_layers': 1, 'filters': 32, 'kernel_size': 5, 'strides': 2, 'activation': 'relu', 'num_dense_layers': 2, 'units': 121, 'optimizer_name': 'Adam', 'learning_rate': 0.0021631028237980316}. Best is trial 12 with value: 0.9838624596595764.\u001b[0m\n"
     ]
    },
    {
     "name": "stdout",
     "output_type": "stream",
     "text": [
      "Epoch 1/3\n",
      "266/266 [==============================] - 13s 47ms/step - loss: 0.4537 - accuracy: 0.8738 - val_loss: 0.1761 - val_accuracy: 0.9516\n",
      "Epoch 2/3\n",
      "266/266 [==============================] - 13s 49ms/step - loss: 0.1672 - accuracy: 0.9475 - val_loss: 0.2144 - val_accuracy: 0.9405\n",
      "Epoch 3/3\n",
      "266/266 [==============================] - 13s 49ms/step - loss: 0.1393 - accuracy: 0.9574 - val_loss: 0.1528 - val_accuracy: 0.9585\n"
     ]
    },
    {
     "name": "stderr",
     "output_type": "stream",
     "text": [
      "\u001b[32m[I 2022-10-07 16:34:01,328]\u001b[0m Trial 36 finished with value: 0.9584656357765198 and parameters: {'num_conv_layers': 1, 'filters': 64, 'kernel_size': 5, 'strides': 1, 'activation': 'tanh', 'num_dense_layers': 2, 'units': 238, 'optimizer_name': 'RMSprop', 'learning_rate': 0.0030938870093104856, 'momentum': 0.617294947713203}. Best is trial 12 with value: 0.9838624596595764.\u001b[0m\n"
     ]
    },
    {
     "name": "stdout",
     "output_type": "stream",
     "text": [
      "Epoch 1/3\n",
      "266/266 [==============================] - 4s 14ms/step - loss: 0.2399 - accuracy: 0.9240 - val_loss: 0.1018 - val_accuracy: 0.9701\n",
      "Epoch 2/3\n",
      "266/266 [==============================] - 4s 14ms/step - loss: 0.0734 - accuracy: 0.9785 - val_loss: 0.0863 - val_accuracy: 0.9780\n",
      "Epoch 3/3\n",
      "266/266 [==============================] - 4s 13ms/step - loss: 0.0544 - accuracy: 0.9833 - val_loss: 0.0862 - val_accuracy: 0.9791\n"
     ]
    },
    {
     "name": "stderr",
     "output_type": "stream",
     "text": [
      "\u001b[32m[I 2022-10-07 16:34:12,610]\u001b[0m Trial 37 finished with value: 0.9791005253791809 and parameters: {'num_conv_layers': 1, 'filters': 64, 'kernel_size': 5, 'strides': 2, 'activation': 'relu', 'num_dense_layers': 2, 'units': 273, 'optimizer_name': 'Adam', 'learning_rate': 0.009939438393992705}. Best is trial 12 with value: 0.9838624596595764.\u001b[0m\n"
     ]
    },
    {
     "name": "stdout",
     "output_type": "stream",
     "text": [
      "Epoch 1/3\n",
      "266/266 [==============================] - 3s 11ms/step - loss: 0.2247 - accuracy: 0.9291 - val_loss: 0.1053 - val_accuracy: 0.9701\n",
      "Epoch 2/3\n",
      "266/266 [==============================] - 3s 10ms/step - loss: 0.0824 - accuracy: 0.9762 - val_loss: 0.1348 - val_accuracy: 0.9677\n",
      "Epoch 3/3\n",
      "266/266 [==============================] - 3s 11ms/step - loss: 0.0638 - accuracy: 0.9813 - val_loss: 0.1169 - val_accuracy: 0.9667\n"
     ]
    },
    {
     "name": "stderr",
     "output_type": "stream",
     "text": [
      "\u001b[32m[I 2022-10-07 16:34:21,480]\u001b[0m Trial 38 finished with value: 0.9666666388511658 and parameters: {'num_conv_layers': 1, 'filters': 32, 'kernel_size': 5, 'strides': 2, 'activation': 'relu', 'num_dense_layers': 2, 'units': 350, 'optimizer_name': 'RMSprop', 'learning_rate': 0.003840317644282336, 'momentum': 0.6124454353609168}. Best is trial 12 with value: 0.9838624596595764.\u001b[0m\n"
     ]
    },
    {
     "name": "stdout",
     "output_type": "stream",
     "text": [
      "Epoch 1/3\n",
      "266/266 [==============================] - 3s 12ms/step - loss: 2.2514 - accuracy: 0.2320 - val_loss: 2.1532 - val_accuracy: 0.4304\n",
      "Epoch 2/3\n",
      "266/266 [==============================] - 3s 11ms/step - loss: 2.0416 - accuracy: 0.5395 - val_loss: 1.9150 - val_accuracy: 0.5995\n",
      "Epoch 3/3\n",
      "266/266 [==============================] - 3s 12ms/step - loss: 1.7671 - accuracy: 0.6327 - val_loss: 1.6163 - val_accuracy: 0.6601\n"
     ]
    },
    {
     "name": "stderr",
     "output_type": "stream",
     "text": [
      "\u001b[32m[I 2022-10-07 16:34:31,259]\u001b[0m Trial 39 finished with value: 0.6600528955459595 and parameters: {'num_conv_layers': 2, 'filters': 16, 'kernel_size': 3, 'strides': 2, 'activation': 'tanh', 'num_dense_layers': 3, 'units': 181, 'optimizer_name': 'Adam', 'learning_rate': 9.908405948296558e-06}. Best is trial 12 with value: 0.9838624596595764.\u001b[0m\n"
     ]
    },
    {
     "name": "stdout",
     "output_type": "stream",
     "text": [
      "Epoch 1/3\n",
      "266/266 [==============================] - 138s 519ms/step - loss: 1.1750 - accuracy: 0.5852 - val_loss: 0.7998 - val_accuracy: 0.7497\n",
      "Epoch 2/3\n",
      "266/266 [==============================] - 134s 505ms/step - loss: 0.5984 - accuracy: 0.8238 - val_loss: 0.4887 - val_accuracy: 0.8611\n",
      "Epoch 3/3\n",
      "266/266 [==============================] - 140s 525ms/step - loss: 0.3904 - accuracy: 0.8859 - val_loss: 0.3211 - val_accuracy: 0.9378\n"
     ]
    },
    {
     "name": "stderr",
     "output_type": "stream",
     "text": [
      "\u001b[32m[I 2022-10-07 16:41:23,954]\u001b[0m Trial 40 finished with value: 0.9378306865692139 and parameters: {'num_conv_layers': 2, 'filters': 64, 'kernel_size': 5, 'strides': 1, 'activation': 'relu', 'num_dense_layers': 1, 'units': 5, 'optimizer_name': 'Adam', 'learning_rate': 0.0016026768417814273}. Best is trial 12 with value: 0.9838624596595764.\u001b[0m\n"
     ]
    },
    {
     "name": "stdout",
     "output_type": "stream",
     "text": [
      "Epoch 1/3\n",
      "266/266 [==============================] - 5s 18ms/step - loss: 0.2484 - accuracy: 0.9229 - val_loss: 0.0908 - val_accuracy: 0.9741\n",
      "Epoch 2/3\n",
      "266/266 [==============================] - 4s 17ms/step - loss: 0.0641 - accuracy: 0.9805 - val_loss: 0.0705 - val_accuracy: 0.9794\n",
      "Epoch 3/3\n",
      "266/266 [==============================] - 4s 16ms/step - loss: 0.0402 - accuracy: 0.9865 - val_loss: 0.0571 - val_accuracy: 0.9828\n"
     ]
    },
    {
     "name": "stderr",
     "output_type": "stream",
     "text": [
      "\u001b[32m[I 2022-10-07 16:41:38,165]\u001b[0m Trial 41 finished with value: 0.9828042387962341 and parameters: {'num_conv_layers': 1, 'filters': 64, 'kernel_size': 5, 'strides': 2, 'activation': 'relu', 'num_dense_layers': 2, 'units': 237, 'optimizer_name': 'Adam', 'learning_rate': 0.00147076283876527}. Best is trial 12 with value: 0.9838624596595764.\u001b[0m\n"
     ]
    },
    {
     "name": "stdout",
     "output_type": "stream",
     "text": [
      "Epoch 1/3\n",
      "266/266 [==============================] - 5s 16ms/step - loss: 0.3992 - accuracy: 0.8844 - val_loss: 0.1607 - val_accuracy: 0.9542\n",
      "Epoch 2/3\n",
      "266/266 [==============================] - 4s 16ms/step - loss: 0.1072 - accuracy: 0.9679 - val_loss: 0.0953 - val_accuracy: 0.9746\n",
      "Epoch 3/3\n",
      "266/266 [==============================] - 4s 16ms/step - loss: 0.0677 - accuracy: 0.9795 - val_loss: 0.0739 - val_accuracy: 0.9786\n"
     ]
    },
    {
     "name": "stderr",
     "output_type": "stream",
     "text": [
      "\u001b[32m[I 2022-10-07 16:41:51,589]\u001b[0m Trial 42 finished with value: 0.9785714149475098 and parameters: {'num_conv_layers': 1, 'filters': 64, 'kernel_size': 5, 'strides': 2, 'activation': 'relu', 'num_dense_layers': 2, 'units': 232, 'optimizer_name': 'Adam', 'learning_rate': 0.0005175700019595675}. Best is trial 12 with value: 0.9838624596595764.\u001b[0m\n"
     ]
    },
    {
     "name": "stdout",
     "output_type": "stream",
     "text": [
      "Epoch 1/3\n",
      "266/266 [==============================] - 4s 14ms/step - loss: 0.3133 - accuracy: 0.9043 - val_loss: 0.1060 - val_accuracy: 0.9712\n",
      "Epoch 2/3\n",
      "266/266 [==============================] - 4s 14ms/step - loss: 0.0791 - accuracy: 0.9756 - val_loss: 0.0849 - val_accuracy: 0.9735\n",
      "Epoch 3/3\n",
      "266/266 [==============================] - 4s 14ms/step - loss: 0.0506 - accuracy: 0.9842 - val_loss: 0.0640 - val_accuracy: 0.9810\n"
     ]
    },
    {
     "name": "stderr",
     "output_type": "stream",
     "text": [
      "\u001b[32m[I 2022-10-07 16:42:03,106]\u001b[0m Trial 43 finished with value: 0.9809523820877075 and parameters: {'num_conv_layers': 1, 'filters': 64, 'kernel_size': 5, 'strides': 2, 'activation': 'relu', 'num_dense_layers': 2, 'units': 157, 'optimizer_name': 'Adam', 'learning_rate': 0.0011793584827987933}. Best is trial 12 with value: 0.9838624596595764.\u001b[0m\n"
     ]
    },
    {
     "name": "stdout",
     "output_type": "stream",
     "text": [
      "Epoch 1/3\n",
      "266/266 [==============================] - 4s 15ms/step - loss: 0.2204 - accuracy: 0.9316 - val_loss: 0.0861 - val_accuracy: 0.9775\n",
      "Epoch 2/3\n",
      "266/266 [==============================] - 4s 14ms/step - loss: 0.0610 - accuracy: 0.9806 - val_loss: 0.0854 - val_accuracy: 0.9738\n",
      "Epoch 3/3\n",
      "266/266 [==============================] - 4s 14ms/step - loss: 0.0359 - accuracy: 0.9886 - val_loss: 0.0646 - val_accuracy: 0.9796\n"
     ]
    },
    {
     "name": "stderr",
     "output_type": "stream",
     "text": [
      "\u001b[32m[I 2022-10-07 16:42:15,141]\u001b[0m Trial 44 finished with value: 0.979629635810852 and parameters: {'num_conv_layers': 1, 'filters': 64, 'kernel_size': 5, 'strides': 2, 'activation': 'relu', 'num_dense_layers': 2, 'units': 199, 'optimizer_name': 'Adam', 'learning_rate': 0.002425426903282342}. Best is trial 12 with value: 0.9838624596595764.\u001b[0m\n"
     ]
    },
    {
     "name": "stdout",
     "output_type": "stream",
     "text": [
      "Epoch 1/3\n",
      "266/266 [==============================] - 5s 18ms/step - loss: 0.3763 - accuracy: 0.8839 - val_loss: 0.1734 - val_accuracy: 0.9542\n",
      "Epoch 2/3\n",
      "266/266 [==============================] - 5s 18ms/step - loss: 0.0945 - accuracy: 0.9724 - val_loss: 0.1140 - val_accuracy: 0.9693\n",
      "Epoch 3/3\n",
      "266/266 [==============================] - 5s 18ms/step - loss: 0.0680 - accuracy: 0.9799 - val_loss: 0.1018 - val_accuracy: 0.9765\n"
     ]
    },
    {
     "name": "stderr",
     "output_type": "stream",
     "text": [
      "\u001b[32m[I 2022-10-07 16:42:29,848]\u001b[0m Trial 45 finished with value: 0.97645503282547 and parameters: {'num_conv_layers': 1, 'filters': 64, 'kernel_size': 3, 'strides': 2, 'activation': 'relu', 'num_dense_layers': 2, 'units': 337, 'optimizer_name': 'RMSprop', 'learning_rate': 0.008232690129492373, 'momentum': 0.12874100955626838}. Best is trial 12 with value: 0.9838624596595764.\u001b[0m\n"
     ]
    },
    {
     "name": "stdout",
     "output_type": "stream",
     "text": [
      "Epoch 1/3\n",
      "266/266 [==============================] - 6s 23ms/step - loss: 0.4976 - accuracy: 0.8530 - val_loss: 0.1921 - val_accuracy: 0.9423\n",
      "Epoch 2/3\n",
      "266/266 [==============================] - 6s 22ms/step - loss: 0.1419 - accuracy: 0.9562 - val_loss: 0.1337 - val_accuracy: 0.9603\n",
      "Epoch 3/3\n",
      "266/266 [==============================] - 6s 21ms/step - loss: 0.0947 - accuracy: 0.9708 - val_loss: 0.1221 - val_accuracy: 0.9656\n"
     ]
    },
    {
     "name": "stderr",
     "output_type": "stream",
     "text": [
      "\u001b[32m[I 2022-10-07 16:42:47,959]\u001b[0m Trial 46 finished with value: 0.9656084775924683 and parameters: {'num_conv_layers': 3, 'filters': 32, 'kernel_size': 5, 'strides': 2, 'activation': 'relu', 'num_dense_layers': 2, 'units': 110, 'optimizer_name': 'Adam', 'learning_rate': 0.0006110464307694124}. Best is trial 12 with value: 0.9838624596595764.\u001b[0m\n"
     ]
    },
    {
     "name": "stdout",
     "output_type": "stream",
     "text": [
      "Epoch 1/3\n",
      "266/266 [==============================] - 5s 17ms/step - loss: 0.2384 - accuracy: 0.9257 - val_loss: 0.0924 - val_accuracy: 0.9722\n",
      "Epoch 2/3\n",
      "266/266 [==============================] - 4s 17ms/step - loss: 0.0611 - accuracy: 0.9809 - val_loss: 0.0695 - val_accuracy: 0.9788\n",
      "Epoch 3/3\n",
      "266/266 [==============================] - 5s 18ms/step - loss: 0.0375 - accuracy: 0.9876 - val_loss: 0.0592 - val_accuracy: 0.9836\n"
     ]
    },
    {
     "name": "stderr",
     "output_type": "stream",
     "text": [
      "\u001b[32m[I 2022-10-07 16:43:02,314]\u001b[0m Trial 47 finished with value: 0.9835978746414185 and parameters: {'num_conv_layers': 1, 'filters': 64, 'kernel_size': 5, 'strides': 2, 'activation': 'relu', 'num_dense_layers': 2, 'units': 285, 'optimizer_name': 'Adam', 'learning_rate': 0.0015556546500336747}. Best is trial 12 with value: 0.9838624596595764.\u001b[0m\n"
     ]
    },
    {
     "name": "stdout",
     "output_type": "stream",
     "text": [
      "Epoch 1/3\n",
      "266/266 [==============================] - 7s 26ms/step - loss: 0.2137 - accuracy: 0.9341 - val_loss: 0.1086 - val_accuracy: 0.9672\n",
      "Epoch 2/3\n",
      "266/266 [==============================] - 7s 25ms/step - loss: 0.0732 - accuracy: 0.9765 - val_loss: 0.1024 - val_accuracy: 0.9706\n",
      "Epoch 3/3\n",
      "266/266 [==============================] - 8s 29ms/step - loss: 0.0508 - accuracy: 0.9839 - val_loss: 0.0837 - val_accuracy: 0.9754\n"
     ]
    },
    {
     "name": "stderr",
     "output_type": "stream",
     "text": [
      "\u001b[32m[I 2022-10-07 16:43:25,054]\u001b[0m Trial 48 finished with value: 0.9753968119621277 and parameters: {'num_conv_layers': 1, 'filters': 64, 'kernel_size': 5, 'strides': 2, 'activation': 'tanh', 'num_dense_layers': 2, 'units': 283, 'optimizer_name': 'Adam', 'learning_rate': 0.001355294894328307}. Best is trial 12 with value: 0.9838624596595764.\u001b[0m\n"
     ]
    },
    {
     "name": "stdout",
     "output_type": "stream",
     "text": [
      "Epoch 1/3\n",
      "266/266 [==============================] - 24s 79ms/step - loss: 0.2284 - accuracy: 0.9263 - val_loss: 0.0966 - val_accuracy: 0.9717\n",
      "Epoch 2/3\n",
      "266/266 [==============================] - 3s 11ms/step - loss: 0.0757 - accuracy: 0.9762 - val_loss: 0.0819 - val_accuracy: 0.9749\n",
      "Epoch 3/3\n",
      "266/266 [==============================] - 3s 10ms/step - loss: 0.0476 - accuracy: 0.9846 - val_loss: 0.0782 - val_accuracy: 0.9780\n"
     ]
    },
    {
     "name": "stderr",
     "output_type": "stream",
     "text": [
      "\u001b[32m[I 2022-10-07 16:44:02,850]\u001b[0m Trial 49 finished with value: 0.9780423045158386 and parameters: {'num_conv_layers': 1, 'filters': 16, 'kernel_size': 3, 'strides': 2, 'activation': 'relu', 'num_dense_layers': 2, 'units': 416, 'optimizer_name': 'Adam', 'learning_rate': 0.0031886618054231893}. Best is trial 12 with value: 0.9838624596595764.\u001b[0m\n"
     ]
    },
    {
     "name": "stdout",
     "output_type": "stream",
     "text": [
      "Epoch 1/3\n",
      "266/266 [==============================] - 6s 23ms/step - loss: 0.1929 - accuracy: 0.9373 - val_loss: 0.0978 - val_accuracy: 0.9704\n",
      "Epoch 2/3\n",
      "266/266 [==============================] - 6s 24ms/step - loss: 0.0676 - accuracy: 0.9796 - val_loss: 0.0790 - val_accuracy: 0.9778\n",
      "Epoch 3/3\n",
      "266/266 [==============================] - 6s 24ms/step - loss: 0.0453 - accuracy: 0.9865 - val_loss: 0.0723 - val_accuracy: 0.9791\n"
     ]
    },
    {
     "name": "stderr",
     "output_type": "stream",
     "text": [
      "\u001b[32m[I 2022-10-07 16:44:23,149]\u001b[0m Trial 50 finished with value: 0.9791005253791809 and parameters: {'num_conv_layers': 1, 'filters': 64, 'kernel_size': 5, 'strides': 2, 'activation': 'relu', 'num_dense_layers': 3, 'units': 387, 'optimizer_name': 'Adam', 'learning_rate': 0.004228461199504465}. Best is trial 12 with value: 0.9838624596595764.\u001b[0m\n"
     ]
    },
    {
     "name": "stdout",
     "output_type": "stream",
     "text": [
      "Epoch 1/3\n",
      "266/266 [==============================] - 6s 20ms/step - loss: 0.2117 - accuracy: 0.9324 - val_loss: 0.0804 - val_accuracy: 0.9751\n",
      "Epoch 2/3\n",
      "266/266 [==============================] - 5s 20ms/step - loss: 0.0577 - accuracy: 0.9821 - val_loss: 0.0751 - val_accuracy: 0.9786\n",
      "Epoch 3/3\n",
      "266/266 [==============================] - 5s 18ms/step - loss: 0.0358 - accuracy: 0.9889 - val_loss: 0.0586 - val_accuracy: 0.9823\n"
     ]
    },
    {
     "name": "stderr",
     "output_type": "stream",
     "text": [
      "\u001b[32m[I 2022-10-07 16:44:39,794]\u001b[0m Trial 51 finished with value: 0.982275128364563 and parameters: {'num_conv_layers': 1, 'filters': 64, 'kernel_size': 5, 'strides': 2, 'activation': 'relu', 'num_dense_layers': 2, 'units': 321, 'optimizer_name': 'Adam', 'learning_rate': 0.001884633735732479}. Best is trial 12 with value: 0.9838624596595764.\u001b[0m\n"
     ]
    },
    {
     "name": "stdout",
     "output_type": "stream",
     "text": [
      "Epoch 1/3\n",
      "266/266 [==============================] - 8s 24ms/step - loss: 0.1788 - accuracy: 0.9432 - val_loss: 0.0804 - val_accuracy: 0.9759\n",
      "Epoch 2/3\n",
      "266/266 [==============================] - 6s 22ms/step - loss: 0.0531 - accuracy: 0.9837 - val_loss: 0.0731 - val_accuracy: 0.9815\n",
      "Epoch 3/3\n",
      "266/266 [==============================] - 6s 23ms/step - loss: 0.0346 - accuracy: 0.9883 - val_loss: 0.0570 - val_accuracy: 0.9841\n"
     ]
    },
    {
     "name": "stderr",
     "output_type": "stream",
     "text": [
      "\u001b[32m[I 2022-10-07 16:45:00,565]\u001b[0m Trial 52 finished with value: 0.9841269850730896 and parameters: {'num_conv_layers': 1, 'filters': 64, 'kernel_size': 5, 'strides': 2, 'activation': 'relu', 'num_dense_layers': 2, 'units': 507, 'optimizer_name': 'Adam', 'learning_rate': 0.0025820214359712837}. Best is trial 52 with value: 0.9841269850730896.\u001b[0m\n"
     ]
    },
    {
     "name": "stdout",
     "output_type": "stream",
     "text": [
      "Epoch 1/3\n",
      "266/266 [==============================] - 5s 16ms/step - loss: 0.2178 - accuracy: 0.9317 - val_loss: 0.0912 - val_accuracy: 0.9730\n",
      "Epoch 2/3\n",
      "266/266 [==============================] - 4s 16ms/step - loss: 0.0617 - accuracy: 0.9807 - val_loss: 0.0785 - val_accuracy: 0.9749\n",
      "Epoch 3/3\n",
      "266/266 [==============================] - 4s 16ms/step - loss: 0.0389 - accuracy: 0.9876 - val_loss: 0.0552 - val_accuracy: 0.9839\n"
     ]
    },
    {
     "name": "stderr",
     "output_type": "stream",
     "text": [
      "\u001b[32m[I 2022-10-07 16:45:13,816]\u001b[0m Trial 53 finished with value: 0.9838624596595764 and parameters: {'num_conv_layers': 1, 'filters': 64, 'kernel_size': 5, 'strides': 2, 'activation': 'relu', 'num_dense_layers': 2, 'units': 228, 'optimizer_name': 'Adam', 'learning_rate': 0.00259252545902319}. Best is trial 52 with value: 0.9841269850730896.\u001b[0m\n"
     ]
    },
    {
     "name": "stdout",
     "output_type": "stream",
     "text": [
      "Epoch 1/3\n",
      "266/266 [==============================] - 6s 22ms/step - loss: 0.1907 - accuracy: 0.9392 - val_loss: 0.0872 - val_accuracy: 0.9751\n",
      "Epoch 2/3\n",
      "266/266 [==============================] - 6s 22ms/step - loss: 0.0540 - accuracy: 0.9829 - val_loss: 0.0772 - val_accuracy: 0.9791\n",
      "Epoch 3/3\n",
      "266/266 [==============================] - 6s 22ms/step - loss: 0.0342 - accuracy: 0.9891 - val_loss: 0.0596 - val_accuracy: 0.9825\n"
     ]
    },
    {
     "name": "stderr",
     "output_type": "stream",
     "text": [
      "\u001b[32m[I 2022-10-07 16:45:32,026]\u001b[0m Trial 54 finished with value: 0.9825396537780762 and parameters: {'num_conv_layers': 1, 'filters': 64, 'kernel_size': 5, 'strides': 2, 'activation': 'relu', 'num_dense_layers': 2, 'units': 502, 'optimizer_name': 'Adam', 'learning_rate': 0.00277901013753445}. Best is trial 52 with value: 0.9841269850730896.\u001b[0m\n"
     ]
    },
    {
     "name": "stdout",
     "output_type": "stream",
     "text": [
      "Epoch 1/3\n",
      "266/266 [==============================] - 6s 23ms/step - loss: 0.1916 - accuracy: 0.9384 - val_loss: 0.0813 - val_accuracy: 0.9767\n",
      "Epoch 2/3\n",
      "266/266 [==============================] - 6s 22ms/step - loss: 0.0523 - accuracy: 0.9830 - val_loss: 0.0722 - val_accuracy: 0.9783\n",
      "Epoch 3/3\n",
      "266/266 [==============================] - 6s 22ms/step - loss: 0.0330 - accuracy: 0.9891 - val_loss: 0.0692 - val_accuracy: 0.9820\n"
     ]
    },
    {
     "name": "stderr",
     "output_type": "stream",
     "text": [
      "\u001b[32m[I 2022-10-07 16:45:50,194]\u001b[0m Trial 55 finished with value: 0.9820106029510498 and parameters: {'num_conv_layers': 1, 'filters': 64, 'kernel_size': 5, 'strides': 2, 'activation': 'relu', 'num_dense_layers': 2, 'units': 494, 'optimizer_name': 'Adam', 'learning_rate': 0.0025539568952152613}. Best is trial 52 with value: 0.9841269850730896.\u001b[0m\n"
     ]
    },
    {
     "name": "stdout",
     "output_type": "stream",
     "text": [
      "Epoch 1/3\n",
      "266/266 [==============================] - 4s 16ms/step - loss: 0.1944 - accuracy: 0.9384 - val_loss: 0.0847 - val_accuracy: 0.9746\n",
      "Epoch 2/3\n",
      "266/266 [==============================] - 4s 16ms/step - loss: 0.0569 - accuracy: 0.9820 - val_loss: 0.0845 - val_accuracy: 0.9741\n",
      "Epoch 3/3\n",
      "266/266 [==============================] - 4s 15ms/step - loss: 0.0363 - accuracy: 0.9885 - val_loss: 0.0652 - val_accuracy: 0.9812\n"
     ]
    },
    {
     "name": "stderr",
     "output_type": "stream",
     "text": [
      "\u001b[32m[I 2022-10-07 16:46:03,107]\u001b[0m Trial 56 finished with value: 0.9812169075012207 and parameters: {'num_conv_layers': 1, 'filters': 64, 'kernel_size': 5, 'strides': 2, 'activation': 'relu', 'num_dense_layers': 2, 'units': 225, 'optimizer_name': 'Adam', 'learning_rate': 0.00315395353855425}. Best is trial 52 with value: 0.9841269850730896.\u001b[0m\n"
     ]
    },
    {
     "name": "stdout",
     "output_type": "stream",
     "text": [
      "Epoch 1/3\n",
      "266/266 [==============================] - 4s 14ms/step - loss: 0.1961 - accuracy: 0.9370 - val_loss: 0.0872 - val_accuracy: 0.9759\n",
      "Epoch 2/3\n",
      "266/266 [==============================] - 4s 14ms/step - loss: 0.0578 - accuracy: 0.9818 - val_loss: 0.0689 - val_accuracy: 0.9794\n",
      "Epoch 3/3\n",
      "266/266 [==============================] - 4s 14ms/step - loss: 0.0362 - accuracy: 0.9878 - val_loss: 0.0641 - val_accuracy: 0.9807\n"
     ]
    },
    {
     "name": "stderr",
     "output_type": "stream",
     "text": [
      "\u001b[32m[I 2022-10-07 16:46:14,948]\u001b[0m Trial 57 finished with value: 0.9806878566741943 and parameters: {'num_conv_layers': 1, 'filters': 64, 'kernel_size': 5, 'strides': 2, 'activation': 'relu', 'num_dense_layers': 2, 'units': 170, 'optimizer_name': 'Adam', 'learning_rate': 0.003930463057382824}. Best is trial 52 with value: 0.9841269850730896.\u001b[0m\n"
     ]
    },
    {
     "name": "stdout",
     "output_type": "stream",
     "text": [
      "Epoch 1/3\n",
      "266/266 [==============================] - 143s 537ms/step - loss: 0.1639 - accuracy: 0.9479 - val_loss: 0.0625 - val_accuracy: 0.9823\n",
      "Epoch 2/3\n",
      "266/266 [==============================] - 140s 526ms/step - loss: 0.0445 - accuracy: 0.9857 - val_loss: 0.0648 - val_accuracy: 0.9841\n",
      "Epoch 3/3\n",
      "266/266 [==============================] - 135s 507ms/step - loss: 0.0274 - accuracy: 0.9915 - val_loss: 0.0607 - val_accuracy: 0.9862\n"
     ]
    },
    {
     "name": "stderr",
     "output_type": "stream",
     "text": [
      "\u001b[32m[I 2022-10-07 16:53:13,318]\u001b[0m Trial 58 finished with value: 0.9862433671951294 and parameters: {'num_conv_layers': 2, 'filters': 64, 'kernel_size': 5, 'strides': 1, 'activation': 'relu', 'num_dense_layers': 1, 'units': 464, 'optimizer_name': 'RMSprop', 'learning_rate': 0.0007228774553249635, 'momentum': 0.6901026083118498}. Best is trial 58 with value: 0.9862433671951294.\u001b[0m\n"
     ]
    },
    {
     "name": "stdout",
     "output_type": "stream",
     "text": [
      "Epoch 1/3\n",
      "266/266 [==============================] - 136s 510ms/step - loss: 0.1611 - accuracy: 0.9503 - val_loss: 0.0619 - val_accuracy: 0.9802\n",
      "Epoch 2/3\n",
      "266/266 [==============================] - 137s 515ms/step - loss: 0.0439 - accuracy: 0.9859 - val_loss: 0.0678 - val_accuracy: 0.9833\n",
      "Epoch 3/3\n",
      "266/266 [==============================] - 138s 518ms/step - loss: 0.0292 - accuracy: 0.9911 - val_loss: 0.0491 - val_accuracy: 0.9870\n"
     ]
    },
    {
     "name": "stderr",
     "output_type": "stream",
     "text": [
      "\u001b[32m[I 2022-10-07 17:00:04,401]\u001b[0m Trial 59 finished with value: 0.9870370626449585 and parameters: {'num_conv_layers': 2, 'filters': 64, 'kernel_size': 5, 'strides': 1, 'activation': 'relu', 'num_dense_layers': 1, 'units': 472, 'optimizer_name': 'RMSprop', 'learning_rate': 0.0008511918040171204, 'momentum': 0.6944741864418609}. Best is trial 59 with value: 0.9870370626449585.\u001b[0m\n"
     ]
    }
   ],
   "source": [
    "study = optuna.create_study(\n",
    "    direction='maximize',\n",
    "    study_name=study_name,\n",
    "    storage=storage_name,\n",
    "    load_if_exists=True,\n",
    ")\n",
    "\n",
    "study.optimize(objective, n_trials=30)"
   ]
  },
  {
   "cell_type": "markdown",
   "metadata": {},
   "source": [
    "# Analyze results"
   ]
  },
  {
   "cell_type": "code",
   "execution_count": 21,
   "metadata": {},
   "outputs": [
    {
     "data": {
      "text/plain": [
       "{'activation': 'relu',\n",
       " 'filters': 64,\n",
       " 'kernel_size': 5,\n",
       " 'learning_rate': 0.0008511918040171204,\n",
       " 'momentum': 0.6944741864418609,\n",
       " 'num_conv_layers': 2,\n",
       " 'num_dense_layers': 1,\n",
       " 'optimizer_name': 'RMSprop',\n",
       " 'strides': 1,\n",
       " 'units': 472}"
      ]
     },
     "execution_count": 21,
     "metadata": {},
     "output_type": "execute_result"
    }
   ],
   "source": [
    "study.best_params"
   ]
  },
  {
   "cell_type": "code",
   "execution_count": 22,
   "metadata": {},
   "outputs": [
    {
     "data": {
      "text/plain": [
       "0.9870370626449585"
      ]
     },
     "execution_count": 22,
     "metadata": {},
     "output_type": "execute_result"
    }
   ],
   "source": [
    "study.best_value"
   ]
  },
  {
   "cell_type": "code",
   "execution_count": 23,
   "metadata": {},
   "outputs": [
    {
     "data": {
      "text/plain": [
       "Text(0, 0.5, 'Accuracy')"
      ]
     },
     "execution_count": 23,
     "metadata": {},
     "output_type": "execute_result"
    },
    {
     "data": {
      "image/png": "[encoded data removed]",
      "text/plain": [
       "<Figure size 640x480 with 1 Axes>"
      ]
     },
     "metadata": {},
     "output_type": "display_data"
    }
   ],
   "source": [
    "results = study.trials_dataframe()\n",
    "\n",
    "results['value'].sort_values().reset_index(drop=True).plot()\n",
    "plt.title('Convergence plot')\n",
    "plt.xlabel('Iteration')\n",
    "plt.ylabel('Accuracy')"
   ]
  },
  {
   "cell_type": "markdown",
   "metadata": {
    "_cell_guid": "e758621d-b27b-40ff-a93f-bebd2e0e5243",
    "_uuid": "0a1834f2a9f2db15dcaba4a84004b9627d714469"
   },
   "source": [
    "# Evaluate the model"
   ]
  },
  {
   "cell_type": "code",
   "execution_count": 24,
   "metadata": {},
   "outputs": [],
   "source": [
    "# load best model\n",
    "\n",
    "model = load_model(path_best_model)"
   ]
  },
  {
   "cell_type": "code",
   "execution_count": 25,
   "metadata": {},
   "outputs": [
    {
     "name": "stdout",
     "output_type": "stream",
     "text": [
      "Model: \"sequential_29\"\n",
      "_________________________________________________________________\n",
      "Layer (type)                 Output Shape              Param #   \n",
      "=================================================================\n",
      "conv2d_35 (Conv2D)           (None, 28, 28, 64)        1664      \n",
      "_________________________________________________________________\n",
      "conv2d_36 (Conv2D)           (None, 28, 28, 64)        102464    \n",
      "_________________________________________________________________\n",
      "max_pooling2d_29 (MaxPooling (None, 14, 14, 64)        0         \n",
      "_________________________________________________________________\n",
      "flatten_29 (Flatten)         (None, 12544)             0         \n",
      "_________________________________________________________________\n",
      "dense_87 (Dense)             (None, 472)               5921240   \n",
      "_________________________________________________________________\n",
      "dense_88 (Dense)             (None, 10)                4730      \n",
      "=================================================================\n",
      "Total params: 6,030,098\n",
      "Trainable params: 6,030,098\n",
      "Non-trainable params: 0\n",
      "_________________________________________________________________\n"
     ]
    }
   ],
   "source": [
    "model.summary()"
   ]
  },
  {
   "cell_type": "code",
   "execution_count": 26,
   "metadata": {},
   "outputs": [
    {
     "name": "stdout",
     "output_type": "stream",
     "text": [
      "132/132 [==============================] - 3s 19ms/step - loss: 0.0378 - accuracy: 0.9879\n"
     ]
    }
   ],
   "source": [
    "# make predictions in test set\n",
    "\n",
    "result = model.evaluate(x=X_test,\n",
    "                        y=y_test)"
   ]
  },
  {
   "cell_type": "code",
   "execution_count": 27,
   "metadata": {},
   "outputs": [
    {
     "name": "stdout",
     "output_type": "stream",
     "text": [
      "loss 0.03779510781168938\n",
      "accuracy 0.9878571629524231\n"
     ]
    }
   ],
   "source": [
    "# print evaluation metrics\n",
    "\n",
    "for name, value in zip(model.metrics_names, result):\n",
    "    print(name, value)"
   ]
  },
  {
   "cell_type": "markdown",
   "metadata": {
    "_cell_guid": "5688faa0-b33b-4e92-b125-7fa0b37e7df3",
    "_uuid": "3306d29b732341663e50866140dc569360701a81"
   },
   "source": [
    "## Confusion matrix"
   ]
  },
  {
   "cell_type": "code",
   "execution_count": 28,
   "metadata": {},
   "outputs": [
    {
     "data": {
      "text/plain": [
       "array([[418,   0,   0,   0,   0,   0,   1,   0,   2,   1],\n",
       "       [  0, 470,   0,   0,   0,   0,   1,   1,   1,   0],\n",
       "       [  0,   1, 405,   0,   0,   0,   1,   0,   2,   0],\n",
       "       [  0,   0,   1, 420,   0,   3,   0,   2,   0,   0],\n",
       "       [  1,   1,   0,   0, 423,   0,   2,   1,   0,   1],\n",
       "       [  0,   0,   0,   1,   0, 377,   2,   1,   1,   0],\n",
       "       [  0,   0,   0,   0,   2,   0, 409,   0,   0,   1],\n",
       "       [  0,   3,   3,   0,   0,   1,   0, 462,   0,   0],\n",
       "       [  0,   1,   1,   0,   0,   0,   2,   0, 380,   0],\n",
       "       [  1,   1,   0,   0,   6,   0,   0,   0,   1, 385]])"
      ]
     },
     "execution_count": 28,
     "metadata": {},
     "output_type": "execute_result"
    }
   ],
   "source": [
    "# Predict the values from the validation dataset\n",
    "y_pred = model.predict(X_test)\n",
    "\n",
    "# Convert predictions classes to one hot vectors \n",
    "y_pred_classes = np.argmax(y_pred, axis = 1)\n",
    "\n",
    "# Convert validation observations to one hot vectors\n",
    "y_true = np.argmax(y_test, axis = 1)\n",
    "\n",
    "# compute the confusion matrix\n",
    "cm = confusion_matrix(y_true, y_pred_classes) \n",
    "\n",
    "cm"
   ]
  },
  {
   "cell_type": "code",
   "execution_count": 29,
   "metadata": {
    "_cell_guid": "11361e73-8250-4bf5-a353-b0f8ea83e659",
    "_execution_state": "idle",
    "_uuid": "16e161179bf1b51ba66c39b2cead883f1db3a9c7"
   },
   "outputs": [
    {
     "data": {
      "text/plain": [
       "Text(0.5, 21.34715460257995, 'Predicted label')"
      ]
     },
     "execution_count": 29,
     "metadata": {},
     "output_type": "execute_result"
    },
    {
     "data": {
      "image/png": "[encoded data removed]",
      "text/plain": [
       "<Figure size 640x480 with 2 Axes>"
      ]
     },
     "metadata": {},
     "output_type": "display_data"
    }
   ],
   "source": [
    "# let's make it more colourful\n",
    "classes = 10\n",
    "\n",
    "plt.imshow(cm, interpolation='nearest', cmap=plt.cm.Blues)\n",
    "plt.title('Confusion matrix')\n",
    "plt.colorbar()\n",
    "tick_marks = np.arange(classes)\n",
    "plt.xticks(tick_marks, range(classes), rotation=45)\n",
    "plt.yticks(tick_marks, range(classes))\n",
    "\n",
    "for i, j in itertools.product(range(cm.shape[0]), range(cm.shape[1])):\n",
    "    plt.text(j, i, cm[i, j],\n",
    "             horizontalalignment=\"center\",\n",
    "             color=\"white\" if cm[i, j] > 100 else \"black\",\n",
    "            )\n",
    "\n",
    "plt.tight_layout()\n",
    "plt.ylabel('True label')\n",
    "plt.xlabel('Predicted label')"
   ]
  },
  {
   "cell_type": "markdown",
   "metadata": {
    "_cell_guid": "1b8a5cdc-9122-4e31-b9fa-0f6b57d33fc8",
    "_uuid": "ecb928433299b163ecc1f6c4e66d4ddcf38fe898"
   },
   "source": [
    "Here we can see that our CNN performs very well on all digits."
   ]
  },
  {
   "cell_type": "code",
   "execution_count": null,
   "metadata": {},
   "outputs": [],
   "source": []
  }
 ],
 "metadata": {
  "kernelspec": {
   "display_name": "Python 3.9.14 ('hyperparameter-optimization': venv)",
   "language": "python",
   "name": "python3"
  },
  "language_info": {
   "codemirror_mode": {
    "name": "ipython",
    "version": 3
   },
   "file_extension": ".py",
   "mimetype": "text/x-python",
   "name": "python",
   "nbconvert_exporter": "python",
   "pygments_lexer": "ipython3",
   "version": "3.9.14"
  },
  "toc": {
   "base_numbering": 1,
   "nav_menu": {},
   "number_sections": true,
   "sideBar": true,
   "skip_h1_title": false,
   "title_cell": "Table of Contents",
   "title_sidebar": "Contents",
   "toc_cell": false,
   "toc_position": {
    "height": "calc(100% - 180px)",
    "left": "10px",
    "top": "150px",
    "width": "288.467px"
   },
   "toc_section_display": true,
   "toc_window_display": true
  },
  "vscode": {
   "interpreter": {
    "hash": "2b5166dc44e1c447f633fd495edf8ade93e6e9a81bfb1e7ede5f55ce3b3ba8fa"
   }
  }
 },
 "nbformat": 4,
 "nbformat_minor": 2
}
